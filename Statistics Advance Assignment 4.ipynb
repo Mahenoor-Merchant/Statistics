{
 "cells": [
  {
   "cell_type": "markdown",
   "id": "c69d3dab-3d80-46e9-ba34-3e36f7fcf8c9",
   "metadata": {},
   "source": [
    "# Statistics Advance Assignment 4"
   ]
  },
  {
   "cell_type": "markdown",
   "id": "309c3376-4409-4592-82be-f3800ae62981",
   "metadata": {},
   "source": [
    "### Q1: What is the difference between a t-test and a z-test? Provide an example scenario where you would use each type of test."
   ]
  },
  {
   "cell_type": "markdown",
   "id": "577b3e2a-7936-49a4-a8bf-65b0805752df",
   "metadata": {},
   "source": [
    "* Do you know the population standard deviation ?\n",
    "\n",
    "### if No:  \n",
    "     \n",
    "     then you should use T-test.\n",
    "\n",
    "### if Yes:\n",
    "\n",
    "    Is the sample size greater than 30?\n",
    "    \n",
    "    if yes, Use Z-test\n",
    "    else use t-test."
   ]
  },
  {
   "cell_type": "markdown",
   "id": "5c88fdb0-ff3d-4f3a-b40c-6d465154135f",
   "metadata": {},
   "source": [
    "### Q2: Differentiate between one-tailed and two-tailed tests."
   ]
  },
  {
   "attachments": {
    "3df4864f-ed56-44a1-886c-1bf8bb03803b.png": {
     "image/png": "[encoded data removed]"
    }
   },
   "cell_type": "markdown",
   "id": "05e695fc-b0f2-45b3-97ac-0ff1c4b6fa7d",
   "metadata": {},
   "source": [
    "\n",
    "The main difference between one-tailed and two-tailed tests is that one-tailed tests only have one critical region, while two-tailed tests have two critical regions.\n",
    "\n",
    "In a one-tailed test, the critical region is located in one tail of the distribution, either the left or the right. This means that the test is only looking for evidence of a difference in one direction. For example, a one-tailed test could be used to determine whether a new drug is more effective than a placebo in reducing pain. The critical region would be located in the right tail of the distribution, because the researchers are only interested in finding evidence that the drug is more effective than the placebo.\n",
    "For example: Does taking a new medication improve the patient's condition?\n",
    "\n",
    "In a two-tailed test, the critical region is located in both tails of the distribution. This means that the test is looking for evidence of a difference in either direction. For example, a two-tailed test could be used to determine whether there is a difference in the average height of men and women. The critical region would be located in both the left and right tails of the distribution, because the researchers are interested in finding evidence that men are taller than women, or that women are taller than men.\n",
    "\n",
    "For example:\n",
    "\n",
    "Is there a difference in the average IQ of men and women?\n",
    "\n",
    "Does taking a new medication improve the patient's condition, regardless of whether the patient's condition is getting better or worse?\n",
    "\n",
    "\n",
    "![image.png](attachment:3df4864f-ed56-44a1-886c-1bf8bb03803b.png)"
   ]
  },
  {
   "cell_type": "markdown",
   "id": "a1ebd15a-bcbe-48f5-928f-292e1f087ffa",
   "metadata": {},
   "source": [
    "### Q3: Explain the concept of Type 1 and Type 2 errors in hypothesis testing. Provide an example scenario for each type of error."
   ]
  },
  {
   "cell_type": "markdown",
   "id": "3e782c53-87c5-430d-a5c0-8c98f4ee4fb5",
   "metadata": {},
   "source": [
    "* Reality: Null Hypothesis is True or Null HYpothesis is False.\n",
    "\n",
    "* Decision: Null Hypothesis is True or Null hypothesis is False.\n",
    "\n",
    "#### Outcomes:\n",
    "\n",
    "* Outcome 1: We reject the Null hypothesis when Null hypothesis is False in Reality. {Good}\n",
    "\n",
    "_Exapmle: A researcher is interested in whether or not a new drug is effective in treating depression. The researcher conducts a study and finds that the drug is effective in reducing depressive symptoms. The researcher rejects the null hypothesis, which states that the drug is not effective in treating depression. The researcher concludes that the drug is effective in treating depression.\n",
    "The null hypothesis was false in reality. The drug was actually effective in treating depression. The researcher correctly rejected the null hypothesis and concluded that the drug is effective._\n",
    "\n",
    "* Outcome 2: We reject the Null hypothesis when Null hypothesis is True in Reality. {Type 1 Error}\n",
    "\n",
    "_Example: A researcher conducts a study to test the effectiveness of a new drug. The researcher rejects the null hypothesis and concludes that the drug is effective. However, the drug is actually not effective and the researcher has made a Type I error._\n",
    "\n",
    "* Outcome 3: We accept the Null hypothesis when Null hypothesis is False in Reality. {Type 2 Error}\n",
    "\n",
    "_Example:A researcher conducts a study to test the effectiveness of a new drug. The researcher does not reject the null hypothesis and concludes that the drug is not effective. However, the drug is actually effective and the researcher has made a Type II error._\n",
    "\n",
    "* Outcome 4 : We accept the Null hypothesis when Null hypothesis is True in Reality. {Good}\n",
    "\n",
    "_Example: A researcher is interested in whether or not there is a difference in the average height of men and women. The researcher conducts a study and finds that there is no difference in the average height of men and women. The researcher accepts the null hypothesis, which states that there is no difference in the average height of men and women. The researcher concludes that there is no difference in the average height of men and women. The null hypothesis was true in reality. There was actually no difference in the average height of men and women. The researcher correctly accepted the null hypothesis and concluded that there is no difference in the average height of men and women._"
   ]
  },
  {
   "cell_type": "markdown",
   "id": "9d267201-67ad-406a-a1da-64df3e6c3b51",
   "metadata": {},
   "source": [
    "### Q4: Explain Bayes's theorem with an example."
   ]
  },
  {
   "cell_type": "markdown",
   "id": "de666f9c-1061-432c-b78c-98295378cc2f",
   "metadata": {},
   "source": [
    "### P(A|B) = P(B|A) * P(A) / P(B)\n",
    "\n",
    "where:\n",
    "\n",
    "* P(A|B) is the probability of event A occurring, given that event B has occurred\n",
    "* P(B|A) is the probability of event B occurring, given that event A has occurred\n",
    "* P(A) is the probability of event A occurring\n",
    "* P(B) is the probability of event B occurring\n",
    "\n",
    "For example, let's say that you have a bag of marbles that contains 10 red marbles and 10 blue marbles. You reach into the bag and pull out a marble without looking. _What is the probability that the marble you pulled out is red?_\n",
    "\n",
    "Without any other information, we can say that the probability of pulling out a red marble is 50%. This is because there are an equal number of red and blue marbles in the bag.\n",
    "\n",
    "Now, let's say that you look at the marble and see that it is red. _What is the probability that the marble you pulled out is red now?_\n",
    "\n",
    "Using Bayes' theorem, we can update our probability to 75%. This is because we now know that the marble is red, and we also know that there are more red marbles in the bag than blue marbles.\n",
    "\n",
    "Bayes' theorem can be used in a variety of applications, including medical diagnosis, weather forecasting, and financial forecasting. It is a powerful tool that can be used to make better decisions based on incomplete information."
   ]
  },
  {
   "cell_type": "markdown",
   "id": "e6ed2b63-7256-4b9c-a0fc-8a55584f019b",
   "metadata": {},
   "source": [
    "### Q5: What is a confidence interval? How to calculate the confidence interval, explain with an example."
   ]
  },
  {
   "cell_type": "markdown",
   "id": "f7d08d0f-fa22-4f2a-a50d-637b4e3738ae",
   "metadata": {},
   "source": [
    "A confidence interval is a range of values that is likely to contain the true value of a population parameter. The confidence level is the percentage of times that the confidence interval will contain the true value of the population parameter.We construct Confidence Interval to help estimate what the value of unknown population mean is.\n",
    "\n",
    "Formula : CI = x̄ ± zα/2 * σ / √n\n",
    "\n",
    "where:\n",
    "\n",
    "* CI is the confidence interval\n",
    "* x̄ is the sample mean\n",
    "* σ is the population standard deviation\n",
    "* zα/2 is the z-score for the desired confidence level\n",
    "* n is the sample size\n",
    "\n",
    "For example, a 95% confidence interval means that there is a 95% chance that the confidence interval will contain the true population mean.\n",
    "\n",
    "For example, let's say that we want to calculate a 95% confidence interval for the average height of men. We know that the sample mean is 68 inches, the sample standard deviation is 2 inches, and the sample size is 100.\n"
   ]
  },
  {
   "cell_type": "code",
   "execution_count": 4,
   "id": "1e6b3330-1832-4180-9428-d461689f6ac5",
   "metadata": {},
   "outputs": [
    {
     "data": {
      "text/plain": [
       "(67.608, 68.392)"
      ]
     },
     "execution_count": 4,
     "metadata": {},
     "output_type": "execute_result"
    }
   ],
   "source": [
    "from math import sqrt\n",
    "# CI = 68 ± 1.96 * 2 / √100\n",
    "Lower_CI=68 - 1.96 * 2 / sqrt(100)\n",
    "Upper_CI=68 + 1.96 * 2 / sqrt(100)\n",
    "Lower_CI,Upper_CI"
   ]
  },
  {
   "cell_type": "markdown",
   "id": "6ae6e34c-16e0-4fdc-917a-4d019bb5aedd",
   "metadata": {},
   "source": [
    "This means that we can be 95% confident that the true average height of men is between 67.61 inches and 68.39 inches."
   ]
  },
  {
   "cell_type": "markdown",
   "id": "2387ec57-58c2-4c58-bd36-b2150d20461a",
   "metadata": {},
   "source": [
    "### Q6. Use Bayes' Theorem to calculate the probability of an event occurring given prior knowledge of the event's probability and new evidence. Provide a sample problem and solution."
   ]
  },
  {
   "cell_type": "markdown",
   "id": "59f92985-9529-4064-8ed1-2a3f1dea2074",
   "metadata": {},
   "source": [
    "### Problem:\n",
    "A certain disease affects 1 in every 1000 people. A test has been developed to detect the disease, and it is known to have a 95% accuracy rate (i.e. if a person has the disease, the test will correctly identify it 95% of the time, and if a person does not have the disease, the test will correctly identify it as negative 95% of the time). If a randomly selected person tests positive for the disease, what is the probability that they actually have the disease?\n",
    "\n",
    "A: The person has the disease.\n",
    "B: The person tests positive for the disease.\n",
    "\n",
    "hint: P(B) = 0.05185"
   ]
  },
  {
   "cell_type": "markdown",
   "id": "ec69942a-4b34-4e57-8869-e200fac920e2",
   "metadata": {},
   "source": [
    "\n",
    "P(A) = 1/1000\n",
    "\n",
    "P(B|A) = 0.95 \n",
    "\n",
    "P(B|not A) = 0.05  \n",
    "\n",
    "We want to find:\n",
    "P(A|B) (the probability of the person having the disease given that they tested positive)\n",
    "\n",
    " Using Bayes' Theorem:\n",
    "P(A|B) = (P(B|A) * P(A)) / P(B)"
   ]
  },
  {
   "cell_type": "code",
   "execution_count": 13,
   "id": "2ef8400e-08fd-477f-aca9-89d14729f341",
   "metadata": {},
   "outputs": [],
   "source": [
    "probability_A_given_B=((0.95) *(1/1000)) / (0.05185)"
   ]
  },
  {
   "cell_type": "markdown",
   "id": "008784ed-3efa-482a-8fdf-07b963394ef5",
   "metadata": {},
   "source": [
    "Therefore, if a randomly selected person tests positive for the disease, the probability that they actually have the disease is approximately 1.83%."
   ]
  },
  {
   "cell_type": "markdown",
   "id": "e5e2b556-7b83-4648-a014-1f3582c19fac",
   "metadata": {},
   "source": [
    "### Q7. Calculate the 95% confidence interval for a sample of data with a mean of 50 and a standard deviation of 5. Interpret the results."
   ]
  },
  {
   "cell_type": "markdown",
   "id": "5695eb4a-f1fe-456e-a3e3-ce11526c875e",
   "metadata": {
    "tags": []
   },
   "source": [
    "### CI = x̄ ± zα/2 * σ / √n\n",
    "\n",
    "where:\n",
    "\n",
    "* CI is the confidence interval\n",
    "* x̄ is the sample mean\n",
    "* σ is the population standard deviation\n",
    "* zα/2 is the z-score for the desired confidence level\n",
    "* n is the sample size"
   ]
  },
  {
   "cell_type": "code",
   "execution_count": 24,
   "id": "aa5436b9-b2e4-47e8-a5d9-e7cbe06fd6d1",
   "metadata": {},
   "outputs": [
    {
     "name": "stdout",
     "output_type": "stream",
     "text": [
      "I am 95% confident that the mean lies between 49.9902 and 50.0098.\n"
     ]
    }
   ],
   "source": [
    "# Assuming n = 1000\n",
    "Lower_Ci= 50 - 1.96 * 5 / 1000\n",
    "Upper_Ci= 50 + 1.96 * 5 / 1000\n",
    "print(\"I am 95% confident that the mean lies between \" + str(Lower_Ci) + \" and \" + str(Upper_Ci) + \".\")"
   ]
  },
  {
   "cell_type": "markdown",
   "id": "e811a413-9793-47f5-a42e-c8575c2c9591",
   "metadata": {},
   "source": [
    "### Q8. What is the margin of error in a confidence interval? How does sample size affect the margin of error? Provide an example of a scenario where a larger sample size would result in a smaller margin of error."
   ]
  },
  {
   "cell_type": "markdown",
   "id": "44449755-b7f7-44ae-b156-966c1208027e",
   "metadata": {},
   "source": [
    "The margin of error is a measure of the uncertainty or variability associated with estimating a population parameter based on a sample. In the context of a confidence interval, it represents the range within which we expect the true population parameter to fall.\n",
    "\n",
    "A larger sample size tends to result in a smaller margin of error. This is because as the sample size increases, the standard error decreases. The standard error is inversely proportional to the square root of the sample size. Therefore, a larger sample size leads to a more precise estimate and a narrower confidence interval.\n",
    "\n",
    "\n",
    "### Margin_of_error=  zα/2 * σ / √n\n",
    "### CI = x̄ ± Margin_of_error\n",
    "\n",
    "Lets consider 2 scenarios:\n",
    "* n=100 \n",
    "* n=1000\n",
    "\n",
    "CI=95%, std=5 and sample_mean=50"
   ]
  },
  {
   "cell_type": "code",
   "execution_count": 31,
   "id": "911e89c2-df7e-45d5-926b-fdd5d56e1b75",
   "metadata": {},
   "outputs": [
    {
     "name": "stdout",
     "output_type": "stream",
     "text": [
      "Result for Scenario 1 : 0.019600000000000003\n",
      "Result for Scenario 2 : 0.098\n"
     ]
    }
   ],
   "source": [
    "Margin_of_Error_1= 1.96 * 5 / 500\n",
    "print(\"Result for Scenario 1 : \" + str(Margin_of_Error_1))\n",
    "Margin_of_Error_2= 1.96 * 5 / 100\n",
    "print(\"Result for Scenario 2 : \" + str(Margin_of_Error_2))"
   ]
  },
  {
   "cell_type": "markdown",
   "id": "cec3aee2-536c-47bd-98c3-8b847c1d7542",
   "metadata": {},
   "source": [
    "### Hence we can conclude that larger sample size would result in a smaller margin of error.¶"
   ]
  },
  {
   "cell_type": "markdown",
   "id": "97ecf341-60a6-4b3a-b6f4-4ab76a3979ea",
   "metadata": {},
   "source": [
    "### Q9. Calculate the z-score for a data point with a value of 75, a population mean of 70, and a population standard deviation of 5. Interpret the results."
   ]
  },
  {
   "cell_type": "markdown",
   "id": "c15030a7-afbf-4fdd-8219-d26b5fddff51",
   "metadata": {},
   "source": [
    "### z = (x - μ) / σ\n",
    "\n",
    "Where:\n",
    "\n",
    "* x is the data point value,\n",
    "* μ is the population mean, and\n",
    "* σ is the population standard deviation."
   ]
  },
  {
   "cell_type": "code",
   "execution_count": 1,
   "id": "6b619c34-862a-4ba2-a59b-926d99236913",
   "metadata": {},
   "outputs": [],
   "source": [
    "z=(75-70)/5"
   ]
  },
  {
   "cell_type": "code",
   "execution_count": 2,
   "id": "0c2da1b9-26e0-4add-9a82-7b8108a075fb",
   "metadata": {},
   "outputs": [
    {
     "data": {
      "text/plain": [
       "1.0"
      ]
     },
     "execution_count": 2,
     "metadata": {},
     "output_type": "execute_result"
    }
   ],
   "source": [
    "z"
   ]
  },
  {
   "cell_type": "markdown",
   "id": "86f71192-881a-4905-b7de-7416a95828c9",
   "metadata": {},
   "source": [
    "This means that the Datapoint 75 is 1 standard deviation away from the mean."
   ]
  },
  {
   "cell_type": "markdown",
   "id": "992eb004-a1c3-4cbe-a512-ae213fbd0088",
   "metadata": {},
   "source": [
    "### Q10. In a study of the effectiveness of a new weight loss drug, a sample of 50 participants lost an average of 6 pounds with a standard deviation of 2.5 pounds. Conduct a hypothesis test to determine if the drug is significantly effective at a 95% confidence level using a t-test."
   ]
  },
  {
   "cell_type": "markdown",
   "id": "254ad305-e775-4e1b-b66c-ef400aa7b086",
   "metadata": {},
   "source": [
    "* Null Hypothesis H0: μ = 0\n",
    " \n",
    "* Alternate Hypothesis H1: μ ≠ 0\n",
    "\n",
    "* Significance level : 0.05, Confidence Interval : 95%\n",
    "\n",
    "* Degree of freedom = 50-1 = 49\n",
    "\n",
    "* t-table value of 0.05 for 2 tail test is 2.045\n",
    "\n",
    "* Decision Rule : if the t-test is greater than 2.045 or lesser than -2.045, reject the null hypothesis.\n",
    "### t = (x̄ - μ) / (s / √n)"
   ]
  },
  {
   "cell_type": "code",
   "execution_count": 2,
   "id": "a645b53e-5c5c-42b3-beb7-d53b129ba7fe",
   "metadata": {},
   "outputs": [],
   "source": [
    "from math import sqrt\n",
    "t = (6 - 0) / (2.5 / sqrt(50))"
   ]
  },
  {
   "cell_type": "code",
   "execution_count": 4,
   "id": "641dede9-508a-48e0-be5e-0d34066669f8",
   "metadata": {},
   "outputs": [
    {
     "name": "stdout",
     "output_type": "stream",
     "text": [
      "We reject the Null Hypothesis\n"
     ]
    }
   ],
   "source": [
    "if t > 2.045 :\n",
    "    print(\"We reject the Null Hypothesis\")\n",
    "elif t < -2.045:\n",
    "    print(\"We reject the Null Hypothesis\")\n",
    "else: \n",
    "    print(\"We fail to reject the Null Hypothesis \")"
   ]
  },
  {
   "cell_type": "markdown",
   "id": "fb009c07-68f0-43a3-8d0b-da68fb970f96",
   "metadata": {},
   "source": [
    "#### Since the absolute value of the calculated t-statistic (16.949) is much greater than the critical t-value (2.0096), we reject the null hypothesis."
   ]
  },
  {
   "cell_type": "markdown",
   "id": "fdb19a02-17e1-470a-ad0c-a0cf59a81dba",
   "metadata": {},
   "source": [
    "### Q11. In a survey of 500 people, 65% reported being satisfied with their current job. Calculate the 95% confidence interval for the true proportion of people who are satisfied with their job."
   ]
  },
  {
   "cell_type": "markdown",
   "id": "f3813947-8984-469d-bce6-b5725b4f675c",
   "metadata": {},
   "source": [
    "### CI = x̄ ± zα/2 * σ / √n\n",
    "\n",
    "where:\n",
    "\n",
    "* CI is the confidence interval\n",
    "* x̄ is the sample mean\n",
    "* σ is the population standard deviation\n",
    "* zα/2 is the z-score for the desired confidence level\n",
    "* n is the sample size"
   ]
  },
  {
   "cell_type": "code",
   "execution_count": 6,
   "id": "2c069af6-62ca-48ac-ba84-e46b0c943fc3",
   "metadata": {},
   "outputs": [],
   "source": [
    "Standard_Error = sqrt((0.65 * (1 - 0.65)) / 500)"
   ]
  },
  {
   "cell_type": "code",
   "execution_count": 7,
   "id": "89b0dc5d-b4f3-4340-8ec7-e01a24de6cec",
   "metadata": {},
   "outputs": [],
   "source": [
    "lower_ci = 65 - 1.96* Standard_Error"
   ]
  },
  {
   "cell_type": "code",
   "execution_count": 8,
   "id": "64e11e03-0070-45d0-8366-c2770cf9c2af",
   "metadata": {},
   "outputs": [],
   "source": [
    "upper_ci=65 + 1.96 * Standard_Error"
   ]
  },
  {
   "cell_type": "code",
   "execution_count": 13,
   "id": "94c6ddd0-1e8a-4536-97e0-d1010793b157",
   "metadata": {},
   "outputs": [
    {
     "name": "stdout",
     "output_type": "stream",
     "text": [
      "I am 95% confident that the population mean lies between 64.95819177114491 and 65.04180822885509\n"
     ]
    }
   ],
   "source": [
    "print(\"I am 95% confident that the population mean lies between \"+ str(lower_ci)+ \" and \" + str (upper_ci))"
   ]
  },
  {
   "cell_type": "markdown",
   "id": "580ed761-e6d9-43ed-ab90-2a46f0f8bb29",
   "metadata": {},
   "source": [
    "### Q12. A researcher is testing the effectiveness of two different teaching methods on student performance. Sample A has a mean score of 85 with a standard deviation of 6, while sample B has a mean score of 82 with a standard deviation of 5. Conduct a hypothesis test to determine if the two teaching methods have a significant difference in student performance using a t-test with a significance level of 0.01."
   ]
  },
  {
   "attachments": {
    "bd1f7ddd-24f5-4c8e-9994-a175c1174d78.png": {
     "image/png": "[encoded data removed]"
    }
   },
   "cell_type": "markdown",
   "id": "f42cf9ce-5568-4fc1-98be-56c8d5a62887",
   "metadata": {},
   "source": [
    "* Null Hypothesis [H0] : μ1=μ2\n",
    "* Alternate Hypothesis [H1] : μ1≠μ2\n",
    "\n",
    "* Significance level : 0.01\n",
    "\n",
    "  #assuming n to be 100 \n",
    "* Degree of freedom : 100 + 100 -2 =198\n",
    "The critical t-value for α/2 = 0.005 and df = 198 is approximately ±2.617.\n",
    "\n",
    "* Decision Rule :  If the t-test is lesser than -2.617 or greater than +2.617, We reject the Null hypothesis.\n",
    "\n",
    "#calculating t-statistics\n",
    "![geogebra-export--15-4117563867923402454.png](attachment:bd1f7ddd-24f5-4c8e-9994-a175c1174d78.png)"
   ]
  },
  {
   "cell_type": "code",
   "execution_count": 1,
   "id": "0cc6deff-e068-476c-a05d-226faa0e2435",
   "metadata": {},
   "outputs": [],
   "source": [
    "from math import sqrt\n",
    "t=(85-82)/ sqrt (((6**2)/100)+((5**2)/100) )"
   ]
  },
  {
   "cell_type": "code",
   "execution_count": 4,
   "id": "78abe19d-20cb-4116-abe3-432ff4fa87d9",
   "metadata": {},
   "outputs": [
    {
     "name": "stdout",
     "output_type": "stream",
     "text": [
      "We reject the Null hypothesis.\n"
     ]
    }
   ],
   "source": [
    "if t < -2.617:\n",
    "    print(\"We reject the Null hypothesis.\")\n",
    "elif t> +2.617:\n",
    "    print(\"We reject the Null hypothesis.\")\n",
    "else:\n",
    "    print(\"We fail to reject the Null hypothesis.\")"
   ]
  },
  {
   "cell_type": "markdown",
   "id": "bc22b380-4a18-48fe-ab2d-c7aaf386ee27",
   "metadata": {},
   "source": [
    "### Conclusion:\n",
    "Based on the given data and conducting the two-sample t-test, we have evidence to suggest that there is a significant difference in student performance between the two teaching methods at a significance level of 0.01."
   ]
  },
  {
   "cell_type": "markdown",
   "id": "bc12d95f-03b6-424d-80a3-31c5fa9d8857",
   "metadata": {},
   "source": [
    "### Q13. A population has a mean of 60 and a standard deviation of 8. A sample of 50 observations has a mean of 65. Calculate the 90% confidence interval for the true population mean."
   ]
  },
  {
   "cell_type": "markdown",
   "id": "6a4873f8-fcad-48f5-af35-7cdde6c35977",
   "metadata": {},
   "source": [
    "### Confidence Interval = x̄ ± zα/2 * σ / √n\n",
    "where:\n",
    "\n",
    "* CI is the confidence interval\n",
    "* x̄ is the sample mean\n",
    "* σ is the population standard deviation\n",
    "* zα/2 is the z-score for the desired confidence level\n",
    "* n is the sample size"
   ]
  },
  {
   "cell_type": "markdown",
   "id": "3b6284a9-ddcb-4c91-87f7-3e3a2927da95",
   "metadata": {},
   "source": [
    "The z-score for a 90% confidence interval is 1.645."
   ]
  },
  {
   "cell_type": "code",
   "execution_count": 5,
   "id": "82039308-65fc-41bf-a816-a865b8acfa42",
   "metadata": {},
   "outputs": [],
   "source": [
    "Lower_ci= 65 -( 1.645* (8 /sqrt(50)))"
   ]
  },
  {
   "cell_type": "code",
   "execution_count": 6,
   "id": "d1a9c832-b00a-4f51-aca1-b61caad13215",
   "metadata": {},
   "outputs": [],
   "source": [
    "Upper_ci= 65 +( 1.645* (8 /sqrt(50)))"
   ]
  },
  {
   "cell_type": "code",
   "execution_count": 9,
   "id": "5781165e-bec3-48de-a753-5bbe7d4e1e2b",
   "metadata": {},
   "outputs": [
    {
     "name": "stdout",
     "output_type": "stream",
     "text": [
      "I am 95% confident that the population mean lies between 63.13889495191701 and 66.86110504808299\n"
     ]
    }
   ],
   "source": [
    "print(\"I am 95% confident that the population mean lies between \"+ str(Lower_ci)+ \" and \" + str(Upper_ci))"
   ]
  },
  {
   "cell_type": "markdown",
   "id": "a8c276fc-c7c3-4f7b-916b-3b51a3089aa6",
   "metadata": {},
   "source": [
    "### Q14. In a study of the effects of caffeine on reaction time, a sample of 30 participants had an average reaction time of 0.25 seconds with a standard deviation of 0.05 seconds. Conduct a hypothesis test to determine if the caffeine has a significant effect on reaction time at a 90% confidence level using a t-test."
   ]
  },
  {
   "cell_type": "markdown",
   "id": "e66dc61e-c740-4a96-8902-2517935cdd02",
   "metadata": {},
   "source": [
    "* Null Hypothesis [H0] : μ=0.25\n",
    "\n",
    "* Alternate Hypothesis [H1] : μ ≠ 0.25\n",
    "\n",
    "* Significance level : 0.10\n",
    "\n",
    " #assuming n to be 100\n",
    "\n",
    "* Degree of freedom : 30-1=29\n",
    "\n",
    "The critical t-value for α/2 = 0.05 and df = 29 is approximately ± 2.045 .\n",
    "\n",
    "* Decision Rule : If the t-test is lesser than -2.045  or greater than + 2.045 , We reject the Null hypothesis.\n",
    "\n",
    "### t = (sample mean - population mean) / (sample standard deviation / sqrt(sample size))"
   ]
  },
  {
   "cell_type": "code",
   "execution_count": 23,
   "id": "ca032c7d-9f76-43c4-b3c9-87489d37dc99",
   "metadata": {},
   "outputs": [],
   "source": [
    "t = (0.25 - 0) / (0.05 / sqrt(30)) "
   ]
  },
  {
   "cell_type": "code",
   "execution_count": 22,
   "id": "84eb3af8-882b-4eeb-88f9-db1fd10148f9",
   "metadata": {},
   "outputs": [
    {
     "name": "stdout",
     "output_type": "stream",
     "text": [
      "We reject the Null hypothesis.\n"
     ]
    }
   ],
   "source": [
    "if t <  -2.045:\n",
    "    print(\"We reject the Null hypothesis.\")\n",
    "elif t>  +2.045:\n",
    "    print(\"We reject the Null hypothesis.\")\n",
    "else:\n",
    "    print(\"We fail to reject the Null hypothesis.\")"
   ]
  },
  {
   "cell_type": "markdown",
   "id": "015731b8-b1d8-48b4-8d09-1318d287cd32",
   "metadata": {},
   "source": [
    "## THE END"
   ]
  }
 ],
 "metadata": {
  "kernelspec": {
   "display_name": "Python 3 (ipykernel)",
   "language": "python",
   "name": "python3"
  },
  "language_info": {
   "codemirror_mode": {
    "name": "ipython",
    "version": 3
   },
   "file_extension": ".py",
   "mimetype": "text/x-python",
   "name": "python",
   "nbconvert_exporter": "python",
   "pygments_lexer": "ipython3",
   "version": "3.10.8"
  }
 },
 "nbformat": 4,
 "nbformat_minor": 5
}
