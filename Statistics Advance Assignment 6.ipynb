{
 "cells": [
  {
   "cell_type": "markdown",
   "id": "19c11e90-e316-4337-b6c3-8862b643950d",
   "metadata": {},
   "source": [
    "# Statistics Advance Assignment-6"
   ]
  },
  {
   "cell_type": "markdown",
   "id": "774c1dee-ed6c-4e18-b454-3805824845de",
   "metadata": {},
   "source": [
    "### Q1. Explain the assumptions required to use ANOVA and provide examples of violations that could impact the validity of the results."
   ]
  },
  {
   "cell_type": "markdown",
   "id": "194c0fa4-2621-4af6-a2da-79c2becda7f0",
   "metadata": {},
   "source": [
    "### Assumptions:\n",
    "1) Normality of Sampling Distribution:\n",
    "       The sample mean is normally distributed.\n",
    "        _Example of Violation: if the data is highly skewed to one side, it may violate the normality assumption._\n",
    "\n",
    "2) Absence of Outliers:\n",
    "        Any Outliers present in the data should be removed.\n",
    "        _Example of Violation:if the data contains outliers, it may violate the normality assumption._\n",
    "        \n",
    "3) Homogenity of Variance:\n",
    "        Each of the population has same variance.\n",
    "        (σ1** 2) = (σ2** 2) = (σ3** 2)\n",
    "        Population variance in different level of each independent variable are equal.\n",
    "         _Example of Violation: if one group has much larger variability compared to the others, the assumption is violated._\n",
    "\n",
    "4) Sample are Independent and Random:\n",
    "        _Example of Violation: if the same individuals are measured multiple times in different groups, the independence assumption is violated._\n",
    "        \n",
    "If these assumptions are satisfied we can apply ANOVA."
   ]
  },
  {
   "cell_type": "markdown",
   "id": "dbf5ecc7-c6c0-4a01-9131-e1693c8795a5",
   "metadata": {},
   "source": [
    "### Q2. What are the three types of ANOVA, and in what situations would each be used?"
   ]
  },
  {
   "cell_type": "markdown",
   "id": "c8a86db6-27dc-415a-a363-e87e15307692",
   "metadata": {},
   "source": [
    "The 3 types of ANOVA are as follows:\n",
    "    \n",
    "#### 1] One Way ANOVA : One factor with atleast 2 levels, these levels are independent.\n",
    "\n",
    "_eg: Doctor wants to test a new medication to decreasen headache.They split the partipants in 3 condtions [10mg, 20mg, 30mg]. Doctor asks the patients to rate thier headache on a scale of [1-10]._\n",
    "_In this example, Medication is a factor and 3 conditions are 3 levels._\n",
    "    \n",
    "    \n",
    "#### 2] Repeated Measures ANOVA : One factor with atleast 2 levels but ythe levels are dependent.\n",
    "\n",
    "_eg: Consider a factor Running and levels as Day1, Day2 and Day3._\n",
    "    \n",
    "    \n",
    "#### 3] Factorial ANOVA : Two or more factors each of which with atleast 2 levels. Levels can be dependent or independent.\n",
    "\n",
    " _eg: Consider a Data consisting a factor Running and levels as Day1, Day2 and Day3.\n",
    "and Another factor Gender and levels as Male and Female._"
   ]
  },
  {
   "cell_type": "markdown",
   "id": "227d41f6-0db7-451c-903f-aebe167970e5",
   "metadata": {},
   "source": [
    "### Q3. What is the partitioning of variance in ANOVA, and why is it important to understand this concept?"
   ]
  },
  {
   "cell_type": "markdown",
   "id": "f1a55026-8223-48ff-81e9-17f6f5cdf44a",
   "metadata": {},
   "source": [
    "In ANOVA, the partitioning of variance means dividing the total variability in the data into different parts. This helps us understand how much of the overall variation is due to the differences between groups we are comparing.\n",
    "\n",
    "#### There are three main parts:\n",
    "\n",
    "* Between-group variance: This measures the differences between the groups being compared. It tells us how much the groups differ from each other because of the factor we are studying.\n",
    "\n",
    "* Within-group variance: This measures the variation within each group. It represents the random or unexplained differences within the groups that are not related to the factor we are studying.\n",
    "\n",
    "* Total variance: This is the overall variability in the data, which includes both the differences between groups and the differences within groups.\n",
    "\n",
    "#### Understanding this concept is important because it helps us:\n",
    "\n",
    "* Identify the main sources of variation: We can figure out how much of the variation is due to the factor we are interested in and how much is just random variation.\n",
    "\n",
    "* Assess the strength of the effect: We can see how strong the relationship is between the factor we are studying and the outcome.\n",
    "\n",
    "* Test hypotheses and draw conclusions: We can determine if the differences between groups are statistically significant.\n"
   ]
  },
  {
   "cell_type": "markdown",
   "id": "4ab251e2-43c7-483c-9a79-6b3eee3f6642",
   "metadata": {},
   "source": [
    "### Q4. How would you calculate the total sum of squares (SST), explained sum of squares (SSE), and residual sum of squares (SSR) in a one-way ANOVA using Python?"
   ]
  },
  {
   "cell_type": "code",
   "execution_count": 1,
   "id": "7ba666d6-8793-4e69-bbed-15340bb8e1b9",
   "metadata": {},
   "outputs": [],
   "source": [
    "Group1=[23,25,18]\n",
    "Group2=[29,19,21]\n",
    "Group3=[35,17]"
   ]
  },
  {
   "cell_type": "code",
   "execution_count": 2,
   "id": "d92799b2-1431-4d1e-aaae-5a42ed7066fe",
   "metadata": {},
   "outputs": [],
   "source": [
    "import numpy as np"
   ]
  },
  {
   "cell_type": "code",
   "execution_count": 3,
   "id": "047cbf64-424e-45b7-adca-6ac97e359660",
   "metadata": {},
   "outputs": [],
   "source": [
    "mean1=np.mean(Group1)\n",
    "mean2=np.mean(Group2)\n",
    "mean3=np.mean(Group3)"
   ]
  },
  {
   "cell_type": "code",
   "execution_count": 4,
   "id": "56e5200b-8750-4db0-a88d-a803cecafa4c",
   "metadata": {},
   "outputs": [],
   "source": [
    "Grand_mean = (np.sum(Group1) + np.sum (Group2) + np.sum (Group3)) / ((len(Group1)+len(Group2)+len(Group3)))"
   ]
  },
  {
   "cell_type": "code",
   "execution_count": 5,
   "id": "d78d9f5b-d6b9-4fc9-b916-6be12f1051bc",
   "metadata": {},
   "outputs": [
    {
     "data": {
      "text/plain": [
       "23.375"
      ]
     },
     "execution_count": 5,
     "metadata": {},
     "output_type": "execute_result"
    }
   ],
   "source": [
    "Grand_mean"
   ]
  },
  {
   "cell_type": "markdown",
   "id": "12b99044-4029-4d9f-9475-20ae68fd0670",
   "metadata": {},
   "source": [
    "Sum of squares within (SSW):\n",
    "\n",
    "* For each subject, compute the difference between its score and its group mean. You thus have to compute each of the group means, and compute the difference between each of the scores and the group mean to which that score belongs\n",
    "* Square all these differences\n",
    "* Sum the squared differences"
   ]
  },
  {
   "cell_type": "code",
   "execution_count": 6,
   "id": "f3c37246-9b4f-4351-9fff-576003959d34",
   "metadata": {},
   "outputs": [],
   "source": [
    "sum1=[]\n",
    "sum2=[]\n",
    "sum3=[]\n",
    "for i in Group1:\n",
    "    sum1.append((i - mean1)**2)\n",
    "for i in Group2:\n",
    "    sum2.append((i - mean2)**2)\n",
    "for i in Group3:\n",
    "    sum3.append((i - mean3)**2)"
   ]
  },
  {
   "cell_type": "code",
   "execution_count": 7,
   "id": "a1cbd13d-f62c-4089-93f3-838e3adca50f",
   "metadata": {},
   "outputs": [
    {
     "data": {
      "text/plain": [
       "244.0"
      ]
     },
     "execution_count": 7,
     "metadata": {},
     "output_type": "execute_result"
    }
   ],
   "source": [
    "SSW=np.sum(sum1) + np.sum (sum2) + np.sum(sum3)\n",
    "SSW"
   ]
  },
  {
   "cell_type": "markdown",
   "id": "fd3c1722-8c1b-43a3-83a1-ee15035549ab",
   "metadata": {},
   "source": [
    "Sum of squares between (SSB):\n",
    "\n",
    "* For each subject, compute the difference between its group mean and the grand mean. The grand mean is the mean of all N scores (just sum all scores and divide by the total sample size )\n",
    "* Square all these differences\n",
    "* Sum the squared differences"
   ]
  },
  {
   "cell_type": "code",
   "execution_count": 8,
   "id": "cda29b48-57a4-4495-ac96-25e729cee769",
   "metadata": {},
   "outputs": [],
   "source": [
    "ssb1=[]\n",
    "ssb2=[]\n",
    "ssb3=[]\n",
    "for i in Group1:\n",
    "    ssb1.append((mean1- Grand_mean)**2)\n",
    "for i in Group2:\n",
    "    ssb2.append((mean2- Grand_mean)**2)\n",
    "for i in Group3:\n",
    "    ssb3.append((mean3- Grand_mean)**2)"
   ]
  },
  {
   "cell_type": "code",
   "execution_count": 9,
   "id": "30a47437-0b2e-4f29-ad4f-051a06e1c8a3",
   "metadata": {},
   "outputs": [],
   "source": [
    "SSB=np.sum(ssb1) + np.sum (ssb2) + np.sum(ssb3)"
   ]
  },
  {
   "cell_type": "code",
   "execution_count": 10,
   "id": "b2c298dd-3f3d-48dc-b912-cca1cc4ab00c",
   "metadata": {},
   "outputs": [
    {
     "data": {
      "text/plain": [
       "19.875"
      ]
     },
     "execution_count": 10,
     "metadata": {},
     "output_type": "execute_result"
    }
   ],
   "source": [
    "SSB"
   ]
  },
  {
   "cell_type": "markdown",
   "id": "28dfb503-6f53-454e-a980-9abcfaa897a8",
   "metadata": {},
   "source": [
    "Sum of squares total (SST):\n",
    "    \n",
    "* For each subject, compute the difference between its score and the grand mean\n",
    "* Square all these differences\n",
    "* Sum the squared differences"
   ]
  },
  {
   "cell_type": "code",
   "execution_count": 11,
   "id": "b7ff86be-9bfb-4794-bc1a-8a785ea32df6",
   "metadata": {},
   "outputs": [],
   "source": [
    "sst1=[]\n",
    "sst2=[]\n",
    "sst3=[]\n",
    "for i in Group1:\n",
    "    sst1.append((i- Grand_mean)**2)\n",
    "for i in Group2:\n",
    "    sst2.append((i- Grand_mean)**2)\n",
    "for i in Group3:\n",
    "    sst3.append((i- Grand_mean)**2)"
   ]
  },
  {
   "cell_type": "code",
   "execution_count": 12,
   "id": "4baf3fb0-6a64-4ad2-86d0-bd93c731b7ce",
   "metadata": {},
   "outputs": [],
   "source": [
    "SST= np.sum(sst1) + np.sum (sst2) + np.sum(sst3)"
   ]
  },
  {
   "cell_type": "code",
   "execution_count": 13,
   "id": "677807d8-122e-408e-80d4-eb5d40761dcb",
   "metadata": {},
   "outputs": [
    {
     "data": {
      "text/plain": [
       "263.875"
      ]
     },
     "execution_count": 13,
     "metadata": {},
     "output_type": "execute_result"
    }
   ],
   "source": [
    "SST"
   ]
  },
  {
   "cell_type": "markdown",
   "id": "8ddc2b28-2c58-4b88-88ea-add50876ee9d",
   "metadata": {},
   "source": [
    "\n",
    "If you have computed two of the three sums of squares, you can easily computed the third one by using the fact that SST = SSW + SSB."
   ]
  },
  {
   "cell_type": "markdown",
   "id": "a0e3a1e8-b28d-4eab-b226-a8ffad182f1a",
   "metadata": {},
   "source": [
    "### Q5. In a two-way ANOVA, how would you calculate the main effects and interaction effects using Python?"
   ]
  },
  {
   "cell_type": "code",
   "execution_count": 14,
   "id": "33e2416b-d99c-4ed0-91d9-ce9223ce19c5",
   "metadata": {},
   "outputs": [],
   "source": [
    "import numpy as np\n",
    "import pandas as pd\n",
    "from scipy import stats"
   ]
  },
  {
   "cell_type": "code",
   "execution_count": 15,
   "id": "0f2b90e1-455c-45e9-abcb-4382e3d9f84f",
   "metadata": {},
   "outputs": [],
   "source": [
    "# Create sample data for two factors (A and B) and the response variable (Y)\n",
    "A = [1, 2, 3, 4, 5, 1, 2, 3, 4, 5]\n",
    "B = [1, 1, 1, 1, 1, 2, 2, 2, 2, 2]\n",
    "Y = [10, 12, 14, 16, 18, 20, 22, 24, 26, 28]"
   ]
  },
  {
   "cell_type": "code",
   "execution_count": 16,
   "id": "f6832f4c-595f-4433-b6ba-0acaa4cb87d0",
   "metadata": {},
   "outputs": [],
   "source": [
    "# Combine the data into a DataFrame\n",
    "data = pd.DataFrame({'A': A, 'B': B, 'Y': Y})"
   ]
  },
  {
   "cell_type": "code",
   "execution_count": 17,
   "id": "2da09f30-afbe-4f57-8479-38cbbade6283",
   "metadata": {},
   "outputs": [
    {
     "data": {
      "text/html": [
       "<div>\n",
       "<style scoped>\n",
       "    .dataframe tbody tr th:only-of-type {\n",
       "        vertical-align: middle;\n",
       "    }\n",
       "\n",
       "    .dataframe tbody tr th {\n",
       "        vertical-align: top;\n",
       "    }\n",
       "\n",
       "    .dataframe thead th {\n",
       "        text-align: right;\n",
       "    }\n",
       "</style>\n",
       "<table border=\"1\" class=\"dataframe\">\n",
       "  <thead>\n",
       "    <tr style=\"text-align: right;\">\n",
       "      <th></th>\n",
       "      <th>A</th>\n",
       "      <th>B</th>\n",
       "      <th>Y</th>\n",
       "    </tr>\n",
       "  </thead>\n",
       "  <tbody>\n",
       "    <tr>\n",
       "      <th>0</th>\n",
       "      <td>1</td>\n",
       "      <td>1</td>\n",
       "      <td>10</td>\n",
       "    </tr>\n",
       "    <tr>\n",
       "      <th>1</th>\n",
       "      <td>2</td>\n",
       "      <td>1</td>\n",
       "      <td>12</td>\n",
       "    </tr>\n",
       "    <tr>\n",
       "      <th>2</th>\n",
       "      <td>3</td>\n",
       "      <td>1</td>\n",
       "      <td>14</td>\n",
       "    </tr>\n",
       "    <tr>\n",
       "      <th>3</th>\n",
       "      <td>4</td>\n",
       "      <td>1</td>\n",
       "      <td>16</td>\n",
       "    </tr>\n",
       "    <tr>\n",
       "      <th>4</th>\n",
       "      <td>5</td>\n",
       "      <td>1</td>\n",
       "      <td>18</td>\n",
       "    </tr>\n",
       "    <tr>\n",
       "      <th>5</th>\n",
       "      <td>1</td>\n",
       "      <td>2</td>\n",
       "      <td>20</td>\n",
       "    </tr>\n",
       "    <tr>\n",
       "      <th>6</th>\n",
       "      <td>2</td>\n",
       "      <td>2</td>\n",
       "      <td>22</td>\n",
       "    </tr>\n",
       "    <tr>\n",
       "      <th>7</th>\n",
       "      <td>3</td>\n",
       "      <td>2</td>\n",
       "      <td>24</td>\n",
       "    </tr>\n",
       "    <tr>\n",
       "      <th>8</th>\n",
       "      <td>4</td>\n",
       "      <td>2</td>\n",
       "      <td>26</td>\n",
       "    </tr>\n",
       "    <tr>\n",
       "      <th>9</th>\n",
       "      <td>5</td>\n",
       "      <td>2</td>\n",
       "      <td>28</td>\n",
       "    </tr>\n",
       "  </tbody>\n",
       "</table>\n",
       "</div>"
      ],
      "text/plain": [
       "   A  B   Y\n",
       "0  1  1  10\n",
       "1  2  1  12\n",
       "2  3  1  14\n",
       "3  4  1  16\n",
       "4  5  1  18\n",
       "5  1  2  20\n",
       "6  2  2  22\n",
       "7  3  2  24\n",
       "8  4  2  26\n",
       "9  5  2  28"
      ]
     },
     "execution_count": 17,
     "metadata": {},
     "output_type": "execute_result"
    }
   ],
   "source": [
    "data"
   ]
  },
  {
   "cell_type": "code",
   "execution_count": 18,
   "id": "781f1672-75d2-4c6b-9d7e-768304934acc",
   "metadata": {},
   "outputs": [
    {
     "name": "stdout",
     "output_type": "stream",
     "text": [
      "Main Effect A: 25.0\n",
      "Main Effect B: 1.28\n",
      "Interaction Effect: 0.5333333333333333\n"
     ]
    }
   ],
   "source": [
    "# Calculate the main effects and interaction effect\n",
    "main_effect_A, pvalue_A = stats.f_oneway(data[data['B'] == 1]['Y'],\n",
    "                                         data[data['B'] == 2]['Y'])\n",
    "\n",
    "main_effect_B, pvalue_B = stats.f_oneway(data[data['A'] == 1]['Y'],\n",
    "                                         data[data['A'] == 5]['Y'])\n",
    "\n",
    "interaction_effect, pvalue_interaction = stats.f_oneway(data[data['A'] == 1]['Y'],\n",
    "                                                        data[data['A'] == 5]['Y'], \n",
    "                                                        data[data['A'] == 2]['Y'],\n",
    "                                                        data[data['A'] == 4]['Y'])\n",
    "\n",
    "print(\"Main Effect A:\", main_effect_A)\n",
    "print(\"Main Effect B:\", main_effect_B)\n",
    "print(\"Interaction Effect:\", interaction_effect)"
   ]
  },
  {
   "cell_type": "markdown",
   "id": "b7421906-f48b-42e5-ab6f-c0f7e94515c8",
   "metadata": {},
   "source": [
    "### Q6. Suppose you conducted a one-way ANOVA and obtained an F-statistic of 5.23 and a p-value of 0.02. What can you conclude about the differences between the groups, and how would you interpret these results?"
   ]
  },
  {
   "cell_type": "markdown",
   "id": "7d3a1b3b-a15a-41b4-991b-f768163da010",
   "metadata": {},
   "source": [
    "* F-statistic:\n",
    "\n",
    "The F-statistic (5.23 in this case) measures the extent of differences between the groups in the one-way ANOVA.\n",
    "A higher F-statistic suggests that the differences between the groups are more noticeable and significant.\n",
    "p-value:\n",
    "\n",
    "* P-value:\n",
    "\n",
    "The p-value (0.02 in this case) provides a measure of the strength of evidence against the null hypothesis.\n",
    "A p-value of 0.02 means that there is a 2% chance of obtaining such a large F-statistic if there were actually no real differences between the groups.\n",
    "\n",
    "*Interpretation*\n",
    "\n",
    "* Differences between the groups:\n",
    "\n",
    "The obtained F-statistic of 5.23 indicates that there are noticeable differences between the groups.\n",
    "These differences are not likely to occur by random chance alone.\n",
    "Statistical significance:\n",
    "\n",
    "* P-value:\n",
    "\n",
    "The low p-value of 0.02 suggests strong evidence against the null hypothesis.\n",
    "It indicates that the observed differences between the groups are unlikely to be due to random variation alone."
   ]
  },
  {
   "cell_type": "markdown",
   "id": "842ef05a-f21e-4529-8005-5ecb193227d2",
   "metadata": {},
   "source": [
    "### Q7. In a repeated measures ANOVA, how would you handle missing data, and what are the potential consequences of using different methods to handle missing data?"
   ]
  },
  {
   "cell_type": "markdown",
   "id": "78ed0fc6-8e94-42ee-973f-74947919e5c0",
   "metadata": {},
   "source": [
    "#### Handling missing data:\n",
    "\n",
    "* Listwise deletion: Exclude any participant with missing data on any variable from the analysis. It reduces the sample size but provides a complete case analysis.\n",
    "* Pairwise deletion: Use available data for each specific comparison. It retains more participants but can result in different sample sizes for different comparisons.\n",
    "* Imputation: Fill in missing values with estimated values. It allows for all participants to be included, but the accuracy of results depends on the chosen imputation method.\n",
    "\n",
    "#### Potential consequences of different methods:\n",
    "\n",
    "* Listwise deletion: May introduce bias if missingness is related to the variables being analyzed. It reduces the sample size and can limit generalizability.\n",
    "* Pairwise deletion: Retains more participants but can result in different sample sizes for different comparisons, affecting precision and generalizability.\n",
    "* Imputation: Keeps all participants and maintains statistical power. However, the accuracy of results depends on the chosen imputation method, and imputed values introduce uncertainty."
   ]
  },
  {
   "cell_type": "markdown",
   "id": "c33b04cf-dc12-4278-8082-7b90788b684e",
   "metadata": {},
   "source": [
    "### Q8. What are some common post-hoc tests used after ANOVA, and when would you use each one? Provide an example of a situation where a post-hoc test might be necessary."
   ]
  },
  {
   "cell_type": "markdown",
   "id": "a9dc3dd1-75ba-49a5-b174-be928ba8027a",
   "metadata": {},
   "source": [
    "After conducting an ANOVA with multiple groups, we often use post-hoc tests to compare the groups and see which ones are different from each other. Some common post-hoc tests are Tukey's HSD, Bonferroni correction, and Sidak correction. These tests help determine which group means are significantly different from each other. For example, if we conducted an ANOVA comparing the effectiveness of different treatments, a post-hoc test would help us identify which treatments show significant differences in their effectiveness.\n",
    "\n",
    "\n",
    "\n",
    "\n"
   ]
  },
  {
   "cell_type": "markdown",
   "id": "18ae9b5b-bcfd-4c5a-a81e-f2d0e32a7d28",
   "metadata": {},
   "source": [
    "### Q9. A researcher wants to compare the mean weight loss of three diets: A, B, and C. They collect data from 50 participants who were randomly assigned to one of the diets. Conduct a one-way ANOVA using Python to determine if there are any significant differences between the mean weight loss of the three diets. Report the F-statistic and p-value, and interpret the results."
   ]
  },
  {
   "cell_type": "code",
   "execution_count": 19,
   "id": "90704585-806e-4e22-a2d5-3826cbb69566",
   "metadata": {},
   "outputs": [],
   "source": [
    "import pandas as pd\n",
    "# Weight loss from each of the diet\n",
    "A = [2, 4, 3, 5, 1, 2, 3, 4, 2, 3, 4, 5, 3, 2, 1, 2, 3, 4, 3, 5, 4, 2, 3, 1, 4,\n",
    "    3, 2, 3, 2, 4, 3, 2, 1, 2, 3, 4, 5, 3, 2, 1, 2, 3, 4, 3, 5, 4, 2, 3, 1,2]\n",
    "B = [3, 1, 2, 1, 2, 3, 4, 3, 2, 3, 4, 5, 3, 2, 1, 2, 3, 4, 3, 5, 4, 2, 3, 1, 4,\n",
    "    3, 2, 3, 2, 4, 3, 2, 1, 2, 3, 4, 5, 3, 2, 1, 2, 3, 4, 3, 5, 4, 2, 3, 1,2]\n",
    "C = [1, 2, 3, 4, 3, 5, 4, 2, 3, 1, 4, 3, 2, 3, 2, 4, 3, 2, 1, 2, 3, 4, 5, 3, 2,\n",
    "    1, 2, 3, 4, 3, 5, 4, 2, 3, 1, 2, 3, 4, 5, 3, 2, 1, 2, 3, 4, 3, 5, 4, 2,1]"
   ]
  },
  {
   "cell_type": "markdown",
   "id": "e1a96d72-a916-41e4-ab51-ab9d115177f9",
   "metadata": {},
   "source": [
    "* Null Hypothesis [Ho] : µA = µB = µC\n",
    "* Alternate Hypothesis[H1] : µA is not equal to µB is not equal to µC.\n",
    "\n",
    "* Significance Value : α = 0.05 (Assuming)\n",
    "\n",
    "* Degree of freedom : N = 150, n=50, a=3\n",
    "    \n",
    "       df between = a-1 =2\n",
    "       df within = N-a = 150 -3 = 147\n",
    "       df total = 150-1 = 149\n",
    "       "
   ]
  },
  {
   "cell_type": "code",
   "execution_count": 20,
   "id": "b50a5429-9f5b-4be3-a0f4-0c1ac43748d8",
   "metadata": {},
   "outputs": [
    {
     "name": "stdout",
     "output_type": "stream",
     "text": [
      "Critical value: 3.057620651649394\n"
     ]
    }
   ],
   "source": [
    "import scipy.stats as stat\n",
    "#Degrees of freedom\n",
    "df_between = 2\n",
    "df_within = 147\n",
    "df_total = 149\n",
    "\n",
    "# Significance level (alpha)\n",
    "alpha = 0.05\n",
    "\n",
    "# Calculate the critical value\n",
    "critical_value = stat.f.ppf(1 - alpha, df_between, df_within)\n",
    "\n",
    "# Print the critical value\n",
    "print(\"Critical value:\", critical_value)\n"
   ]
  },
  {
   "cell_type": "code",
   "execution_count": 21,
   "id": "a08d6577-76d1-4024-b9b5-b81e3167d946",
   "metadata": {},
   "outputs": [],
   "source": [
    "mean1=np.mean(A)\n",
    "mean2=np.mean(B)\n",
    "mean3=np.mean(C)"
   ]
  },
  {
   "cell_type": "code",
   "execution_count": 22,
   "id": "1f0e19aa-3d63-4c46-a0f3-8a26b8a3ff3b",
   "metadata": {},
   "outputs": [],
   "source": [
    "Grand_mean = (np.sum(A) + np.sum (B) + np.sum (C)) / ((len(A)+len(B)+len(C)))"
   ]
  },
  {
   "cell_type": "code",
   "execution_count": 23,
   "id": "170355cc-8093-4b65-93da-f793736e98a7",
   "metadata": {},
   "outputs": [],
   "source": [
    "# Calculating Sum of Square Within\n",
    "ssw1=[]\n",
    "ssw2=[]\n",
    "ssw3=[]\n",
    "for i in A:\n",
    "    ssw1.append((i - mean1)**2)\n",
    "for i in B:\n",
    "    ssw2.append((i - mean2)**2)\n",
    "for i in C:\n",
    "    ssw3.append((i - mean3)**2)"
   ]
  },
  {
   "cell_type": "code",
   "execution_count": 24,
   "id": "033765b7-31b3-45d1-84fb-00d17cae150d",
   "metadata": {},
   "outputs": [
    {
     "data": {
      "text/plain": [
       "201.88"
      ]
     },
     "execution_count": 24,
     "metadata": {},
     "output_type": "execute_result"
    }
   ],
   "source": [
    "SSW=np.sum(ssw1) + np.sum (ssw2) + np.sum(ssw3)\n",
    "SSW"
   ]
  },
  {
   "cell_type": "code",
   "execution_count": 25,
   "id": "a30bb775-8ed3-433f-9ea1-dfdced740649",
   "metadata": {},
   "outputs": [
    {
     "data": {
      "text/plain": [
       "0.2800000000000005"
      ]
     },
     "execution_count": 25,
     "metadata": {},
     "output_type": "execute_result"
    }
   ],
   "source": [
    "# Calculating Sum of Square Between\n",
    "ssb1=[]\n",
    "ssb2=[]\n",
    "ssb3=[]\n",
    "for i in A:\n",
    "    ssb1.append((mean1- Grand_mean)**2)\n",
    "for i in B:\n",
    "    ssb2.append((mean2- Grand_mean)**2)\n",
    "for i in C:\n",
    "    ssb3.append((mean3- Grand_mean)**2)\n",
    "SSB=np.sum(ssb1) + np.sum (ssb2) + np.sum(ssb3)\n",
    "SSB"
   ]
  },
  {
   "cell_type": "code",
   "execution_count": 26,
   "id": "ef4a450f-2497-4bab-a9a3-9ac2c9d1ee77",
   "metadata": {},
   "outputs": [],
   "source": [
    "# Calculating Sum of Square Total\n",
    "sst1=[]\n",
    "sst2=[]\n",
    "sst3=[]\n",
    "for i in A:\n",
    "    sst1.append((i- Grand_mean)**2)\n",
    "for i in B:\n",
    "    sst2.append((i- Grand_mean)**2)\n",
    "for i in C:\n",
    "    sst3.append((i- Grand_mean)**2)"
   ]
  },
  {
   "cell_type": "code",
   "execution_count": 27,
   "id": "3258ca0e-f9f1-4873-9e81-37d715a33660",
   "metadata": {},
   "outputs": [],
   "source": [
    "SST= np.sum(sst1) + np.sum (sst2) + np.sum(sst3)"
   ]
  },
  {
   "cell_type": "code",
   "execution_count": 28,
   "id": "c54a2398-9d9c-4e37-affc-06aeb57a2c29",
   "metadata": {},
   "outputs": [
    {
     "data": {
      "text/plain": [
       "202.16000000000003"
      ]
     },
     "execution_count": 28,
     "metadata": {},
     "output_type": "execute_result"
    }
   ],
   "source": [
    "SST"
   ]
  },
  {
   "cell_type": "code",
   "execution_count": 29,
   "id": "900faae4-b54a-4855-9d5b-fc0600366375",
   "metadata": {},
   "outputs": [
    {
     "data": {
      "text/plain": [
       "202.16"
      ]
     },
     "execution_count": 29,
     "metadata": {},
     "output_type": "execute_result"
    }
   ],
   "source": [
    "## Another method for SST\n",
    "SSW + SSB"
   ]
  },
  {
   "cell_type": "code",
   "execution_count": 30,
   "id": "84e5a2b4-8e32-4037-8aa3-d6488015a508",
   "metadata": {},
   "outputs": [],
   "source": [
    "# Mean of Squares\n",
    "\n",
    "Ms_between = SSB/df_between\n",
    "\n",
    "Ms_within = SSW/df_within\n",
    "\n",
    "Ms_total = SST/df_total"
   ]
  },
  {
   "cell_type": "code",
   "execution_count": 31,
   "id": "0c10f490-e75a-4636-aad2-53d3764296fd",
   "metadata": {},
   "outputs": [],
   "source": [
    "f = Ms_between / Ms_within"
   ]
  },
  {
   "cell_type": "code",
   "execution_count": 32,
   "id": "1f9900fc-3a2c-43a2-8929-84f56aa90c35",
   "metadata": {},
   "outputs": [
    {
     "name": "stdout",
     "output_type": "stream",
     "text": [
      "p-value: 0.903145943262158\n"
     ]
    }
   ],
   "source": [
    "import scipy.stats as stats\n",
    "\n",
    "# F-statistic and degrees of freedom\n",
    "f_statistic = f  # Replace with the actual calculated F-statistic\n",
    "df_between = 2\n",
    "df_within = 147\n",
    "\n",
    "# Calculate the p-value\n",
    "p_value = 1 - stats.f.cdf(f_statistic, df_between, df_within)\n",
    "\n",
    "# Print the p-value\n",
    "print(\"p-value:\", p_value)\n"
   ]
  },
  {
   "cell_type": "code",
   "execution_count": 33,
   "id": "bee1d2f5-878d-4c96-b1ac-7dc710ac7dc1",
   "metadata": {},
   "outputs": [
    {
     "name": "stdout",
     "output_type": "stream",
     "text": [
      "We Fail to Reject the Null Hypothesis.\n"
     ]
    }
   ],
   "source": [
    "if f > 3.057620651649394:\n",
    "    print (\"Reject the Null Hypothesis.\")\n",
    "else :\n",
    "    print (\"We Fail to Reject the Null Hypothesis.\")"
   ]
  },
  {
   "cell_type": "markdown",
   "id": "ec901697-86c5-4156-8c05-02c4997767f1",
   "metadata": {},
   "source": [
    "The one-way ANOVA results indicate that we fail to reject the null hypothesis. This means that there is not enough evidence to conclude that there are significant differences between the mean weight loss of the three diets (A, B, and C)."
   ]
  },
  {
   "cell_type": "markdown",
   "id": "f6abdd7a-a93e-4227-8ad5-045342c1fbda",
   "metadata": {},
   "source": [
    "### Q10. A company wants to know if there are any significant differences in the average time it takes to complete a task using three different software programs: Program A, Program B, and Program C. They randomly assign 30 employees to one of the programs and record the time it takes each employee to complete the task. Conduct a two-way ANOVA using Python to determine if there are any main effects or interaction effects between the software programs and employee experience level (novice vs. experienced). Report the F-statistics and p-values, and interpret the results."
   ]
  },
  {
   "cell_type": "code",
   "execution_count": 34,
   "id": "014ef216-ae06-40ce-8b34-1a76f27da40b",
   "metadata": {},
   "outputs": [
    {
     "data": {
      "text/html": [
       "<div>\n",
       "<style scoped>\n",
       "    .dataframe tbody tr th:only-of-type {\n",
       "        vertical-align: middle;\n",
       "    }\n",
       "\n",
       "    .dataframe tbody tr th {\n",
       "        vertical-align: top;\n",
       "    }\n",
       "\n",
       "    .dataframe thead th {\n",
       "        text-align: right;\n",
       "    }\n",
       "</style>\n",
       "<table border=\"1\" class=\"dataframe\">\n",
       "  <thead>\n",
       "    <tr style=\"text-align: right;\">\n",
       "      <th></th>\n",
       "      <th>Time</th>\n",
       "      <th>Program</th>\n",
       "      <th>Experience</th>\n",
       "    </tr>\n",
       "  </thead>\n",
       "  <tbody>\n",
       "    <tr>\n",
       "      <th>0</th>\n",
       "      <td>12</td>\n",
       "      <td>A</td>\n",
       "      <td>Novice</td>\n",
       "    </tr>\n",
       "    <tr>\n",
       "      <th>1</th>\n",
       "      <td>15</td>\n",
       "      <td>B</td>\n",
       "      <td>Experienced</td>\n",
       "    </tr>\n",
       "    <tr>\n",
       "      <th>2</th>\n",
       "      <td>18</td>\n",
       "      <td>C</td>\n",
       "      <td>Novice</td>\n",
       "    </tr>\n",
       "    <tr>\n",
       "      <th>3</th>\n",
       "      <td>14</td>\n",
       "      <td>A</td>\n",
       "      <td>Experienced</td>\n",
       "    </tr>\n",
       "    <tr>\n",
       "      <th>4</th>\n",
       "      <td>16</td>\n",
       "      <td>B</td>\n",
       "      <td>Novice</td>\n",
       "    </tr>\n",
       "  </tbody>\n",
       "</table>\n",
       "</div>"
      ],
      "text/plain": [
       "   Time Program   Experience\n",
       "0    12       A       Novice\n",
       "1    15       B  Experienced\n",
       "2    18       C       Novice\n",
       "3    14       A  Experienced\n",
       "4    16       B       Novice"
      ]
     },
     "execution_count": 34,
     "metadata": {},
     "output_type": "execute_result"
    }
   ],
   "source": [
    "import pandas as pd\n",
    "\n",
    "# Arrays for time, program, and experience\n",
    "time = [12, 15, 18, 14, 16, 13, 11, 17, 20, 19, 14, 16, 13, 12, 15, 18, 14, 16, 13, 11, 17, 20, 19, 14, 16, 13, 12, 15, 18, 14]\n",
    "program = ['A', 'B', 'C'] * 10\n",
    "experience = ['Novice', 'Experienced'] * 15\n",
    "\n",
    "# Create the DataFrame\n",
    "data = pd.DataFrame({'Time': time, 'Program': program, 'Experience': experience})\n",
    "\n",
    "# Display the DataFrame\n",
    "data.head()\n"
   ]
  },
  {
   "cell_type": "code",
   "execution_count": 35,
   "id": "bfc01451-e4b0-4262-846a-5ee7af54eac9",
   "metadata": {},
   "outputs": [],
   "source": [
    "import pandas as pd\n",
    "import scipy.stats as stats\n",
    "import statsmodels.api as sm\n",
    "from statsmodels.formula.api import ols\n"
   ]
  },
  {
   "cell_type": "code",
   "execution_count": 36,
   "id": "0deb7986-85a0-4561-979a-016d46741392",
   "metadata": {},
   "outputs": [],
   "source": [
    "model = ols(\"Time ~ Program + Experience + Program:Experience\", data=data).fit()\n",
    "anova_table = sm.stats.anova_lm(model, typ=2)\n"
   ]
  },
  {
   "cell_type": "markdown",
   "id": "e19e7d89-856e-42ae-8146-4374f21b49b7",
   "metadata": {},
   "source": [
    "_To interpret the results, focus on the p-values. A p-value less than the significance level (e.g., 0.05) suggests that there is a significant effect._\n",
    "\n",
    "* If the p-value for the \"Program\" factor is significant, it indicates that there are significant differences in the average time to complete the task among the three software programs (A, B, and C).\n",
    "* If the p-value for the \"Experience\" factor is significant, it suggests that there are significant differences in the average time to complete the task between novice and experienced employees.\n",
    "* If the p-value for the interaction effect is significant, it implies that the effect of the software program on the time to complete the task differs depending on the employee's experience level."
   ]
  },
  {
   "cell_type": "code",
   "execution_count": 37,
   "id": "a17c47f7-eaea-46f9-8e37-bb62b7c8828f",
   "metadata": {},
   "outputs": [
    {
     "name": "stdout",
     "output_type": "stream",
     "text": [
      "                        sum_sq    df         F    PR(>F)\n",
      "Program               1.866667   2.0  0.173375  0.841866\n",
      "Experience            0.033333   1.0  0.006192  0.937932\n",
      "Program:Experience   69.066667   2.0  6.414861  0.005863\n",
      "Residual            129.200000  24.0       NaN       NaN\n",
      "There is a significant interaction effect between the software programs and employee experience level.\n"
     ]
    }
   ],
   "source": [
    "print(anova_table)\n",
    "\n",
    "# Example interpretation\n",
    "if anova_table['PR(>F)']['Program'] < 0.05:\n",
    "    print(\"There is a significant difference in the average time to complete the task among the software programs.\")\n",
    "\n",
    "if anova_table['PR(>F)']['Experience'] < 0.05:\n",
    "    print(\"There is a significant difference in the average time to complete the task between novice and experienced employees.\")\n",
    "\n",
    "if anova_table['PR(>F)']['Program:Experience'] < 0.05:\n",
    "    print(\"There is a significant interaction effect between the software programs and employee experience level.\")\n"
   ]
  },
  {
   "cell_type": "markdown",
   "id": "fb4e58b4-0b7c-4fbe-beb0-a9006bc2a8cb",
   "metadata": {},
   "source": [
    "### Q11. An educational researcher is interested in whether a new teaching method improves student test scores. They randomly assign 100 students to either the control group (traditional teaching method) or the experimental group (new teaching method) and administer a test at the end of the semester. Conduct a two-sample t-test using Python to determine  if there are any significant differences in test scores between the two groups. If the results are significant, follow up with a post-hoc test to determine which group(s) differ significantly from each other."
   ]
  },
  {
   "cell_type": "code",
   "execution_count": 38,
   "id": "5055114a-9ee0-49e1-bd38-9cbbaf978cdb",
   "metadata": {},
   "outputs": [],
   "source": [
    "import numpy as np\n",
    "from scipy import stats"
   ]
  },
  {
   "cell_type": "code",
   "execution_count": 39,
   "id": "e53f28a9-3735-4174-a41c-96be2a3a3075",
   "metadata": {},
   "outputs": [],
   "source": [
    "# Generate random test scores for the control and experimental groups\n",
    "np.random.seed(42)  # Set a seed for reproducibility\n",
    "control_scores = np.random.normal(loc=70, scale=10, size=100)\n",
    "experimental_scores = np.random.normal(loc=75, scale=10, size=100)"
   ]
  },
  {
   "cell_type": "code",
   "execution_count": 40,
   "id": "8a166e10-c47a-49c1-82ae-0446b46decb2",
   "metadata": {},
   "outputs": [],
   "source": [
    "# Perform two-sample t-test\n",
    "t_statistic, p_value = stats.ttest_ind(control_scores, experimental_scores)\n",
    "alpha = 0.05  # Significance level"
   ]
  },
  {
   "cell_type": "code",
   "execution_count": 41,
   "id": "21a0c4b3-c70f-4701-a3a7-1c7c6beb1b03",
   "metadata": {},
   "outputs": [
    {
     "name": "stdout",
     "output_type": "stream",
     "text": [
      "Two-sample t-test results:\n",
      "t-statistic: -4.7547\n",
      "p-value: 0.0000\n"
     ]
    }
   ],
   "source": [
    "print(\"Two-sample t-test results:\")\n",
    "print(f\"t-statistic: {t_statistic:.4f}\")\n",
    "print(f\"p-value: {p_value:.4f}\")"
   ]
  },
  {
   "cell_type": "code",
   "execution_count": 42,
   "id": "0f81a286-812a-4d91-8ca9-a38f63c1e920",
   "metadata": {},
   "outputs": [
    {
     "name": "stdout",
     "output_type": "stream",
     "text": [
      "There is a significant difference in test scores between the control and experimental groups.\n"
     ]
    }
   ],
   "source": [
    "if p_value < alpha:\n",
    "    print(\"There is a significant difference in test scores between the control and experimental groups.\")\n",
    "else:\n",
    "    print(\"There is no significant difference in test scores between the control and experimental groups.\")"
   ]
  },
  {
   "cell_type": "code",
   "execution_count": 43,
   "id": "290dcdc3-5c85-4532-a101-4d260a0d6aaa",
   "metadata": {},
   "outputs": [],
   "source": [
    "df = pd.DataFrame({\n",
    "    'Test Scores': np.concatenate([control_scores, experimental_scores]),\n",
    "    'Group': np.concatenate([np.repeat('Control', len(control_scores)),\n",
    "                             np.repeat('Experimental', len(experimental_scores))])\n",
    "})"
   ]
  },
  {
   "cell_type": "code",
   "execution_count": 44,
   "id": "d1d2f344-8a15-47c0-8357-0775b62c041a",
   "metadata": {},
   "outputs": [
    {
     "name": "stdout",
     "output_type": "stream",
     "text": [
      "  Multiple Comparison of Means - Tukey HSD, FWER=0.05   \n",
      "========================================================\n",
      " group1    group2    meandiff p-adj lower  upper  reject\n",
      "--------------------------------------------------------\n",
      "Control Experimental   6.2615   0.0 3.6645 8.8585   True\n",
      "--------------------------------------------------------\n"
     ]
    }
   ],
   "source": [
    "from statsmodels.stats.multicomp import pairwise_tukeyhsd\n",
    "\n",
    "tukey_results = pairwise_tukeyhsd(df['Test Scores'], df['Group'])\n",
    "print(tukey_results)"
   ]
  },
  {
   "cell_type": "markdown",
   "id": "64b27446-5c40-4a3f-b547-a42e9b6673cf",
   "metadata": {},
   "source": [
    "### Q12. A researcher wants to know if there are any significant differences in the average daily sales of three retail stores: Store A, Store B, and Store C. They randomly select 30 days and record the sales for each store on those days. Conduct a repeated measures ANOVA using Python to determine if there are any significant differences in sales between the three stores. If the results are significant, follow up with a post- hoc test to determine which store(s) differ significantly from each other."
   ]
  },
  {
   "cell_type": "code",
   "execution_count": 45,
   "id": "5beec13b-bd7a-46b5-8232-c1d76eda275e",
   "metadata": {},
   "outputs": [],
   "source": [
    "import numpy as np\n",
    "\n",
    "store_a=np.random.randint(10000,25000,30)\n",
    "store_b=np.random.randint(10000,20000,30)\n",
    "store_c=np.random.randint(10000,30000,30)\n"
   ]
  },
  {
   "cell_type": "code",
   "execution_count": 46,
   "id": "52d195dd-8460-41ab-b966-b9e8530a2b81",
   "metadata": {},
   "outputs": [],
   "source": [
    "# Create a dataframe with the sales data\n",
    "df = pd.DataFrame({\n",
    "    'Day': list(range(1, 31)) * 3,  # Day numbers\n",
    "    'Store': ['A'] * 30 + ['B'] * 30 + ['C'] * 30,  # Store labels\n",
    "    'Sales': [120, 135, 128, 110, 115, 130, 125, 132, 122, 130, 133, 140, 120, 128, 118, 122, 128, 115,\n",
    "              150, 142, 138, 145, 148, 135, 138, 132, 130, 128, 120, 125, 170, 175, 180, 165, 168, 172,\n",
    "              210, 198, 202, 190, 205, 192, 158, 160, 168, 155, 150, 165, 132, 135, 138, 140, 142, 128,\n",
    "              125, 120, 122, 118, 115, 155, 152, 148, 150, 160, 158, 240, 235, 230, 220, 225, 222, 178,\n",
    "              172, 180, 185, 188, 195, 168, 175, 172, 170, 162, 158, 198, 205, 210, 202, 200, 192,323]\n",
    "})"
   ]
  },
  {
   "cell_type": "code",
   "execution_count": 47,
   "id": "4e2a17cf-ee33-4303-8f35-4463cedf5e1e",
   "metadata": {},
   "outputs": [
    {
     "name": "stdout",
     "output_type": "stream",
     "text": [
      "   Day Store  Sales\n",
      "0    1     A    120\n",
      "1    2     A    135\n",
      "2    3     A    128\n",
      "3    4     A    110\n",
      "4    5     A    115\n"
     ]
    }
   ],
   "source": [
    "print(df.head())"
   ]
  },
  {
   "cell_type": "code",
   "execution_count": 48,
   "id": "78fa4673-4578-47e5-803b-f7a4dfb29286",
   "metadata": {},
   "outputs": [],
   "source": [
    "import statsmodels.api as sm"
   ]
  },
  {
   "cell_type": "code",
   "execution_count": 49,
   "id": "e22e6480-2a15-4d3c-bef2-2fd583c416c9",
   "metadata": {},
   "outputs": [],
   "source": [
    "from statsmodels.formula.api import mixedlm"
   ]
  },
  {
   "cell_type": "code",
   "execution_count": 50,
   "id": "83a8628a-0228-403c-9686-892520f6e313",
   "metadata": {},
   "outputs": [
    {
     "name": "stdout",
     "output_type": "stream",
     "text": [
      "         Mixed Linear Model Regression Results\n",
      "========================================================\n",
      "Model:             MixedLM Dependent Variable: Sales    \n",
      "No. Observations:  90      Method:             REML     \n",
      "No. Groups:        30      Scale:              708.5962 \n",
      "Min. group size:   3       Log-Likelihood:     -415.4107\n",
      "Max. group size:   3       Converged:          Yes      \n",
      "Mean group size:   3.0                                  \n",
      "--------------------------------------------------------\n",
      "            Coef.  Std.Err.   z    P>|z|  [0.025  0.975]\n",
      "--------------------------------------------------------\n",
      "Intercept  129.400    4.939 26.200 0.000 119.720 139.080\n",
      "Store[T.B]  29.033    6.873  4.224 0.000  15.562  42.504\n",
      "Store[T.C]  63.033    6.873  9.171 0.000  49.562  76.504\n",
      "Group Var   23.196    3.134                             \n",
      "========================================================\n",
      "\n"
     ]
    }
   ],
   "source": [
    "df['Store'] = df['Store'].astype('category')\n",
    "df['Day'] = df['Day'].astype('category')\n",
    "\n",
    "# Fit the repeated measures ANOVA model\n",
    "model = mixedlm('Sales ~ Store', data=df, groups=df['Day'])\n",
    "result = model.fit()\n",
    "\n",
    "# Print the ANOVA table\n",
    "print(result.summary())"
   ]
  },
  {
   "cell_type": "markdown",
   "id": "e1701ada-59bf-4706-8360-2d4f69271f95",
   "metadata": {},
   "source": [
    "#### Conclusion: results suggest that store type has a significant impact on sales. Stores of type T.B and T.C have significantly higher sales than the average store. "
   ]
  },
  {
   "cell_type": "markdown",
   "id": "202c4925-869a-481d-9372-a57082974ac9",
   "metadata": {},
   "source": [
    "## The End"
   ]
  }
 ],
 "metadata": {
  "kernelspec": {
   "display_name": "Python 3 (ipykernel)",
   "language": "python",
   "name": "python3"
  },
  "language_info": {
   "codemirror_mode": {
    "name": "ipython",
    "version": 3
   },
   "file_extension": ".py",
   "mimetype": "text/x-python",
   "name": "python",
   "nbconvert_exporter": "python",
   "pygments_lexer": "ipython3",
   "version": "3.10.8"
  }
 },
 "nbformat": 4,
 "nbformat_minor": 5
}
