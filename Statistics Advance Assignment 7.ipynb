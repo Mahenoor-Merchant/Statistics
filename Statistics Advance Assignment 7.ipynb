{
 "cells": [
  {
   "cell_type": "markdown",
   "id": "dc7ca998-5635-4ac7-9556-e7780c1e2e4c",
   "metadata": {},
   "source": [
    "# Statistics Advance Assignment 7"
   ]
  },
  {
   "cell_type": "markdown",
   "id": "25fc7e7a-05a7-441e-9b29-9391cb19b405",
   "metadata": {},
   "source": [
    "### Q1. Write a Python function that takes in two arrays of data and calculates the F-value for a variance ratio test. The function should return the F-value and the corresponding p-value for the test."
   ]
  },
  {
   "cell_type": "code",
   "execution_count": 1,
   "id": "b3922fa8-f08c-4d99-8b74-f941d8826c49",
   "metadata": {},
   "outputs": [],
   "source": [
    "import numpy as np\n",
    "import scipy.stats as stat\n",
    "from scipy.stats import f\n",
    "\n",
    "def test (data1, data2):\n",
    "    f_test = np.var(data1)/np.var( data2)\n",
    "    \n",
    "    df1=len(data1)-1\n",
    "    df2=len(data2)-1\n",
    "    p_value = f.sf(f_test, df1, df2)\n",
    "    \n",
    "    print(\"f_test:\", f_test, \"p-value:\", p_value)\n",
    "        "
   ]
  },
  {
   "cell_type": "code",
   "execution_count": 2,
   "id": "ece248ed-2f27-432f-81d7-0cd7718815e4",
   "metadata": {},
   "outputs": [
    {
     "name": "stdout",
     "output_type": "stream",
     "text": [
      "f_test: 1.0224395952700231 p-value: 0.5000008288542184\n"
     ]
    }
   ],
   "source": [
    "test([10,20,34,56,78,64,98,56,53,75],[90,87,64,34,12,56,77,45])"
   ]
  },
  {
   "cell_type": "markdown",
   "id": "4e257bb9-d285-481b-b890-59e9a4140487",
   "metadata": {},
   "source": [
    "### Q2. Given a significance level of 0.05 and the degrees of freedom for the numerator and denominator of an F-distribution, write a Python function that returns the critical F-value for a two-tailed test."
   ]
  },
  {
   "cell_type": "code",
   "execution_count": 3,
   "id": "77843bac-92d1-4514-830a-2f6b377bd891",
   "metadata": {},
   "outputs": [],
   "source": [
    "def test2 (df_num,df_den):\n",
    "    alpha = 0.05\n",
    "    critical_value = stat.f.ppf(1-alpha, dfn=df_num, dfd=df_den)\n",
    "    return critical_value\n"
   ]
  },
  {
   "cell_type": "code",
   "execution_count": 4,
   "id": "e5e98848-a1c8-47a3-9433-566d11985f94",
   "metadata": {},
   "outputs": [
    {
     "data": {
      "text/plain": [
       "1.9102874554747564"
      ]
     },
     "execution_count": 4,
     "metadata": {},
     "output_type": "execute_result"
    }
   ],
   "source": [
    "test2(23,29)"
   ]
  },
  {
   "cell_type": "markdown",
   "id": "2d7bd573-c373-482c-9d6d-8bbf498bdfe5",
   "metadata": {},
   "source": [
    "### Q3. Write a Python program that generates random samples from two normal distributions with known variances and uses an F-test to determine if the variances are equal. The program should output the F-value, degrees of freedom, and p-value for the test."
   ]
  },
  {
   "cell_type": "code",
   "execution_count": 5,
   "id": "3a621b17-7a8b-493e-9930-4816e586e0a4",
   "metadata": {},
   "outputs": [],
   "source": [
    "import scipy.stats as stat\n",
    "from scipy.stats import f\n",
    "def test3(sample1, sample2) :\n",
    "    \n",
    "    f_value = np.var(sample1)/ np.var (sample2)\n",
    "    \n",
    "    df1 = len(sample1 ) - 1\n",
    "    df2 = len(sample2 ) - 1\n",
    "    \n",
    "    p_value = f.sf( f_value, df1, df2 )\n",
    "    \n",
    "    print (\"f-value:\", f_value ,\"  df1:\", df1, \"  df2: \", df2, \"  p-value: \", p_value)"
   ]
  },
  {
   "cell_type": "code",
   "execution_count": 6,
   "id": "9aaff129-07cf-4293-a4c5-94c28529a4e7",
   "metadata": {},
   "outputs": [
    {
     "name": "stdout",
     "output_type": "stream",
     "text": [
      "f-value: 0.5820502838568864   df1: 29   df2:  49   p-value:  0.9393497806240769\n"
     ]
    }
   ],
   "source": [
    "import numpy as np\n",
    "sample1 = np.random.normal(size=30)\n",
    "sample2 = np.random.normal(size=50)\n",
    "test3(sample1, sample2)"
   ]
  },
  {
   "cell_type": "markdown",
   "id": "0011fa86-dd58-47af-b08c-0ba7f0d34c32",
   "metadata": {},
   "source": [
    "### Q4.The variances of two populations are known to be 10 and 15. A sample of 12 observations is taken from each population. Conduct an F-test at the 5% significance level to determine if the variances are significantly different."
   ]
  },
  {
   "cell_type": "code",
   "execution_count": 7,
   "id": "04114202-ec86-48c0-b93e-cd390f90dfc4",
   "metadata": {},
   "outputs": [
    {
     "name": "stdout",
     "output_type": "stream",
     "text": [
      "There is no Significant difference.\n"
     ]
    }
   ],
   "source": [
    "var1=10 \n",
    "var2 = 15 \n",
    "df1= 12-1\n",
    "df2= 12-1\n",
    "alpha = 0.05\n",
    "\n",
    "f_value = var1/ var2\n",
    "critical_value=stat.f.ppf(q=1-alpha, dfn=df1, dfd=df2)\n",
    "\n",
    "if f_value > critical_value:\n",
    "    print(\"There is a Significant difference.\")\n",
    "else :\n",
    "    print(\"There is no Significant difference.\")"
   ]
  },
  {
   "cell_type": "markdown",
   "id": "89ec5224-1b50-4cfb-ad46-a8f01889eb18",
   "metadata": {},
   "source": [
    "### Q5. A manufacturer claims that the variance of the diameter of a certain product is 0.005. A sample of 25 products is taken, and the sample variance is found to be 0.006. Conduct an F-test at the 1% significance level to determine if the claim is justified."
   ]
  },
  {
   "cell_type": "code",
   "execution_count": 8,
   "id": "db982683-9e2d-4169-b522-20d9d813e14d",
   "metadata": {},
   "outputs": [
    {
     "name": "stdout",
     "output_type": "stream",
     "text": [
      "f_value: 0.8333333333333334  critical_value: 2.659072104348157\n",
      "There is no Significant difference.\n"
     ]
    }
   ],
   "source": [
    "# data from the question is as follows:\n",
    "assumed_var = 0.005\n",
    "sample_var = 0.006\n",
    "n = 25\n",
    "dfn = n-1\n",
    "dfd = n-1\n",
    "alpha = 0.01\n",
    "\n",
    "import scipy.stats as stat\n",
    "\n",
    "\n",
    "f_value = assumed_var/ sample_var\n",
    "critical_value = stat.f.ppf (q = 1-alpha, dfn=dfn, dfd=dfd)\n",
    "\n",
    "print(\"f_value:\", f_value,\" critical_value:\", critical_value)\n",
    "\n",
    "\n",
    "# conclusion\n",
    "if f_value > critical_value:\n",
    "    print(\"There is a Significant difference.\")\n",
    "else :\n",
    "    print(\"There is no Significant difference.\")"
   ]
  },
  {
   "cell_type": "markdown",
   "id": "8f4687fd-232a-491a-888a-c1e21e3cf224",
   "metadata": {},
   "source": [
    "### Q6. Write a Python function that takes in the degrees of freedom for the numerator and denominator of an F-distribution and calculates the mean and variance of the distribution. The function should return the mean and variance as a tuple."
   ]
  },
  {
   "cell_type": "code",
   "execution_count": 9,
   "id": "f19bfc90-04d1-4959-8f66-e1728ae408d2",
   "metadata": {},
   "outputs": [],
   "source": [
    "def test4 (dfn, dfd):\n",
    "    \n",
    "    # calculate mean\n",
    "    if dfd > 2:\n",
    "        mean = dfd / (dfd - 2)\n",
    "    else:\n",
    "        mean = float('inf')\n",
    "        \n",
    "        \n",
    "     # calculate variance   \n",
    "    if dfd> 4:\n",
    "             variance = (2 * (dfd** 2) * (dfn+ dfd- 2)) / (dfn* (dfd- 2) ** 2 * (dfd- 4))\n",
    "    elif dfd<= 4 and dfd> 2:\n",
    "             variance = float('inf')\n",
    "    else:\n",
    "            variance = float('nan')\n",
    "            \n",
    "    print (\"mean=\",(mean),\"  variance=\",(variance))\n",
    "\n",
    "             \n",
    "\n"
   ]
  },
  {
   "cell_type": "code",
   "execution_count": 10,
   "id": "4b2cb38a-e789-457e-9c75-e08097cb2938",
   "metadata": {},
   "outputs": [
    {
     "name": "stdout",
     "output_type": "stream",
     "text": [
      "mean= 1.0425531914893618   variance= 0.12659877998227384\n"
     ]
    }
   ],
   "source": [
    "test4(29,49)"
   ]
  },
  {
   "cell_type": "markdown",
   "id": "ffa2eba8-b7fc-4a54-b989-ef802c3a51bd",
   "metadata": {},
   "source": [
    "### Q7. A random sample of 10 measurements is taken from a normal population with unknown variance. The sample variance is found to be 25. Another random sample of 15 measurements is taken from another normal population with unknown variance, and the sample variance is found to be 20. Conduct an F-test at the 10% significance level to determine if the variances are significantly different."
   ]
  },
  {
   "cell_type": "code",
   "execution_count": 11,
   "id": "6f7aaa4e-eadd-4559-af16-6c2b47e65e60",
   "metadata": {},
   "outputs": [
    {
     "name": "stdout",
     "output_type": "stream",
     "text": [
      "f_value: 1.25  critical_value: 2.121954566976902\n",
      "There is no Significant difference.\n"
     ]
    }
   ],
   "source": [
    "# data from question\n",
    "n1= 10\n",
    "sample_variance1 = 25\n",
    "\n",
    "n2= 15\n",
    "sample_variance2 = 20\n",
    "\n",
    "#setting degrees of freedom\n",
    "dfn = n1-1\n",
    "dfd = n2-1\n",
    "\n",
    "alpha = 0.10\n",
    "\n",
    "#Performing tests\n",
    "\n",
    "import scipy.stats as stat\n",
    "\n",
    "f_value = sample_variance1 / sample_variance2\n",
    "critical_value = stat.f.ppf (q = 1-alpha, dfn=dfn, dfd=dfd)\n",
    "\n",
    "print(\"f_value:\", f_value,\" critical_value:\", critical_value)\n",
    "\n",
    "# conclusion\n",
    "if f_value > critical_value or f_value < (1 / critical_value):\n",
    "    print(\"There is a Significant difference.\")\n",
    "else :\n",
    "    print(\"There is no Significant difference.\")"
   ]
  },
  {
   "cell_type": "markdown",
   "id": "f36c417d-9f0a-4f1f-bcfb-537a3357b54c",
   "metadata": {},
   "source": [
    "### Q8. The following data represent the waiting times in minutes at two different restaurants on a Saturday night: Restaurant A: 24, 25, 28, 23, 22, 20, 27; Restaurant B: 31, 33, 35, 30, 32, 36. Conduct an F-test at the 5% significance level to determine if the variances are significantly different."
   ]
  },
  {
   "cell_type": "code",
   "execution_count": 12,
   "id": "19c4b5da-0730-43d3-a5b5-cc3f2652abc4",
   "metadata": {},
   "outputs": [],
   "source": [
    "# data from question\n",
    "Restaurant_A=[ 24, 25, 28, 23, 22, 20, 27]\n",
    "Restaurant_B=[ 31, 33, 35, 30, 32, 36]\n",
    "alpha = 0.05\n",
    "\n",
    "dfn = len(Restaurant_A)-1\n",
    "dfd = len(Restaurant_B)-1"
   ]
  },
  {
   "cell_type": "code",
   "execution_count": 13,
   "id": "3affd235-5333-42bc-b86d-2dbe68a9dcf4",
   "metadata": {},
   "outputs": [
    {
     "name": "stdout",
     "output_type": "stream",
     "text": [
      "f_value: 1.496767651159843  critical_value: 4.950288068694318\n",
      "There is no Significant difference.\n"
     ]
    }
   ],
   "source": [
    "import numpy as np\n",
    "import scipy.stats as stat\n",
    "from scipy.stats import f\n",
    "\n",
    "f_value = np.var(Restaurant_A)/ np.var(Restaurant_B)\n",
    "critical_value = stat.f.ppf(q= 1-alpha,dfn=dfn, dfd=dfd)\n",
    "\n",
    "\n",
    "print(\"f_value:\", f_value,\" critical_value:\", critical_value)\n",
    "\n",
    "# conclusion\n",
    "if f_value > critical_value or f_value < (1 / critical_value):\n",
    "    print(\"There is a Significant difference.\")\n",
    "else :\n",
    "    print(\"There is no Significant difference.\")"
   ]
  },
  {
   "cell_type": "markdown",
   "id": "d62656ea-3965-4c36-8756-76ca83188751",
   "metadata": {},
   "source": [
    "### Q9. The following data represent the test scores of two groups of students: Group A: 80, 85, 90, 92, 87, 83; Group B: 75, 78, 82, 79, 81, 84. Conduct an F-test at the 1% significance level to determine if the variances are significantly different."
   ]
  },
  {
   "cell_type": "code",
   "execution_count": 14,
   "id": "81885cbf-dc8d-4769-9cff-77072089ff99",
   "metadata": {},
   "outputs": [
    {
     "name": "stdout",
     "output_type": "stream",
     "text": [
      "f_value: 1.9442622950819677  critical_value: 10.967020650907992\n",
      "There is no Significant difference.\n"
     ]
    }
   ],
   "source": [
    "Group_A = [80, 85, 90, 92, 87, 83]\n",
    "Group_B = [75, 78, 82, 79, 81, 84]\n",
    "df1 = len(Group_A)-1\n",
    "df2 = len(Group_B)-1\n",
    "\n",
    "alpha = 0.01\n",
    "\n",
    "#calculations\n",
    "f_value = np.var(Group_A) / np.var(Group_B)\n",
    "critical_value = stat.f.ppf(q=1-alpha, dfn=df1, dfd=df2)\n",
    "\n",
    "print(\"f_value:\", f_value,\" critical_value:\", critical_value)\n",
    "\n",
    "# conclusion\n",
    "if f_value > critical_value or f_value < (1 / critical_value):\n",
    "    print(\"There is a Significant difference.\")\n",
    "else :\n",
    "    print(\"There is no Significant difference.\")"
   ]
  },
  {
   "cell_type": "markdown",
   "id": "e886303a-a04f-4a3d-8e8a-e39797169e11",
   "metadata": {},
   "source": [
    "## The End"
   ]
  }
 ],
 "metadata": {
  "kernelspec": {
   "display_name": "Python 3 (ipykernel)",
   "language": "python",
   "name": "python3"
  },
  "language_info": {
   "codemirror_mode": {
    "name": "ipython",
    "version": 3
   },
   "file_extension": ".py",
   "mimetype": "text/x-python",
   "name": "python",
   "nbconvert_exporter": "python",
   "pygments_lexer": "ipython3",
   "version": "3.10.8"
  }
 },
 "nbformat": 4,
 "nbformat_minor": 5
}
