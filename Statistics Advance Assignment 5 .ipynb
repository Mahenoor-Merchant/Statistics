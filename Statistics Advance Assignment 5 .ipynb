{
 "cells": [
  {
   "cell_type": "markdown",
   "id": "82760cc7-08b1-4061-8b96-ae46722718d3",
   "metadata": {},
   "source": [
    "# Statistics Advance Assignment 5"
   ]
  },
  {
   "cell_type": "markdown",
   "id": "aeb03f0d-df98-44e9-90c6-22aa975ac59e",
   "metadata": {},
   "source": [
    "### Q1. Calculate the 95% confidence interval for a sample of data with a mean of 50 and a standard deviation of 5 using Python. Interpret the results."
   ]
  },
  {
   "cell_type": "markdown",
   "id": "4c890a05-d1c7-49fb-9aee-7f5934a9afe1",
   "metadata": {},
   "source": [
    "### Confidence Interval = x̄ ± zα/2 * σ / √n\n",
    "where:\n",
    "\n",
    "* CI is the confidence interval\n",
    "* x̄ is the sample mean\n",
    "* σ is the population standard deviation\n",
    "* zα/2 is the z-score for the desired confidence level\n",
    "* n is the sample size"
   ]
  },
  {
   "cell_type": "markdown",
   "id": "1bf9a9d1-c355-4d5a-a3da-bdcb904ae2f6",
   "metadata": {},
   "source": [
    "Assuming n to be 100\n",
    "\n",
    "Z-score of 95% Confidence interval is 1.96"
   ]
  },
  {
   "cell_type": "code",
   "execution_count": 1,
   "id": "33539648-b9ca-4cee-9187-86638e5c926c",
   "metadata": {},
   "outputs": [],
   "source": [
    "from math import sqrt\n",
    "Lower_ci= 50  - ( 1.96* (5/sqrt(100)))\n",
    "Upper_ci= 50  + ( 1.96* (5/sqrt(100)))"
   ]
  },
  {
   "cell_type": "code",
   "execution_count": 2,
   "id": "09a5c022-6956-4cb9-b4e6-9b6151fc566d",
   "metadata": {},
   "outputs": [
    {
     "name": "stdout",
     "output_type": "stream",
     "text": [
      "I am 95% confident that the population mean lies between 49.02 and 50.98\n"
     ]
    }
   ],
   "source": [
    "print(\"I am 95% confident that the population mean lies between \"+ str(Lower_ci)+ \" and \" + str(Upper_ci))"
   ]
  },
  {
   "cell_type": "markdown",
   "id": "6cd9ac09-dfc2-498b-bd8b-d2688219121f",
   "metadata": {},
   "source": [
    "### Q2. Conduct a chi-square goodness of fit test to determine if the distribution of colors of M&Ms in a bag matches the expected distribution of 20% blue, 20% orange, 20% green, 10% yellow, 10% red, and 20% brown. Use Python to perform the test with a significance level of 0.05."
   ]
  },
  {
   "cell_type": "markdown",
   "id": "3b1fbd2a-b4df-46b0-9d7b-9ea89a186167",
   "metadata": {},
   "source": [
    "Lets consider the following as observed data:"
   ]
  },
  {
   "cell_type": "code",
   "execution_count": 3,
   "id": "15c19a5f-85c2-4e5a-8994-d028eed66a7a",
   "metadata": {},
   "outputs": [],
   "source": [
    "import pandas as pd\n",
    "df=pd.DataFrame({\"Colours\":[\"Blue\",\"Orange\",\"Green\",\"Yellow\",\"Red\",\"Brown\"],\"Expected_Data(in %)\":[20,20,20,10,10,20],\"Observed_Data\":[45,55,50,30,25,95]})"
   ]
  },
  {
   "cell_type": "code",
   "execution_count": 4,
   "id": "d5f59f43-2d0c-4539-8a3f-e09d225b8ae7",
   "metadata": {},
   "outputs": [
    {
     "data": {
      "text/plain": [
       "300"
      ]
     },
     "execution_count": 4,
     "metadata": {},
     "output_type": "execute_result"
    }
   ],
   "source": [
    "sum(df['Observed_Data'])"
   ]
  },
  {
   "cell_type": "code",
   "execution_count": 5,
   "id": "08fc3db8-aabd-4811-a1dd-32d9224a58ab",
   "metadata": {},
   "outputs": [],
   "source": [
    "\n",
    "df['Expected_Data'] = (df['Expected_Data(in %)']/100 )*300"
   ]
  },
  {
   "cell_type": "code",
   "execution_count": 6,
   "id": "8d808c89-0b93-4d58-9433-4e5fd5d55d38",
   "metadata": {},
   "outputs": [
    {
     "data": {
      "text/html": [
       "<div>\n",
       "<style scoped>\n",
       "    .dataframe tbody tr th:only-of-type {\n",
       "        vertical-align: middle;\n",
       "    }\n",
       "\n",
       "    .dataframe tbody tr th {\n",
       "        vertical-align: top;\n",
       "    }\n",
       "\n",
       "    .dataframe thead th {\n",
       "        text-align: right;\n",
       "    }\n",
       "</style>\n",
       "<table border=\"1\" class=\"dataframe\">\n",
       "  <thead>\n",
       "    <tr style=\"text-align: right;\">\n",
       "      <th></th>\n",
       "      <th>Colours</th>\n",
       "      <th>Expected_Data(in %)</th>\n",
       "      <th>Observed_Data</th>\n",
       "      <th>Expected_Data</th>\n",
       "    </tr>\n",
       "  </thead>\n",
       "  <tbody>\n",
       "    <tr>\n",
       "      <th>0</th>\n",
       "      <td>Blue</td>\n",
       "      <td>20</td>\n",
       "      <td>45</td>\n",
       "      <td>60.0</td>\n",
       "    </tr>\n",
       "    <tr>\n",
       "      <th>1</th>\n",
       "      <td>Orange</td>\n",
       "      <td>20</td>\n",
       "      <td>55</td>\n",
       "      <td>60.0</td>\n",
       "    </tr>\n",
       "    <tr>\n",
       "      <th>2</th>\n",
       "      <td>Green</td>\n",
       "      <td>20</td>\n",
       "      <td>50</td>\n",
       "      <td>60.0</td>\n",
       "    </tr>\n",
       "    <tr>\n",
       "      <th>3</th>\n",
       "      <td>Yellow</td>\n",
       "      <td>10</td>\n",
       "      <td>30</td>\n",
       "      <td>30.0</td>\n",
       "    </tr>\n",
       "    <tr>\n",
       "      <th>4</th>\n",
       "      <td>Red</td>\n",
       "      <td>10</td>\n",
       "      <td>25</td>\n",
       "      <td>30.0</td>\n",
       "    </tr>\n",
       "    <tr>\n",
       "      <th>5</th>\n",
       "      <td>Brown</td>\n",
       "      <td>20</td>\n",
       "      <td>95</td>\n",
       "      <td>60.0</td>\n",
       "    </tr>\n",
       "  </tbody>\n",
       "</table>\n",
       "</div>"
      ],
      "text/plain": [
       "  Colours  Expected_Data(in %)  Observed_Data  Expected_Data\n",
       "0    Blue                   20             45           60.0\n",
       "1  Orange                   20             55           60.0\n",
       "2   Green                   20             50           60.0\n",
       "3  Yellow                   10             30           30.0\n",
       "4     Red                   10             25           30.0\n",
       "5   Brown                   20             95           60.0"
      ]
     },
     "execution_count": 6,
     "metadata": {},
     "output_type": "execute_result"
    }
   ],
   "source": [
    "df"
   ]
  },
  {
   "cell_type": "code",
   "execution_count": 7,
   "id": "25301ff2-a677-4d92-9781-71963147592d",
   "metadata": {},
   "outputs": [],
   "source": [
    "import scipy.stats as stat\n",
    "chisquare_test_statistics,p_value=stat.chisquare(df['Observed_Data'],df['Expected_Data'])"
   ]
  },
  {
   "cell_type": "code",
   "execution_count": 8,
   "id": "850e3412-7054-4bdc-8f67-1447e8b4eb5a",
   "metadata": {},
   "outputs": [
    {
     "data": {
      "text/plain": [
       "(27.083333333333336, 5.4949987771074724e-05)"
      ]
     },
     "execution_count": 8,
     "metadata": {},
     "output_type": "execute_result"
    }
   ],
   "source": [
    "chisquare_test_statistics,p_value"
   ]
  },
  {
   "cell_type": "code",
   "execution_count": 9,
   "id": "7bcfbaf4-1004-46c9-b1e9-107a573cd1da",
   "metadata": {},
   "outputs": [],
   "source": [
    "# find the critical value\n",
    "significance_value=0.05\n",
    "dof=len(df['Expected_Data']) -1\n",
    "crtitcal_value= stat.chi2.ppf(1-significance_value,dof)"
   ]
  },
  {
   "cell_type": "code",
   "execution_count": 10,
   "id": "4ce06eb2-7de0-4238-a68b-e0a65d434f07",
   "metadata": {},
   "outputs": [
    {
     "name": "stdout",
     "output_type": "stream",
     "text": [
      "we reject the null hypothesis\n"
     ]
    }
   ],
   "source": [
    "if chisquare_test_statistics > crtitcal_value:\n",
    "     print (\"we reject the null hypothesis\")\n",
    "else :\n",
    "    print (\"we fail to reject the null hypothesis\")"
   ]
  },
  {
   "cell_type": "markdown",
   "id": "0659ddc1-0dd2-416b-8223-ffab8a5aff3e",
   "metadata": {},
   "source": [
    "### Conclusion: Expected data matches the Observed Data"
   ]
  },
  {
   "cell_type": "markdown",
   "id": "6e056d53-d1db-4310-84b7-d3f50e9b4b6c",
   "metadata": {},
   "source": [
    "### Q3. Use Python to calculate the chi-square statistic and p-value for a contingency table with the following data:"
   ]
  },
  {
   "cell_type": "code",
   "execution_count": 11,
   "id": "13a6e510-c380-481e-9708-791f62ed3208",
   "metadata": {},
   "outputs": [],
   "source": [
    "data=({\"Outcome\":[\"Outcome1\",\"Outcome2\",\"Outcome3\"],\"Group A\":[20,10,15],\"Group B\":[15,25,20]})"
   ]
  },
  {
   "cell_type": "code",
   "execution_count": 12,
   "id": "dbc89666-6ad0-426a-8926-a92759bde478",
   "metadata": {},
   "outputs": [],
   "source": [
    "import pandas as pd\n",
    "df1 = pd.DataFrame(data)\n",
    "df1 = df1.set_index('Outcome')"
   ]
  },
  {
   "cell_type": "code",
   "execution_count": 13,
   "id": "11714b2e-bba4-4b9e-a00c-2532658b0993",
   "metadata": {},
   "outputs": [
    {
     "data": {
      "text/html": [
       "<div>\n",
       "<style scoped>\n",
       "    .dataframe tbody tr th:only-of-type {\n",
       "        vertical-align: middle;\n",
       "    }\n",
       "\n",
       "    .dataframe tbody tr th {\n",
       "        vertical-align: top;\n",
       "    }\n",
       "\n",
       "    .dataframe thead th {\n",
       "        text-align: right;\n",
       "    }\n",
       "</style>\n",
       "<table border=\"1\" class=\"dataframe\">\n",
       "  <thead>\n",
       "    <tr style=\"text-align: right;\">\n",
       "      <th></th>\n",
       "      <th>Group A</th>\n",
       "      <th>Group B</th>\n",
       "    </tr>\n",
       "    <tr>\n",
       "      <th>Outcome</th>\n",
       "      <th></th>\n",
       "      <th></th>\n",
       "    </tr>\n",
       "  </thead>\n",
       "  <tbody>\n",
       "    <tr>\n",
       "      <th>Outcome1</th>\n",
       "      <td>20</td>\n",
       "      <td>15</td>\n",
       "    </tr>\n",
       "    <tr>\n",
       "      <th>Outcome2</th>\n",
       "      <td>10</td>\n",
       "      <td>25</td>\n",
       "    </tr>\n",
       "    <tr>\n",
       "      <th>Outcome3</th>\n",
       "      <td>15</td>\n",
       "      <td>20</td>\n",
       "    </tr>\n",
       "  </tbody>\n",
       "</table>\n",
       "</div>"
      ],
      "text/plain": [
       "          Group A  Group B\n",
       "Outcome                   \n",
       "Outcome1       20       15\n",
       "Outcome2       10       25\n",
       "Outcome3       15       20"
      ]
     },
     "execution_count": 13,
     "metadata": {},
     "output_type": "execute_result"
    }
   ],
   "source": [
    "df1"
   ]
  },
  {
   "cell_type": "code",
   "execution_count": 14,
   "id": "70e8bafc-e6d4-46df-8033-116e652933c2",
   "metadata": {},
   "outputs": [
    {
     "name": "stdout",
     "output_type": "stream",
     "text": [
      "Chi-square statistic: 5.833333333333334\n",
      "p-value: 0.05411376622282158\n"
     ]
    }
   ],
   "source": [
    "from scipy.stats import chi2_contingency\n",
    "\n",
    "# Define the contingency table\n",
    "observed = [[20, 15],\n",
    "            [10, 25],\n",
    "            [15, 20]]\n",
    "\n",
    "# Perform chi-square test\n",
    "chi2, p_value, dof, expected = chi2_contingency(observed)\n",
    "\n",
    "# Print the results\n",
    "print(\"Chi-square statistic:\", chi2)\n",
    "print(\"p-value:\", p_value)"
   ]
  },
  {
   "cell_type": "markdown",
   "id": "bf21d7f0-ff8e-4f97-94dc-19ac47a61d38",
   "metadata": {},
   "source": [
    "### Q4. A study of the prevalence of smoking in a population of 500 individuals found that 60 individuals smoked. Use Python to calculate the 95% confidence interval for the true proportion of individuals in the population who smoke."
   ]
  },
  {
   "cell_type": "code",
   "execution_count": 15,
   "id": "382471e7-856e-47ef-84df-760b84008d30",
   "metadata": {},
   "outputs": [],
   "source": [
    "import math\n",
    "\n",
    "sample_size = 500\n",
    "sample_proportion = 60 / sample_size\n",
    "confidence_level = 0.95"
   ]
  },
  {
   "cell_type": "markdown",
   "id": "109b2180-cffd-43eb-918d-ed3e9fbe86e8",
   "metadata": {},
   "source": [
    "### Margin_of_error= zα/2 * σ / √n\n",
    "### CI = x̄ ± Margin_of_error"
   ]
  },
  {
   "cell_type": "markdown",
   "id": "7472aff1-fe79-4c47-ada5-4b7c4e010d25",
   "metadata": {},
   "source": [
    "### standard_error = sqrt((p * (1 - p)) / n)"
   ]
  },
  {
   "cell_type": "code",
   "execution_count": 16,
   "id": "78152c14-e562-4c70-ad0f-e0ee02fe150c",
   "metadata": {},
   "outputs": [],
   "source": [
    "import scipy.stats as stat\n",
    "# Calculate the standard error\n",
    "standard_error = math.sqrt((sample_proportion * (1 - sample_proportion)) / sample_size)"
   ]
  },
  {
   "cell_type": "code",
   "execution_count": 17,
   "id": "c54c34ef-f48e-4bd0-a6e8-1e6c47b85528",
   "metadata": {},
   "outputs": [
    {
     "name": "stdout",
     "output_type": "stream",
     "text": [
      "Confidence Interval: [0.0915, 0.1485]\n"
     ]
    }
   ],
   "source": [
    "# Calculate the margin of error\n",
    "margin_of_error = stat.norm.ppf(1 - (1 - confidence_level) / 2) * standard_error\n",
    "\n",
    "# Calculate the lower and upper bounds of the confidence interval\n",
    "lower_bound = sample_proportion - margin_of_error\n",
    "upper_bound = sample_proportion + margin_of_error\n",
    "\n",
    "# Print the confidence interval\n",
    "print(\"Confidence Interval: [{:.4f}, {:.4f}]\".format(lower_bound, upper_bound))"
   ]
  },
  {
   "cell_type": "markdown",
   "id": "bd35ad21-1aef-4a8a-9027-67e8db2f252b",
   "metadata": {},
   "source": [
    "### Q5. Calculate the 90% confidence interval for a sample of data with a mean of 75 and a standard deviation of 12 using Python. Interpret the results."
   ]
  },
  {
   "cell_type": "code",
   "execution_count": 18,
   "id": "694a2f18-49af-4ea3-ac75-32c0e3043006",
   "metadata": {},
   "outputs": [
    {
     "name": "stdout",
     "output_type": "stream",
     "text": [
      "Z-score for a 90% confidence interval: 1.6448536269514722\n"
     ]
    }
   ],
   "source": [
    "import scipy.stats as stats\n",
    "\n",
    "confidence_level = 0.9\n",
    "\n",
    "# Calculate the Z-score\n",
    "z_score = stats.norm.ppf(1 - (1 - confidence_level) / 2)\n",
    "\n",
    "# Print the Z-score\n",
    "print(\"Z-score for a 90% confidence interval:\", z_score)\n"
   ]
  },
  {
   "cell_type": "code",
   "execution_count": 19,
   "id": "16ee4cc2-9691-4206-aa60-e967da6cd4bb",
   "metadata": {},
   "outputs": [],
   "source": [
    "from math import sqrt\n",
    "\n",
    "mean=75\n",
    "standard_deviation=12\n",
    "confidence_level = 0.90\n",
    "sample_size=100\n",
    "\n",
    "margin_of_error = 1.65 * (standard_deviation/ sqrt(sample_size) )"
   ]
  },
  {
   "cell_type": "code",
   "execution_count": 20,
   "id": "60f870b9-145b-4ac2-aad3-0a7ae32db793",
   "metadata": {},
   "outputs": [],
   "source": [
    "lower_bound = mean - margin_of_error\n",
    "upper_bound = mean + margin_of_error"
   ]
  },
  {
   "cell_type": "code",
   "execution_count": 21,
   "id": "0d90dec5-a7f7-4e45-85e5-f4ca8d3b6b95",
   "metadata": {},
   "outputs": [
    {
     "name": "stdout",
     "output_type": "stream",
     "text": [
      "Confidence Interval: [73.0200, 76.9800]\n"
     ]
    }
   ],
   "source": [
    "print(\"Confidence Interval: [{:.4f}, {:.4f}]\".format(lower_bound, upper_bound))"
   ]
  },
  {
   "cell_type": "markdown",
   "id": "80d33912-fba9-44a2-91a0-b8f0014bde13",
   "metadata": {},
   "source": [
    "### Q6. Use Python to plot the chi-square distribution with 10 degrees of freedom. Label the axes and shade the area corresponding to a chi-square statistic of 15."
   ]
  },
  {
   "cell_type": "code",
   "execution_count": 22,
   "id": "be82c6dd-ad05-479e-a03f-95b22a3d3084",
   "metadata": {},
   "outputs": [],
   "source": [
    "import numpy as np\n",
    "import matplotlib.pyplot as plt\n",
    "import scipy.stats as stats\n"
   ]
  },
  {
   "cell_type": "code",
   "execution_count": 23,
   "id": "19b7e6ce-08b4-440f-bdb5-d8c67fb226bf",
   "metadata": {},
   "outputs": [],
   "source": [
    "df = 10"
   ]
  },
  {
   "cell_type": "markdown",
   "id": "49e81d75-65b0-4e0c-a2f2-da3b42952304",
   "metadata": {},
   "source": [
    "defines the degrees of freedom (df) for the chi-square distribution. In this case, we set it to 10."
   ]
  },
  {
   "cell_type": "code",
   "execution_count": 24,
   "id": "49f53e4a-507b-44cb-87cc-6546aed65d5e",
   "metadata": {},
   "outputs": [],
   "source": [
    "x = np.linspace(0, 30, 500)"
   ]
  },
  {
   "cell_type": "markdown",
   "id": "07833a2f-ba7b-48eb-9ce1-e615c2f300f0",
   "metadata": {},
   "source": [
    "generates an array of 500 evenly spaced values ranging from 0 to 30. These values will be used as the x-axis values for plotting the chi-square distribution."
   ]
  },
  {
   "cell_type": "code",
   "execution_count": 25,
   "id": "2874c4af-c19e-450c-b846-fb81314ea114",
   "metadata": {},
   "outputs": [],
   "source": [
    "pdf = stats.chi2.pdf(x, df)"
   ]
  },
  {
   "cell_type": "markdown",
   "id": "74dcc5dc-ef62-4655-b038-418fe38cc93a",
   "metadata": {},
   "source": [
    "This line calculates the probability density function (PDF) of the chi-square distribution using the pdf() function from scipy.stats.chi2. It takes the array of x values (x) and the degrees of freedom (df) as input and returns the corresponding PDF values."
   ]
  },
  {
   "cell_type": "code",
   "execution_count": 26,
   "id": "9e6d1c14-4eb1-4fa8-bbb8-91a8b1fded51",
   "metadata": {},
   "outputs": [
    {
     "data": {
      "image/png": "[encoded data removed]",
      "text/plain": [
       "<Figure size 640x480 with 1 Axes>"
      ]
     },
     "metadata": {},
     "output_type": "display_data"
    }
   ],
   "source": [
    "plt.plot(x, pdf)\n",
    "x_fill = np.linspace(15, 30, 500)\n",
    "pdf_fill = stats.chi2.pdf(x_fill, df)\n",
    "plt.fill_between(x_fill, pdf_fill, color='green', alpha=0.3)\n",
    "plt.xlabel('Chi-square Statistic')\n",
    "plt.ylabel('Probability Density Function (PDF)')\n",
    "plt.show()"
   ]
  },
  {
   "cell_type": "markdown",
   "id": "9ddf7292-7d33-476f-8180-938a50ac1ddc",
   "metadata": {},
   "source": [
    "### Q7. A random sample of 1000 people was asked if they preferred Coke or Pepsi. Of the sample, 520 preferred Coke. Calculate a 99% confidence interval for the true proportion of people in the population who prefer Coke."
   ]
  },
  {
   "cell_type": "code",
   "execution_count": 27,
   "id": "884f7718-6696-4f23-afc1-a3feb30c4d99",
   "metadata": {},
   "outputs": [],
   "source": [
    "sample_size = 1000\n",
    "sample_proportion = 520/1000\n",
    "mean=520\n",
    "#Confidence_Interval is 99%\n",
    "Sigma = 0.01"
   ]
  },
  {
   "cell_type": "code",
   "execution_count": 28,
   "id": "a383baff-a537-46a1-96ff-531c17767324",
   "metadata": {},
   "outputs": [],
   "source": [
    "from math import sqrt\n",
    "standard_error = sqrt((sample_proportion * (1 - sample_proportion)) / sample_size)"
   ]
  },
  {
   "cell_type": "code",
   "execution_count": 29,
   "id": "9b62577f-5479-448d-bd31-c8c7a7c13b40",
   "metadata": {},
   "outputs": [],
   "source": [
    "Z_score = stats.norm.ppf(1 - (1 - 0.99) / 2)"
   ]
  },
  {
   "cell_type": "code",
   "execution_count": 30,
   "id": "cb4e8efb-6fa0-4121-8efa-d13d7718acfd",
   "metadata": {},
   "outputs": [],
   "source": [
    "margin_of_error = Z_score * standard_error"
   ]
  },
  {
   "cell_type": "code",
   "execution_count": 31,
   "id": "dd91317b-9e10-46cd-aa00-5838088ff610",
   "metadata": {},
   "outputs": [
    {
     "data": {
      "text/plain": [
       "(519.9593051576779, 520.0406948423221)"
      ]
     },
     "execution_count": 31,
     "metadata": {},
     "output_type": "execute_result"
    }
   ],
   "source": [
    "#Confidence_interval\n",
    "lower_bound= mean - margin_of_error\n",
    "upper_bound= mean + margin_of_error\n",
    "lower_bound,upper_bound"
   ]
  },
  {
   "cell_type": "markdown",
   "id": "42c298f4-28ba-4660-9dba-e3871e826a58",
   "metadata": {},
   "source": [
    "### Conclusion: \n",
    "This means that we are 99% confident that the true proportion of people in the population who prefer Coke falls between approximately 519.9593 and 520.0407.\n",
    "\n"
   ]
  },
  {
   "cell_type": "markdown",
   "id": "cb9be336-1625-4291-aefd-164b57abd1a1",
   "metadata": {},
   "source": [
    "### Q8. A researcher hypothesizes that a coin is biased towards tails. They flip the coin 100 times and observe 45 tails. Conduct a chi-square goodness of fit test to determine if the observed frequencies match the expected frequencies of a fair coin. Use a significance level of 0.05."
   ]
  },
  {
   "cell_type": "code",
   "execution_count": 32,
   "id": "f8dc32ab-26af-42dd-90ed-0cc35e7a4e54",
   "metadata": {},
   "outputs": [],
   "source": [
    "sample_size= 100\n",
    "observed =[45,55]\n",
    "expected = [50,50]\n",
    "sigma = 0.05\n",
    "chisquare_test_statistics,p_value=stat.chisquare(observed,expected)"
   ]
  },
  {
   "cell_type": "code",
   "execution_count": 33,
   "id": "2756ca8f-504a-4921-abe5-c6f0bbbc6927",
   "metadata": {},
   "outputs": [
    {
     "data": {
      "text/plain": [
       "(1.0, 0.31731050786291115)"
      ]
     },
     "execution_count": 33,
     "metadata": {},
     "output_type": "execute_result"
    }
   ],
   "source": [
    "chisquare_test_statistics,p_value"
   ]
  },
  {
   "cell_type": "code",
   "execution_count": 34,
   "id": "afa0b478-6274-471d-8d60-c408f7627b74",
   "metadata": {},
   "outputs": [],
   "source": [
    "# find the critical value\n",
    "significance_value=0.05\n",
    "dof=len(expected) -1\n",
    "crtitcal_value= stat.chi2.ppf(1-significance_value,dof)"
   ]
  },
  {
   "cell_type": "code",
   "execution_count": 35,
   "id": "40e7175f-acd5-454d-a676-8bd76fa9028d",
   "metadata": {},
   "outputs": [
    {
     "name": "stdout",
     "output_type": "stream",
     "text": [
      "we fail to reject the null hypothesis\n"
     ]
    }
   ],
   "source": [
    "if chisquare_test_statistics > crtitcal_value:\n",
    "     print (\"we reject the null hypothesis\")\n",
    "else :\n",
    "    print (\"we fail to reject the null hypothesis\")"
   ]
  },
  {
   "cell_type": "markdown",
   "id": "f62c5bcc-1377-4e7d-a7cd-ca1c3527c12a",
   "metadata": {},
   "source": [
    "### Q9. A study was conducted to determine if there is an association between smoking status (smoker or non-smoker) and lung cancer diagnosis (yes or no). The results are shown in the contingency table below. Conduct a chi-square test for independence to determine if there is a significant association between smoking status and lung cancer diagnosis.Use a significance level of 0.05."
   ]
  },
  {
   "cell_type": "code",
   "execution_count": 36,
   "id": "e88975ae-e530-4736-8eb7-9c7a369f0836",
   "metadata": {
    "jupyter": {
     "source_hidden": true
    },
    "tags": []
   },
   "outputs": [
    {
     "data": {
      "text/html": [
       "<div>\n",
       "<style scoped>\n",
       "    .dataframe tbody tr th:only-of-type {\n",
       "        vertical-align: middle;\n",
       "    }\n",
       "\n",
       "    .dataframe tbody tr th {\n",
       "        vertical-align: top;\n",
       "    }\n",
       "\n",
       "    .dataframe thead th {\n",
       "        text-align: right;\n",
       "    }\n",
       "</style>\n",
       "<table border=\"1\" class=\"dataframe\">\n",
       "  <thead>\n",
       "    <tr style=\"text-align: right;\">\n",
       "      <th></th>\n",
       "      <th>Lung Cancer Yes</th>\n",
       "      <th>Lung Cancer No</th>\n",
       "    </tr>\n",
       "    <tr>\n",
       "      <th>Status</th>\n",
       "      <th></th>\n",
       "      <th></th>\n",
       "    </tr>\n",
       "  </thead>\n",
       "  <tbody>\n",
       "    <tr>\n",
       "      <th>Smoker</th>\n",
       "      <td>60</td>\n",
       "      <td>140</td>\n",
       "    </tr>\n",
       "    <tr>\n",
       "      <th>Non-smoker</th>\n",
       "      <td>30</td>\n",
       "      <td>170</td>\n",
       "    </tr>\n",
       "  </tbody>\n",
       "</table>\n",
       "</div>"
      ],
      "text/plain": [
       "            Lung Cancer Yes  Lung Cancer No\n",
       "Status                                     \n",
       "Smoker                   60             140\n",
       "Non-smoker               30             170"
      ]
     },
     "execution_count": 36,
     "metadata": {},
     "output_type": "execute_result"
    }
   ],
   "source": [
    "import pandas as pd\n",
    "\n",
    "data = {\n",
    "    \"Status\": [\"Smoker\", \"Non-smoker\"],\n",
    "    \"Lung Cancer Yes\": [60, 30],\n",
    "    \"Lung Cancer No\": [140, 170]\n",
    "}\n",
    "\n",
    "df = pd.DataFrame(data)\n",
    "df = df.set_index('Status')\n",
    "df"
   ]
  },
  {
   "cell_type": "code",
   "execution_count": 37,
   "id": "f8a7282a-9d0c-4696-8388-365f13b87743",
   "metadata": {},
   "outputs": [
    {
     "name": "stdout",
     "output_type": "stream",
     "text": [
      "Chi-square statistic: 12.057347670250895\n",
      "p-value: 0.0005158863863703744\n"
     ]
    }
   ],
   "source": [
    "from scipy.stats import chi2_contingency\n",
    "\n",
    "# Define the contingency table\n",
    "observed = [[60, 140],\n",
    "            [30, 170]]\n",
    "\n",
    "# Perform chi-square test\n",
    "chi2, p_value, dof, expected = chi2_contingency(observed)\n",
    "\n",
    "# Print the results\n",
    "print(\"Chi-square statistic:\", chi2)\n",
    "print(\"p-value:\", p_value)"
   ]
  },
  {
   "cell_type": "code",
   "execution_count": 39,
   "id": "2d3e0fcb-7479-4dbb-b7d5-e68c37c91e2e",
   "metadata": {},
   "outputs": [
    {
     "name": "stdout",
     "output_type": "stream",
     "text": [
      "Reject the null hypothesis. There is a significant association between smoking status and lung cancer diagnosis.\n"
     ]
    }
   ],
   "source": [
    "alpha = 0.05\n",
    "\n",
    "# Compare p-value with significance level to make a decision\n",
    "if p_value < alpha:\n",
    "    print(\"Reject the null hypothesis. There is a significant association between smoking status and lung cancer diagnosis.\")\n",
    "else:\n",
    "    print(\"Fail to reject the null hypothesis. There is no significant association between smoking status and lung cancer diagnosis.\")\n"
   ]
  },
  {
   "attachments": {
    "b3fe7c9f-1882-4606-93f4-170ca8c7300a.png": {
     "image/png": "[encoded data removed]"
    }
   },
   "cell_type": "markdown",
   "id": "45195d30-bb45-4d98-a649-5e7c50e0ef57",
   "metadata": {},
   "source": [
    "### Q10. A study was conducted to determine if the proportion of people who prefer milk chocolate, dark chocolate, or white chocolate is different in the U.S. versus the U.K. A random sample of 500 people from the U.S. and a random sample of 500 people from the U.K. were surveyed. The results are shown in the contingency table below. Conduct a chi-square test for independence to determine if there is a significant association between chocolate preference and country of origin.Use a significance level of 0.01.\n",
    "![image.png](attachment:b3fe7c9f-1882-4606-93f4-170ca8c7300a.png)"
   ]
  },
  {
   "cell_type": "code",
   "execution_count": 43,
   "id": "bdfb1b4c-9632-4f1a-b632-2909e01a5a66",
   "metadata": {},
   "outputs": [
    {
     "name": "stdout",
     "output_type": "stream",
     "text": [
      "Chi-square statistic: 13.393665158371041\n",
      "p_value : 0.0012348168997745918\n"
     ]
    }
   ],
   "source": [
    "observed=[[200 ,150, 150],\n",
    "         [225, 175, 100]]\n",
    "\n",
    "chi2, p_value,dof, expected = chi2_contingency(observed)\n",
    "\n",
    "print (\"Chi-square statistic:\" ,chi2)\n",
    "print(\"p_value :\", p_value)\n"
   ]
  },
  {
   "cell_type": "code",
   "execution_count": 46,
   "id": "400ccced-f173-4c79-9a36-ad7a1d7b33ce",
   "metadata": {},
   "outputs": [
    {
     "name": "stdout",
     "output_type": "stream",
     "text": [
      "Reject the null hypothesis.\n"
     ]
    }
   ],
   "source": [
    "\n",
    "alpha = 0.01\n",
    "\n",
    "# Compare p-value with significance level to make a decision\n",
    "if p_value < alpha:\n",
    "    print(\"Reject the null hypothesis.\")\n",
    "else :\n",
    "    print (\"We Fail to Reject the Null Hypothesis.\")"
   ]
  },
  {
   "cell_type": "markdown",
   "id": "1eb5992d-33bd-419d-98d8-5c6c4429cb2b",
   "metadata": {},
   "source": [
    "### Q11. A random sample of 30 people was selected from a population with an unknown mean and standard deviation. The sample mean was found to be 72 and the sample standard deviation was found to be 10. Conduct a hypothesis test to determine if the population mean is significantly different from 70. Use a significance level of 0.05."
   ]
  },
  {
   "cell_type": "code",
   "execution_count": 56,
   "id": "f5a7c9b2-34ed-4cc8-9aa0-9b47463cc0e5",
   "metadata": {},
   "outputs": [
    {
     "name": "stdout",
     "output_type": "stream",
     "text": [
      "Fail to reject the null hypothesis. There is not enough evidence to conclude that the population mean is significantly different from 70.\n",
      "t-statistic: 1.0954451150103321\n",
      "p-value: 0.28233623728606977\n"
     ]
    }
   ],
   "source": [
    "import scipy.stats as stats\n",
    "\n",
    "# Sample statistics\n",
    "sample_mean = 72\n",
    "sample_std = 10\n",
    "sample_size = 30\n",
    "\n",
    "# Null hypothesis: Population mean is 70\n",
    "null_mean = 70\n",
    "\n",
    "# Calculate the t-statistic\n",
    "t_stat = (sample_mean - null_mean) / (sample_std / (sample_size ** 0.5))\n",
    "\n",
    "# Calculate the p-value\n",
    "p_value = stats.t.sf(abs(t_stat), sample_size - 1) * 2\n",
    "\n",
    "# Significance level\n",
    "alpha = 0.05\n",
    "\n",
    "# Compare p-value with significance level to make a decision\n",
    "if p_value < alpha:\n",
    "    print(\"Reject the null hypothesis. The population mean is significantly different from 70.\")\n",
    "else:\n",
    "    print(\"Fail to reject the null hypothesis.\",\n",
    "          \"There is not enough evidence to conclude that the population mean is significantly different from 70.\")\n",
    "\n",
    "# Print the t-statistic and p-value\n",
    "print(\"t-statistic:\", t_stat)\n",
    "print(\"p-value:\", p_value)\n"
   ]
  },
  {
   "cell_type": "markdown",
   "id": "8442552e-25c3-4318-a9fa-8c7830873a59",
   "metadata": {},
   "source": [
    "## THE END"
   ]
  }
 ],
 "metadata": {
  "kernelspec": {
   "display_name": "Python 3 (ipykernel)",
   "language": "python",
   "name": "python3"
  },
  "language_info": {
   "codemirror_mode": {
    "name": "ipython",
    "version": 3
   },
   "file_extension": ".py",
   "mimetype": "text/x-python",
   "name": "python",
   "nbconvert_exporter": "python",
   "pygments_lexer": "ipython3",
   "version": "3.10.8"
  }
 },
 "nbformat": 4,
 "nbformat_minor": 5
}
