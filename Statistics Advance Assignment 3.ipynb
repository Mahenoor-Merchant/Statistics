{
 "cells": [
  {
   "cell_type": "markdown",
   "id": "05cac2db-4dcd-40f8-91cb-c6b798920b5d",
   "metadata": {},
   "source": [
    "# <span style = 'color:green'> Statistics Advance Assignment"
   ]
  },
  {
   "attachments": {
    "a6f3ef5a-c90c-4b82-9c97-7bc66f884017.png": {
     "image/png": "[encoded data removed]"
    }
   },
   "cell_type": "markdown",
   "id": "bd9ceefd-23cc-4f57-9c0c-9492f1419776",
   "metadata": {
    "jp-MarkdownHeadingCollapsed": true,
    "tags": []
   },
   "source": [
    "## <span style = 'color:green'> Q1: What is Estimation Statistics? Explain point estimate and interval estimate.\n",
    "    \n",
    "Defination: Estimation statistics is a branch of statistics that deals with estimating unknown population parameters based on sample data. It involves using sample statistics to make inferences about population parameters.\n",
    "    \n",
    "Estimates: It is observed numerical value used to estimate the unknown population parameter.\n",
    "    \n",
    "Point Estimate: Single numerical value used to estimate population parameter.\n",
    "    Example: Sample mean is a point estimate of population mean.\n",
    "\n",
    "![download.png](attachment:a6f3ef5a-c90c-4b82-9c97-7bc66f884017.png)\n",
    "    \n",
    "\n",
    "Interval Estimate: Range of value used to estimate the unknown population parameter.\n",
    "Interval estimates of population parameter are called as confindence intervals.\n",
    "    "
   ]
  },
  {
   "cell_type": "markdown",
   "id": "cfee8d8f-ebcb-483e-9999-804129209789",
   "metadata": {},
   "source": [
    "## <span style = 'color:green'> Q2. Write a Python function to estimate the population mean using a sample mean and standard deviation."
   ]
  },
  {
   "cell_type": "code",
   "execution_count": 1,
   "id": "379c2e79-bba2-42cd-86b9-d13ec3c88f5b",
   "metadata": {},
   "outputs": [],
   "source": [
    "# Lets consider the following data:\n",
    "\n",
    "sample_mean = 50\n",
    "standard_deviation = 10\n",
    "sample_size = 25\n",
    "# Sigma = 5% = 0.5\n",
    "#Confidnece_Interval=0.95"
   ]
  },
  {
   "cell_type": "code",
   "execution_count": 2,
   "id": "1438ea91-5bcb-484d-907c-9b46d9b0a0b6",
   "metadata": {},
   "outputs": [],
   "source": [
    "def estimate(sample_mean, standard_deviation,Sample_size ):\n",
    "    # assuming C.I as 95% Z-score will be 1.96\n",
    "    lower_confidnece_interval= sample_mean -(1.96 * (standard_deviation/ sample_size ** 0.5))\n",
    "    upper_confidnece_interval= sample_mean +(1.96 * (standard_deviation/ sample_size ** 0.5))\n",
    "    \n",
    "    return \"I am 95% confident that the mean lies between [{:.2f}, {:.2f}]\".format(lower_confidnece_interval, upper_confidnece_interval)"
   ]
  },
  {
   "cell_type": "code",
   "execution_count": 3,
   "id": "d7753f07-4045-48ee-aceb-6a0950699d46",
   "metadata": {},
   "outputs": [
    {
     "data": {
      "text/plain": [
       "'I am 95% confident that the mean lies between [46.08, 53.92]'"
      ]
     },
     "execution_count": 3,
     "metadata": {},
     "output_type": "execute_result"
    }
   ],
   "source": [
    "estimate(50,10,25)"
   ]
  },
  {
   "cell_type": "markdown",
   "id": "1b13ecf4-063b-461c-94a3-456861111c09",
   "metadata": {},
   "source": [
    "## <span style = 'color:green'> Q3: What is Hypothesis testing? Why is it used? State the importance of Hypothesis testing."
   ]
  },
  {
   "cell_type": "markdown",
   "id": "94935ba1-c131-431e-8f11-72fde68ddb8c",
   "metadata": {},
   "source": [
    "### Defination:\n",
    "Hypothesis testing is a statistical method used to make inferences and draw conclusions about a population based on a sample of data. It involves formulating two competing hypotheses, the null hypothesis (H0) and the alternative hypothesis (Ha), and conducting statistical tests to determine the likelihood of the observed data supporting one hypothesis over the other.\n",
    "\n",
    "### Uses:\n",
    "Hypothesis testing is used to assess the validity of assumptions or claims about a population parameter or the relationship between variables. It helps researchers and analysts make evidence-based decisions by providing a systematic framework for evaluating the significance and reliability of their findings. By testing hypotheses, we can determine if there is sufficient evidence to support a particular claim or if the observed results are simply due to chance.\n",
    "\n",
    "### Importance:\n",
    "The importance of hypothesis testing lies in its ability to provide a scientific and objective approach to decision-making. It helps in validating or refuting research hypotheses, determining the effectiveness of treatments or interventions, and assessing the significance of relationships or differences between variables. Hypothesis testing allows us to draw meaningful conclusions from data, make informed decisions, and contribute to the advancement of knowledge in various fields, including science, medicine, business, and social sciences."
   ]
  },
  {
   "cell_type": "markdown",
   "id": "57482532-5880-4398-8f3e-c1481f754884",
   "metadata": {},
   "source": [
    "## <span style = 'color:green'>Q4. Create a hypothesis that states whether the average weight of male college students is greater than the average weight of female college students."
   ]
  },
  {
   "attachments": {
    "812968ff-ee0a-4da6-8eef-3d7472888efe.png": {
     "image/png": "[encoded data removed]"
    },
    "980c2b12-5002-4d0a-a38e-9cc3e06c6881.gif": {
     "image/gif": "[encoded data removed]"
    }
   },
   "cell_type": "markdown",
   "id": "0ec454d6-ce74-45be-82f0-157cdcb8d983",
   "metadata": {},
   "source": [
    "### Step 1 : \n",
    "\n",
    "#### Null Hypotheisis [H0] :\n",
    "The average weight of male college students is greater than the average weight of female college students.\n",
    "\n",
    "### Step 2 : \n",
    "\n",
    "#### Alternate Hypotheisis[H1] :\n",
    "The average weight of male college students is not greater than the average weight of female college students.\n",
    "\n",
    "### Step 3 :\n",
    "\n",
    "95 % Confindence Interval .\n",
    "C.I= 0.95\n",
    "Sigma =0.5\n",
    "1-0.5=0.9750 \n",
    "Z-score of 0.9750 is 1.96\n",
    "\n",
    "![testing.gif](attachment:980c2b12-5002-4d0a-a38e-9cc3e06c6881.gif)\n",
    "\n",
    "\n",
    "### Step 4 :\n",
    "\n",
    "#### Statistical Analysis:\n",
    "\n",
    "Statistical Analysis can be done using the following formula\n",
    "### Z-test=![download.png](attachment:812968ff-ee0a-4da6-8eef-3d7472888efe.png)"
   ]
  },
  {
   "cell_type": "markdown",
   "id": "8ceccfdb-5c67-4634-8b6f-d1f7e7bd74cb",
   "metadata": {},
   "source": [
    "## <span style = 'color:green'>Q5. Write a Python script to conduct a hypothesis test on the difference between two population means, given a sample from each population."
   ]
  },
  {
   "cell_type": "code",
   "execution_count": 4,
   "id": "824e5c66-7def-4304-aefc-01c5d1175938",
   "metadata": {},
   "outputs": [
    {
     "name": "stdout",
     "output_type": "stream",
     "text": [
      "Test statistic: -2.77\n",
      "p-value: 0.0062\n",
      "Reject the null hypothesis\n"
     ]
    }
   ],
   "source": [
    "import numpy as np\n",
    "from scipy.stats import t\n",
    "\n",
    "# Sample data from population 1 and population 2\n",
    "pop1 = np.random.normal(10, 5, size=100)\n",
    "pop2 = np.random.normal(12, 5, size=100)\n",
    "\n",
    "# Calculate the sample means and sample standard deviations\n",
    "mean1 = np.mean(pop1)\n",
    "mean2 = np.mean(pop2)\n",
    "std1 = np.std(pop1, ddof=1)\n",
    "std2 = np.std(pop2, ddof=1)\n",
    "\n",
    "# Calculate the test statistic and degrees of freedom\n",
    "n1, n2 = len(pop1), len(pop2)\n",
    "s_pooled = np.sqrt(((n1 - 1) * std1 ** 2 + (n2 - 1) * std2 ** 2) / (n1 + n2 - 2))\n",
    "t_stat = (mean1 - mean2) / (s_pooled * np.sqrt(1/n1 + 1/n2))\n",
    "df = n1 + n2 - 2\n",
    "\n",
    "# Calculate the p-value\n",
    "p_value = (1 - t.cdf(abs(t_stat), df)) * 2\n",
    "\n",
    "# Set the significance level\n",
    "alpha = 0.05\n",
    "\n",
    "# Compare the p-value to the significance level and draw a conclusion\n",
    "if p_value < alpha:\n",
    "    print(f'Test statistic: {t_stat:.2f}')\n",
    "    print(f'p-value: {p_value:.4f}')\n",
    "    print('Reject the null hypothesis')\n",
    "else:\n",
    "    print(f'Test statistic: {t_stat:.2f}')\n",
    "    print(f'p-value: {p_value:.4f}')\n",
    "    print('Fail to reject the null hypothesis')"
   ]
  },
  {
   "cell_type": "markdown",
   "id": "8549885d-6af1-4d66-9286-f45eae9f2303",
   "metadata": {},
   "source": [
    "## <span style = 'color:green'>Q6: What is a null and alternative hypothesis? Give some examples."
   ]
  },
  {
   "cell_type": "markdown",
   "id": "7a503c02-86b5-4c60-b7c4-9bad6795707a",
   "metadata": {},
   "source": [
    "\n",
    "### 1] Null Hypothesis:\n",
    "\n",
    "The null hypothesis (H0) is a statement of no effect, no difference, or no relationship between variables. It assumes that any observed differences or relationships are due to chance or random variation.\n",
    "\n",
    "### 2] Alternative Hypothesis: \n",
    "\n",
    "The alternative hypothesis (Ha or H1) is a statement that contradicts or negates the null hypothesis. It suggests that there is an effect, a difference, or a relationship between variables that is not due to chance.\n",
    "\n",
    "### 3] Examples of Null and Alternative Hypotheses:\n",
    "\n",
    "* Example 1:\n",
    "\n",
    "Null Hypothesis: The mean test scores of students who receive tutoring are the same as those who do not receive tutoring.\n",
    "\n",
    "Alternative Hypothesis: The mean test scores of students who receive tutoring are different from those who do not receive tutoring.\n",
    "\n",
    "\n",
    "* Example 2:\n",
    "\n",
    "Null Hypothesis: There is no relationship between job satisfaction and employee productivity.\n",
    "\n",
    "Alternative Hypothesis: There is a relationship between job satisfaction and employee productivity.\n",
    "\n",
    "\n",
    "* Example 3:\n",
    "\n",
    "Null Hypothesis: The marketing campaign did not lead to an increase in product sales.\n",
    "\n",
    "Alternative Hypothesis: The marketing campaign led to an increase in product sales."
   ]
  },
  {
   "cell_type": "markdown",
   "id": "a81ab9f6-cf26-41ed-baa0-0c32be98996f",
   "metadata": {},
   "source": [
    "## <span style = 'color:green'>Q7: Write down the steps involved in hypothesis testing."
   ]
  },
  {
   "attachments": {
    "cc1788a6-acd5-4be2-a3a2-f7fe591a7c6e.png": {
     "image/png": "[encoded data removed]"
    }
   },
   "cell_type": "markdown",
   "id": "bcaabdd0-2cdf-4674-85b7-4cc1b40df5bc",
   "metadata": {},
   "source": [
    "### First Step \n",
    "* Null Hypothesis (H0):\n",
    "\n",
    "This states that there is no significant difference between the population parameter and the hypothesized value.\n",
    "\n",
    "### Second Step\n",
    "* Alternative Hypothesis (H1):\n",
    "\n",
    "This states that there is a significant difference between the population parameter and the hypothesized value.\n",
    "\n",
    "### Third Step\n",
    "* Set the Significance Level (α):\n",
    "\n",
    "The significance level, denoted by α, determines the probability of rejecting the null hypothesis when it is actually true.\n",
    "Commonly used significance levels are 0.05 (5%) or 0.01 (1%).\n",
    "\n",
    "### Fourth Step \n",
    "* Conduct the Test:\n",
    "\n",
    "Calculate the test statistic: For a z-test, it is the observed sample statistic minus the hypothesized population parameter, divided by the standard error.\n",
    "\n",
    "![download.png](attachment:cc1788a6-acd5-4be2-a3a2-f7fe591a7c6e.png)\n",
    "\n",
    "Determine the critical value: The critical value(s) is obtained from the z-table or a statistical software based on the chosen significance level.\n",
    "Compare the test statistic with the critical value(s): If the test statistic falls in the critical region (beyond the critical value(s)), the null hypothesis is rejected. Otherwise, it is not rejected.\n",
    "\n",
    "### Fifth Step\n",
    "\n",
    "* Make a Conclusion:\n",
    "\n",
    "Based on the comparison in step 3, either reject the null hypothesis or fail to reject it.\n",
    "If the null hypothesis is rejected, it suggests that there is sufficient evidence to support the alternative hypothesis.\n",
    "If the null hypothesis is not rejected, it means there is insufficient evidence to support the alternative hypothesis."
   ]
  },
  {
   "cell_type": "markdown",
   "id": "b48c0702-c152-47d4-b7a2-eb08ab934b3f",
   "metadata": {},
   "source": [
    "## <span style = 'color:green'>Q8. Define p-value and explain its significance in hypothesis testing."
   ]
  },
  {
   "cell_type": "markdown",
   "id": "a1ee6b18-5653-4341-ba4e-00512b16e6b4",
   "metadata": {},
   "source": [
    "### Definition:\n",
    "\n",
    "The p-value is a statistical measure that quantifies the strength of evidence against the null hypothesis in hypothesis testing. It represents the probability of obtaining a test statistic as extreme as, or more extreme than, the observed value, assuming that the null hypothesis is true.\n",
    "\n",
    "### Significance in Hypothesis Testing:\n",
    "\n",
    "The p-value plays a crucial role in hypothesis testing and is used to make decisions about the null hypothesis. Its significance can be understood as follows:\n",
    "\n",
    "If the p-value is less than the predetermined significance level (α), typically 0.05 or 0.01, it suggests that the observed data is statistically significant. This means that the observed result is unlikely to have occurred by chance alone, leading to the rejection of the null hypothesis in favor of the alternative hypothesis.\n",
    "\n",
    "If the p-value is greater than the significance level (α), it indicates that the observed data does not provide strong evidence against the null hypothesis. In this case, the null hypothesis is not rejected, and it is concluded that the observed result could plausibly occur due to chance or random variability.\n",
    "\n",
    "The smaller the p-value, the stronger the evidence against the null hypothesis. A very small p-value indicates a low probability of observing the data if the null hypothesis is true, suggesting a stronger case for rejecting the null hypothesis."
   ]
  },
  {
   "cell_type": "markdown",
   "id": "097fb327-62a9-448e-bed1-6d31294460ce",
   "metadata": {},
   "source": [
    "## <span style = 'color:green'>Q9. Generate a Student's t-distribution plot using Python's matplotlib library, with the degrees of freedom parameter set to 10."
   ]
  },
  {
   "cell_type": "code",
   "execution_count": 5,
   "id": "c9cb634d-a482-411c-bf17-7e43d10cf101",
   "metadata": {},
   "outputs": [
    {
     "data": {
      "image/png": "[encoded data removed]",
      "text/plain": [
       "<Figure size 640x480 with 1 Axes>"
      ]
     },
     "metadata": {},
     "output_type": "display_data"
    }
   ],
   "source": [
    "\"\"\"numpy (imported as np) is a library for numerical operations in Python.\n",
    "matplotlib.pyplot (imported as plt) is a plotting library that allows us to create visualizations.\n",
    "scipy.stats.t is a module from the SciPy library that provides functions related to the Student's t-distribution.\"\"\"\n",
    "\n",
    "import numpy as np\n",
    "import matplotlib.pyplot as plt\n",
    "from scipy.stats import t\n",
    "\n",
    "\"\"\"The degrees of freedom (df) parameter determines the shape of the Student's t-distribution.\n",
    "In this code, we set it to 10.\"\"\"\n",
    "df = 10\n",
    "\n",
    "\n",
    "\n",
    "\"\"\"We use np.linspace to create an array of 100 equally spaced x values that span the range of the t-distribution.\n",
    "The t.ppf function is used to calculate the percent point function (inverse cumulative distribution function)\n",
    "for the given degrees of freedom.\"\"\"\n",
    "x = np.linspace(t.ppf(0.001, df), t.ppf(0.999, df), 100)\n",
    "\n",
    "\n",
    "\n",
    "\"\"\"We use t.pdf to compute the probability density function (PDF) for the Student's t-distribution, \n",
    "given the x values and degrees of freedom.\"\"\"\n",
    "pdf = t.pdf(x, df)\n",
    "\n",
    "\n",
    "\n",
    "# Plot the t-distribution\n",
    "plt.plot(x, pdf, label=f\"t-distribution (df={df})\")\n",
    "plt.xlabel(\"x\")\n",
    "plt.ylabel(\"Probability Density\")\n",
    "plt.title(\"Student's t-distribution\")\n",
    "plt.legend()\n",
    "plt.grid(True)\n",
    "plt.show()\n"
   ]
  },
  {
   "cell_type": "markdown",
   "id": "d2746779-5118-44ab-8e87-19819fedd0d4",
   "metadata": {},
   "source": [
    "## <span style = 'color:green'>Q10. Write a Python program to calculate the two-sample t-test for independent samples, given two random samples of equal size and a null hypothesis that the population means are equal."
   ]
  },
  {
   "cell_type": "code",
   "execution_count": 6,
   "id": "e4ea8d2c-d76c-4550-be40-929cc1378dbb",
   "metadata": {},
   "outputs": [
    {
     "name": "stdout",
     "output_type": "stream",
     "text": [
      "-2.4131989996195315 0.020254894248790345\n"
     ]
    }
   ],
   "source": [
    "#Null hypothesis[Ho]: the population means are equal.\n",
    "#Alternate hypothesis[H1]: the population means are not equal.\n",
    "\n",
    "# Significance Value = 0.05\n",
    "import scipy.stats as stat\n",
    "#Assume the following Sample data:\n",
    "import pandas as pd\n",
    "df=pd.DataFrame({\"Data\":['mean','std','n'],\"A\": [1.3,0.5,22],\"B\":[1.6,0.3,22]})\n",
    "\n",
    "from math import sqrt\n",
    "\n",
    "t=(1.3-1.6)/sqrt((0.25/22)+(0.09/22))\n",
    "\n",
    "dof = 22+22-2\n",
    "\n",
    "p_value = 2 * (1 - stat.t.cdf(abs(t), dof))\n",
    "\n",
    "print ( t, p_value )"
   ]
  },
  {
   "cell_type": "markdown",
   "id": "a286c55c-1644-49fd-8a33-b7d647971fc7",
   "metadata": {},
   "source": [
    "## <span style = 'color:green'> Q11: What is Student’s t distribution? When to use the t-Distribution."
   ]
  },
  {
   "cell_type": "markdown",
   "id": "b88d01c5-c641-457d-a4e5-5e140c05e550",
   "metadata": {},
   "source": [
    "Student's t-distribution is a probability distribution used when estimating the mean of a normally distributed population with a small sample size or an unknown population standard deviation.\n",
    "\n",
    "The t-distribution is used in hypothesis testing and constructing confidence intervals when the sample size is small (typically less than 30) and the population standard deviation is unknown, or when the population is approximately normally distributed or the sample size is large enough to apply the Central Limit Theorem. It provides critical values and probabilities for t-tests, which compare sample means and assess the significance of the difference between them."
   ]
  },
  {
   "cell_type": "markdown",
   "id": "10280428-f3ff-4529-be5b-92d70a211c3b",
   "metadata": {},
   "source": [
    "## <span style = 'color:green'>Q12: What is t-statistic? State the formula for t-statistic."
   ]
  },
  {
   "cell_type": "markdown",
   "id": "dc02d1ad-888b-4b50-9f4c-79f974b26071",
   "metadata": {},
   "source": [
    "\n",
    "The t-statistic is a measure used in hypothesis testing to determine the significance of the difference between sample means or the relationship between a sample mean and a population mean. It quantifies the difference between the sample statistic (e.g., sample mean) and the hypothesized population parameter (e.g., population mean) relative to the variability in the data.\n",
    "\n",
    "The formula for the t-statistic is:\n",
    "\n",
    "t = (sample statistic - hypothesized parameter) / standard error\n",
    "\n",
    "In this formula, the sample statistic represents the observed value from the sample data (e.g., sample mean), the hypothesized parameter is the value assumed under the null hypothesis (e.g., population mean), and the standard error measures the variability or uncertainty in the sample statistic. The t-statistic indicates how many standard errors the sample statistic deviates from the hypothesized parameter. By comparing the calculated t-value to critical values from the t-distribution, we can determine the statistical significance of the observed difference or relationship."
   ]
  },
  {
   "cell_type": "markdown",
   "id": "8e6000b2-10c8-470f-96ae-54bf00ab4f3f",
   "metadata": {},
   "source": [
    "## <span style = 'color:green'> Q13. A coffee shop owner wants to estimate the average daily revenue for their shop. They take a random sample of 50 days and find the sample mean revenue to be 500 dollor with a standard deviation of 50 dollor. Estimate the population mean revenue with a 95% confidence interval."
   ]
  },
  {
   "cell_type": "code",
   "execution_count": 7,
   "id": "12d95bdd-aa06-4834-8d04-9ca6bba62e69",
   "metadata": {},
   "outputs": [],
   "source": [
    "from math import sqrt"
   ]
  },
  {
   "cell_type": "code",
   "execution_count": 8,
   "id": "aca761dc-e7a8-48e6-b989-e642590b8449",
   "metadata": {},
   "outputs": [
    {
     "name": "stdout",
     "output_type": "stream",
     "text": [
      "I am 95% confident that the population mean lies between 486.1407070887437  and  513.8592929112564\n"
     ]
    }
   ],
   "source": [
    "# Lets consider the following data.\n",
    "n = 50\n",
    "sample_mean = 500\n",
    "std = 50\n",
    "confidence_interval = 95\n",
    "sigma = 0.05\n",
    "\n",
    "lower_ci= sample_mean - 1.96 * (std/(sqrt (n)))\n",
    "upper_ci= sample_mean + 1.96 * (std/(sqrt (n)))\n",
    "\n",
    "print(\"I am 95% confident that the population mean lies between\",lower_ci ,\" and \" ,upper_ci)"
   ]
  },
  {
   "cell_type": "markdown",
   "id": "0f6d4a41-773f-4dc7-a434-077ff5c8e7be",
   "metadata": {},
   "source": [
    "## <span style = 'color:green'>Q14. A researcher hypothesizes that a new drug will decrease blood pressure by 10 mmHg. They conduct a clinical trial with 100 patients and find that the sample mean decrease in blood pressure is 8 mmHg with a standard deviation of 3 mmHg. Test the hypothesis with a significance level of 0.05."
   ]
  },
  {
   "attachments": {
    "07811079-bac0-4060-8c42-18842bd0ce3d.png": {
     "image/png": "[encoded data removed]"
    }
   },
   "cell_type": "markdown",
   "id": "66e772f8-b87a-4a84-badd-473190f08936",
   "metadata": {},
   "source": [
    "Null Hypothesis: New drug will decrease blood pressure by 10 mmHg.\n",
    "\n",
    "Alternate Hypothesis: New drug will not decrease blood pressure by 10 mmHg. \n",
    "\n",
    "Significance level : 0.05\n",
    "\n",
    "1-0.05/2 =0.9750\n",
    "\n",
    "Note : Z-score of 0.9750 is 1.96\"\n",
    "\n",
    "Std = 3\n",
    "\n",
    "n=100\n",
    "\n",
    "Sample_mean= 8\n",
    "\n",
    "![download.png](attachment:07811079-bac0-4060-8c42-18842bd0ce3d.png)\n",
    "\n"
   ]
  },
  {
   "cell_type": "code",
   "execution_count": 20,
   "id": "0aa2c648-99d5-46d6-8aa3-a5410406c70d",
   "metadata": {},
   "outputs": [],
   "source": [
    "from math import sqrt"
   ]
  },
  {
   "cell_type": "code",
   "execution_count": 10,
   "id": "b647b8b7-42a3-454b-a0b4-64f7c6e383a5",
   "metadata": {},
   "outputs": [],
   "source": [
    "Z_test= (8-10)/ (3/(sqrt(100) ))"
   ]
  },
  {
   "cell_type": "code",
   "execution_count": 11,
   "id": "27afba5e-969a-451b-b677-b1c43a3d8cdc",
   "metadata": {},
   "outputs": [
    {
     "data": {
      "text/plain": [
       "-6.666666666666667"
      ]
     },
     "execution_count": 11,
     "metadata": {},
     "output_type": "execute_result"
    }
   ],
   "source": [
    "Z_test"
   ]
  },
  {
   "cell_type": "code",
   "execution_count": 12,
   "id": "e9acd428-1db6-4e5c-92a7-c0413beb82fb",
   "metadata": {},
   "outputs": [
    {
     "name": "stdout",
     "output_type": "stream",
     "text": [
      "We reject the null hypothesis\n"
     ]
    }
   ],
   "source": [
    "if Z_test < -1.96:\n",
    "    print (\"We reject the null hypothesis\")\n",
    "elif Z_test > 1.96:\n",
    "    print (\"We reject the null hypothesis\")\n",
    "else:\n",
    "    print(\"We fail to reject the null hypothesis\")"
   ]
  },
  {
   "cell_type": "markdown",
   "id": "2072cd9f-64ac-4b3c-85af-bce88716d338",
   "metadata": {},
   "source": [
    "## <span style = 'color:green'>Q15. An electronics company produces a certain type of product with a mean weight of 5 pounds and a standard deviation of 0.5 pounds. A random sample of 25 products is taken, and the sample mean weight is found to be 4.8 pounds. Test the hypothesis that the true mean weight of the products is less than 5 pounds with a significance level of 0.01."
   ]
  },
  {
   "attachments": {
    "86c1852e-7611-4c1c-ac2f-2930aaa49167.png": {
     "image/png": "[encoded data removed]"
    }
   },
   "cell_type": "markdown",
   "id": "6e69743d-3426-4532-b348-fc8f09ced16f",
   "metadata": {},
   "source": [
    "Null Hypothesis: Mean weight is 5 pounds\n",
    "\n",
    "Alternate Hypothesis: Mean weight is not 5 pounds\n",
    "\n",
    "Significance level : 0.01\n",
    "t-value =  2.797\n",
    "\n",
    "Degree of freedom(df)= 25-1 = 24\n",
    "\n",
    "![geogebra-export--7-9218705377612374794.png](attachment:86c1852e-7611-4c1c-ac2f-2930aaa49167.png)"
   ]
  },
  {
   "cell_type": "code",
   "execution_count": 13,
   "id": "e7dc5290-1d94-4813-9036-1c786ab791ef",
   "metadata": {},
   "outputs": [],
   "source": [
    "t= (4.8-5) / (0.5  /sqrt(25))"
   ]
  },
  {
   "cell_type": "code",
   "execution_count": 14,
   "id": "42502c71-ed84-413a-bcb1-b130c8defe9d",
   "metadata": {},
   "outputs": [
    {
     "data": {
      "text/plain": [
       "-2.0000000000000018"
      ]
     },
     "execution_count": 14,
     "metadata": {},
     "output_type": "execute_result"
    }
   ],
   "source": [
    "t"
   ]
  },
  {
   "cell_type": "code",
   "execution_count": 15,
   "id": "12e0af7a-a4a6-4f7f-bc34-8cb068142f0e",
   "metadata": {},
   "outputs": [
    {
     "name": "stdout",
     "output_type": "stream",
     "text": [
      "We fail to reject the null hypothesis\n"
     ]
    }
   ],
   "source": [
    "if t <-2.797:\n",
    "    Print(\"We Reject the null hypothesis\")\n",
    "elif t > 2.7979:\n",
    "    print(\"We Reject the null hypothesis\")\n",
    "else:\n",
    "    print(\"We fail to reject the null hypothesis\")"
   ]
  },
  {
   "cell_type": "markdown",
   "id": "c7f7305c-5c55-45e3-81b5-c43da19a40eb",
   "metadata": {},
   "source": [
    "### Conclusion: Mean weight is 5 pounds"
   ]
  },
  {
   "cell_type": "markdown",
   "id": "de70562f-cd85-4956-979d-ac7848f1e415",
   "metadata": {},
   "source": [
    "## <span style = 'color:green'> Q16. Two groups of students are given different study materials to prepare for a test. The first group (n1 = 30) has a mean score of 80 with a standard deviation of 10, and the second group (n2 = 40) has a mean score of 75 with a standard deviation of 8. Test the hypothesis that the population means for the two groups are equal with a significance level of 0.01."
   ]
  },
  {
   "attachments": {
    "272816b4-1bd8-41a8-ab7e-19c5d0dc2d6b.png": {
     "image/png": "[encoded data removed]"
    }
   },
   "cell_type": "markdown",
   "id": "f5027619-9677-458e-9de7-6f650ed9ee4b",
   "metadata": {},
   "source": [
    "Null Hypothesis: The population means for the two groups are equal.\n",
    "\n",
    "Alternate Hypothesis: The population means for the two groups are not equal.\n",
    "\n",
    "Significance level = 0.01\n",
    "\n",
    "![download.png](attachment:272816b4-1bd8-41a8-ab7e-19c5d0dc2d6b.png)"
   ]
  },
  {
   "cell_type": "code",
   "execution_count": 16,
   "id": "88ad8c22-bf57-49d1-ba9d-b9424f815251",
   "metadata": {},
   "outputs": [],
   "source": [
    "t=(80 - 75)/( sqrt(((10**2)/ 30)+((8**2)/40)))"
   ]
  },
  {
   "cell_type": "code",
   "execution_count": 17,
   "id": "863526c2-6a68-493a-ace7-3aed9dd9f8c2",
   "metadata": {},
   "outputs": [
    {
     "data": {
      "text/plain": [
       "2.2511258444537408"
      ]
     },
     "execution_count": 17,
     "metadata": {},
     "output_type": "execute_result"
    }
   ],
   "source": [
    "t"
   ]
  },
  {
   "cell_type": "markdown",
   "id": "e9c289b9-7978-49ba-b396-5da9c70b5d5f",
   "metadata": {},
   "source": [
    "For α = 0.01 (99% confidence level):\n",
    "\n",
    "The critical value for a two-tailed test with df = 68 is approximately ±2.663."
   ]
  },
  {
   "cell_type": "code",
   "execution_count": 19,
   "id": "5d6bbcef-a8a5-4582-94a6-7f1eac511a6f",
   "metadata": {},
   "outputs": [
    {
     "name": "stdout",
     "output_type": "stream",
     "text": [
      "We fail to reject the Null Hypothesis\n"
     ]
    }
   ],
   "source": [
    "if t > 2.663 :\n",
    "    print(\"We reject the Null Hypothesis\")\n",
    "elif t < -2.663:\n",
    "    print(\"We reject the Null Hypothesis\")\n",
    "else :\n",
    "    print (\"We fail to reject the Null Hypothesis\")"
   ]
  },
  {
   "cell_type": "markdown",
   "id": "337033cc-d148-4b9f-991f-3597e3fbfb6d",
   "metadata": {},
   "source": [
    "### Conclusion : The population means for the two groups are equal."
   ]
  },
  {
   "cell_type": "markdown",
   "id": "08dee67b-c779-47a4-9139-95aeeffeebf0",
   "metadata": {},
   "source": [
    "## <span style = 'color:green'> Q17. A marketing company wants to estimate the average number of ads watched by viewers during a TV program. They take a random sample of 50 viewers and find that the sample mean is 4 with a standard deviation of 1.5. Estimate the population mean with a 99% confidence interval."
   ]
  },
  {
   "cell_type": "markdown",
   "id": "df35cebd-945d-4e72-baf4-b74b6ea761cf",
   "metadata": {},
   "source": [
    "Null Hypothesis: The population mean is equal to sample mean (ie:4)\n",
    "\n",
    "Alternate Hypothesis:The population mean is not equal to sample mean (ie:4)\n",
    "\n",
    "Significance level : 0.01\n",
    "\n",
    "1-0.01/2 =0.999\n",
    "\n",
    "Note : Z-score of 0.99 is  2.680.\n",
    "\n",
    "Std = 1.5, n=50, Sample_mean= 4\n",
    "\n",
    "Standard error (SE) = s / √n\n",
    "SE = 1.5 / √50\n",
    "SE ≈ 0.2121\n"
   ]
  },
  {
   "cell_type": "code",
   "execution_count": 23,
   "id": "a66083c7-57ca-4679-b099-f4f3987885d2",
   "metadata": {},
   "outputs": [],
   "source": [
    "Lower_Confidence_Interval = 4 - (2.680 * 0.2121)\n",
    "Upper_Confidence_Interval = 4 + 0.5685"
   ]
  },
  {
   "cell_type": "code",
   "execution_count": 33,
   "id": "73f9fec8-bbcd-4734-b597-406c16795afa",
   "metadata": {},
   "outputs": [
    {
     "name": "stdout",
     "output_type": "stream",
     "text": [
      "I am 99% confident that the population mean lies between  3.431572  and  4.5685\n"
     ]
    }
   ],
   "source": [
    "print(\"I am 99% confident that the population mean lies between \", Lower_Confidence_Interval, \" and \", Upper_Confidence_Interval)"
   ]
  },
  {
   "cell_type": "markdown",
   "id": "567d32ae-e719-4b95-876c-90d985bcea0e",
   "metadata": {},
   "source": [
    "## <span style=\"color :green\"> THE END"
   ]
  }
 ],
 "metadata": {
  "kernelspec": {
   "display_name": "Python 3 (ipykernel)",
   "language": "python",
   "name": "python3"
  },
  "language_info": {
   "codemirror_mode": {
    "name": "ipython",
    "version": 3
   },
   "file_extension": ".py",
   "mimetype": "text/x-python",
   "name": "python",
   "nbconvert_exporter": "python",
   "pygments_lexer": "ipython3",
   "version": "3.10.8"
  }
 },
 "nbformat": 4,
 "nbformat_minor": 5
}
