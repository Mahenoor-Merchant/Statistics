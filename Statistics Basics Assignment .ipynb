{
 "cells": [
  {
   "cell_type": "markdown",
   "id": "eb35adad-22ee-46e2-b25b-d5325a2c5ef4",
   "metadata": {},
   "source": [
    "# <span style= 'color: red'> Assignment : Statistics Basic-1"
   ]
  },
  {
   "cell_type": "markdown",
   "id": "99f8ccf4-d2eb-4390-9995-33591c54e4d7",
   "metadata": {},
   "source": [
    "## <span style=\"color:red\">Q1. What is Statistics?\n",
    "    \n",
    "### Statistics is the science of collecting, organizing and analyzing data.\n",
    "    \n",
    "    Data means facts or peices of information.\n",
    "    \n",
    "    eg: Weights of students at college=[56,50,60,48,54,68]\n",
    "    \n",
    "    eg: IQ of Students=[70,100,80,90,60]   \n",
    "\n",
    "    Statistics helps to understand the data and draw Conclusions/ Inferences.\n",
    "    \n",
    "    It helps to visualize data and take decisions."
   ]
  },
  {
   "cell_type": "markdown",
   "id": "35b083d3-c168-4a46-a20e-ed287036da27",
   "metadata": {},
   "source": [
    "## <span style=\"color:red\"> Q2. Define the different types of statistics and give an example of when each type might be used.\n",
    "\n",
    "### Types of statistics are 1.Descriptive Statistics 2.Inferential Statistics\n",
    "### Descriptive Statistics:\n",
    "    It consists of organizing and summarizng data.\n",
    "    \n",
    "    Eg : What is the average height of the entire classroom?\n",
    "    -->Summation of the Heights / Number of Students in classroom.\n",
    "    \n",
    "### Inferential Statistics\n",
    "    It consists of using the data you have measured to drawn conclusions.\n",
    "    \n",
    "    Eg : Are the heigths of students in the classroom similar to what you expect in the entire college?\n",
    "    --> Here, we have to draw conclusions for population data based on the results of sample data. Different techniques/ tests are used for the same.\n",
    "    "
   ]
  },
  {
   "cell_type": "markdown",
   "id": "f0532b1c-e257-45bf-8098-49a29e2b6f4e",
   "metadata": {},
   "source": [
    "## <span style=\"color:red\"> Q3. What are the different types of data and how do they differ from each other? Provide an example of each type of data.\n",
    "    \n",
    "###   Types of Data:\n",
    "###    1)Quantitative Data - 1.Discrete Data  and 2. Continuous Data.\n",
    "    \n",
    "###     Discrete Data:\n",
    "    -->Whole numbers\n",
    "    -->Specific Range \n",
    "    Eg: No. of students in classroom, No. of Family Members, No. of Vehicles on road,etc.\n",
    "    \n",
    "###     Continuous Data:\n",
    "    -->Any Value\n",
    "    Eg: Heights, Weight, Temprature, Volume,  Speed, etc.\n",
    "    \n",
    "###    2)Qualitative Data - 1.Nominal and  2.Ordinal  \n",
    "    \n",
    "###     Nominal Data:\n",
    "    --> No Ranks\n",
    "    Eg: Gender, Blood Group, Pincode, Favourite Colour,etc.    \n",
    "\n",
    "###    Ordinal Data:\n",
    "    --> Ranks\n",
    "    Eg: Marks of Students, Feedbacks,etc.\n",
    "\n",
    "\n",
    "    "
   ]
  },
  {
   "cell_type": "markdown",
   "id": "08b39713-d424-4d8a-97e5-6297abeeb03f",
   "metadata": {},
   "source": [
    "## <span style=\"color:red\"> Q4. Categorise the following datasets with respect to quantitative and qualitative data types:\n",
    "### <span style=\"color:red\">(i) Grading in exam: A+, A, B+, B, C+, C, D, E :</span > ORDINAL DATA.\n",
    "### <span style=\"color:red\">(ii) Colour of mangoes: yellow, green, orange, red :</span> NOMINAL DATA.\n",
    "### <span style=\"color:red\">(iii) Height data of a class: [178.9, 179, 179.5, 176, 177.2, 178.3, 175.8,...] :</span> CONTINUOUS DATA.\n",
    "### <span style=\"color:red\">(iv) Number of mangoes exported by a farm: [500, 600, 478, 672, ...] : </span> DISCRETE DATA."
   ]
  },
  {
   "cell_type": "markdown",
   "id": "ef1025f2-981f-4046-ab42-75863213e921",
   "metadata": {},
   "source": [
    "## <span style=\"color:red\">Q5. Explain the concept of levels of measurement and give an example of a variable for each level.\n",
    "\n",
    "### Quantitative/ Categorical Data:\n",
    "    eg: Gender, Colours, Labels.\n",
    "    ORDER DOES NOT MATTERS.\n",
    "    \n",
    "### Ordinal Scale Data:\n",
    "    eg: Ranks in Apps. Feedback in Stars, etc\n",
    "    ORDER MATTERS.\n",
    "    RANKING IS IMPORTANT.\n",
    "    DIFFERENCE CANNOT BE MEASURED.\n",
    "\n",
    "### Interval Scale  Data:\n",
    "    eg:Temprature=[30F, 60F, 90F, 120F]\n",
    "    ORDER MATTERS \n",
    "    DIFFERNCE AND RATIO CANNOT BE MEASURED\n",
    "    \n",
    "### Ratio Scale Data.\n",
    "    eg: Marks of students\n",
    "    ORDER MATTERS.\n",
    "    DIFFERENCE AND RATIO CAN BE CALCULATED.\n"
   ]
  },
  {
   "cell_type": "markdown",
   "id": "722767b2-e99f-4d9e-a3b2-305c676719be",
   "metadata": {},
   "source": [
    "## <span style=\"color:red\"> Q6. Why is it important to understand the level of measurement when analyzing data? Provide an example to illustrate your answer.\n",
    "\n",
    "Understanding the level of measurement is crucial when analyzing data because it determines the appropriate statistical techniques that can be applied and the meaningfulness of the conclusions drawn from the analysis. The level of measurement refers to the nature and properties of the data being collected, which can be classified into four main levels: nominal, ordinal, interval, and ratio.\n",
    "    \n",
    " let's consider an example to illustrate the importance of understanding the level of measurement. Suppose a researcher wants to analyze the happiness levels of participants in a study. The researcher collects data by asking participants to rate their happiness on a scale from 1 to 5 (ordinal level).\n",
    "\n",
    "If the researcher mistakenly treats the ordinal data as interval data and performs mathematical operations, such as taking the average of the happiness ratings, it would be misleading. While averaging the ratings might provide a single value, it would not accurately represent the participants' true level of happiness since the intervals between the categories are not equal. Instead, the researcher should use non-parametric statistical tests suitable for ordinal data, such as the Mann-Whitney U test or the Kruskal-Wallis test, which consider the ranking order of the categories.\n",
    "\n",
    "By understanding the level of measurement, researchers can apply appropriate statistical techniques, interpret the data correctly, and draw meaningful conclusions. Ignoring or misinterpreting the level of measurement can lead to erroneous analyses and flawed conclusions.\n"
   ]
  },
  {
   "cell_type": "markdown",
   "id": "e3dcf239-3f8b-4763-8b83-1cdb644fae40",
   "metadata": {},
   "source": [
    "\n",
    "## <span style=\"color:red\"> Q7. How nominal data type is different from ordinal data type.\n",
    "    \n",
    "Nominal and ordinal data types are distinct in terms of their characteristics and the level of information they convey. Here's a more detailed explanation of the differences between nominal and ordinal data types:\n",
    " \n",
    "Nominal Data:\n",
    "    \n",
    "--> No Ranks\n",
    "Eg: Gender, Blood Group, Pincode, Favourite Colour,etc. \n",
    "    \n",
    "    \n",
    "Ordinal Data:\n",
    "    \n",
    "--> Ranks\n",
    "Eg: Marks of Students, Feedbacks,etc.\n",
    "\n",
    "In summary, the main distinction between nominal and ordinal data lies in the nature of the relationship between the categories. Nominal data consists of categories without any order or ranking, while ordinal data has a natural order among the categories, although the intervals between them may not be equal. Understanding these differences is crucial when choosing appropriate statistical analyses and interpreting the results accurately.\n"
   ]
  },
  {
   "cell_type": "markdown",
   "id": "3751c301-77d2-4478-9a98-cd9857ff2d5a",
   "metadata": {},
   "source": [
    "## <span style=\"color:red\"> Q8. Which type of plot can be used to display data in terms of range?\n",
    "    \n",
    "To display data in terms of range, a common type of plot that can be used is a box plot, also known as a box-and-whisker plot.\n",
    "    \n",
    "A box plot provides a visual representation of the minimum, maximum, median, and quartiles of a dataset.\n",
    "    \n",
    "It effectively shows the range and distribution of the data.\n",
    "    \n",
    "### Box:\n",
    "    The box represents the interquartile range (IQR), which spans the middle 50% of the data. The bottom of the box corresponds to the first quartile (Q1), and the top of the box corresponds to the third quartile (Q3). The median is usually represented as a line within the box.\n",
    "\n",
    "### Whiskers:\n",
    "    The whiskers extend from the box and represent the range of the data, excluding outliers. The whiskers can be calculated in different ways, such as extending to the minimum and maximum values within a certain range or considering certain percentile thresholds.\n",
    "\n",
    "### Outliers:\n",
    "    Individual data points that fall outside the whiskers are considered outliers and are typically represented as individual points or asterisks on the plot.\n",
    "\n",
    "By using a box plot, you can quickly visualize the spread of the data, including the minimum and maximum values, as well as the distribution across quartiles. It provides a concise summary of the range and helps identify potential outliers or extreme values.\n",
    "\n",
    "Box plots are especially useful when comparing multiple datasets or groups, as they allow for easy visual comparison of the ranges and distributions across different categories or variables.\n",
    "\n",
    "Note that other types of plots, such as range plots or error bars, can also display data in terms of range to some extent, but they may not provide as comprehensive information about the quartiles and distribution as a box plot does.\n",
    "\n",
    "\n",
    "\n",
    "\n",
    "\n"
   ]
  },
  {
   "cell_type": "markdown",
   "id": "dc43cdfe-40cd-4355-a4e7-381cd3c1815d",
   "metadata": {},
   "source": [
    "## <span style=\"color:red\">Q9. Describe the difference between descriptive and inferential statistics. Give an example of each  type of statistics and explain how they are used.\n",
    "\n",
    "\n",
    "Descriptive statistics and inferential statistics serve different purposes in analyzing and interpreting data. Descriptive statistics focus on summarizing and describing the main characteristics of a dataset, providing insights into its patterns and attributes. Measures such as the mean, median, range, and standard deviation are calculated to convey the central tendency, dispersion, and spread of the data. For example, descriptive statistics can be used to summarize the average age, the range of ages, and the distribution of ages in a given dataset.\n",
    "\n",
    "In contrast, inferential statistics involve drawing conclusions or making inferences about a larger population based on a sample of data. These statistical techniques utilize probability theory to assess the likelihood of certain outcomes and generalize findings beyond the specific sample. Hypothesis testing, confidence intervals, and regression analysis are common tools used in inferential statistics. For instance, inferential statistics can be applied to determine if there is a significant difference in average income between two cities, based on income data collected from samples in each city.\n",
    "\n",
    "In summary, descriptive statistics provide a concise summary and description of data, enabling a deeper understanding of its characteristics. Inferential statistics, on the other hand, allow for generalizations and predictions about populations beyond the data at hand, using statistical techniques to draw conclusions and make inferences. Together, these two branches of statistics contribute to a comprehensive analysis and interpretation of data.\n",
    "\n"
   ]
  },
  {
   "cell_type": "markdown",
   "id": "0867866f-6081-406f-bf1c-5b55d966e1a2",
   "metadata": {},
   "source": [
    "## <span style=\"color:red\">Q10. What are some common measures of central tendency and variability used in statistics? Explain\n",
    "how each measure can be used to describe a dataset.\n",
    "    \n",
    "### Measures of Central Tendency:\n",
    "\n",
    "### Mean:\n",
    "    The mean, or average, is the sum of all values in a dataset divided by the number of observations. It represents the central value around which the data points tend to cluster. The mean is sensitive to extreme values and can be influenced by outliers.\n",
    "\n",
    "### Median:\n",
    "    The median is the middle value in a dataset when the observations are arranged in ascending or descending order. It is less affected by extreme values compared to the mean. The median represents the central value that divides the dataset into two equal halves.\n",
    "\n",
    "### Mode:\n",
    "    The mode represents the most frequently occurring value or values in a dataset. It is useful for identifying the most common observation or category in categorical data.\n",
    "    \n",
    "###  Measures of Variability:\n",
    "\n",
    "### Standard Deviation:\n",
    "    The standard deviation measures the average amount of deviation or dispersion of data points from the mean. It quantifies the spread of the dataset by considering the differences between each value and the mean, taking into account the variability of the entire dataset.\n",
    "\n",
    "### Variance: \n",
    "    The variance is the average of the squared differences between each data point and the mean. It provides a measure of the variability by considering the spread of values around the mean. The variance is directly related to the standard deviation, as it is the square of the standard deviation."
   ]
  },
  {
   "cell_type": "markdown",
   "id": "93616abb-aaef-418d-966b-16f2d97a256d",
   "metadata": {},
   "source": [
    "# <span style='color:red'> THE END"
   ]
  },
  {
   "cell_type": "code",
   "execution_count": null,
   "id": "aaec9601-9a60-4bef-aaa1-d932a52be921",
   "metadata": {},
   "outputs": [],
   "source": []
  }
 ],
 "metadata": {
  "kernelspec": {
   "display_name": "Python 3 (ipykernel)",
   "language": "python",
   "name": "python3"
  },
  "language_info": {
   "codemirror_mode": {
    "name": "ipython",
    "version": 3
   },
   "file_extension": ".py",
   "mimetype": "text/x-python",
   "name": "python",
   "nbconvert_exporter": "python",
   "pygments_lexer": "ipython3",
   "version": "3.10.8"
  }
 },
 "nbformat": 4,
 "nbformat_minor": 5
}
