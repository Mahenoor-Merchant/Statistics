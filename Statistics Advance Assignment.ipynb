{
 "cells": [
  {
   "cell_type": "markdown",
   "id": "353bf5b1-f57a-42ba-88b4-995e3a720c9b",
   "metadata": {},
   "source": [
    "# <span style ='color:purple'> Statistics Advance Assignment"
   ]
  },
  {
   "attachments": {
    "967e3431-dfac-412f-95ed-7f2868ca54a7.webp": {
     "image/webp": "[encoded data removed]"
    }
   },
   "cell_type": "markdown",
   "id": "1187afdb-0734-47a4-a102-abba84570dbb",
   "metadata": {},
   "source": [
    "## <span style ='color:purple'>Q1. What is the Probability density function?\n",
    "    \n",
    "    Probability Density Function is a type of Probability Distribution Function which denotes distribution of data.\n",
    "    It is for Continuous Random Variable. For Example: Height of Students in class, Weight of students in a class, etc.\n",
    "![IQ_score_distribution.webp](attachment:967e3431-dfac-412f-95ed-7f2868ca54a7.webp)\n",
    "    \n"
   ]
  },
  {
   "cell_type": "markdown",
   "id": "9b3a20ff-709c-4cbe-883a-cf53c39f46b0",
   "metadata": {},
   "source": [
    "## <span style ='color:purple'> Q2. What are the types of Probability distribution?\n",
    "    \n",
    "## Types of Probability Distribution are :\n",
    "    \n",
    "     1.Normal/ Gaussian Distribution(pdf)\n",
    "    \n",
    "     2.Bernoulli Distribution(pmf)\n",
    "    \n",
    "     3.Binomial Distribution(pmf)\n",
    "    \n",
    "     4.Poission Disttribution (pmf)\n",
    "    \n",
    "     5.Log Normal Distribution(pdf)\n",
    "    \n",
    "     6.Uniform Distibution(pmf)\n"
   ]
  },
  {
   "cell_type": "markdown",
   "id": "45c53def-9d4a-4b46-a71f-c61839513a49",
   "metadata": {},
   "source": [
    "## <span style ='color:purple'> Q3. Write a Python function to calculate the probability density function of a normal distribution with given mean and standard deviation at a given point."
   ]
  },
  {
   "cell_type": "code",
   "execution_count": 1,
   "id": "27c36a31-ba44-49fb-839f-6b79759a6e99",
   "metadata": {},
   "outputs": [],
   "source": [
    "import numpy as np"
   ]
  },
  {
   "cell_type": "code",
   "execution_count": 2,
   "id": "78d4c552-bb71-4d34-a579-ffc35906792c",
   "metadata": {},
   "outputs": [],
   "source": [
    "def normal_pdf(x, mean, std):\n",
    "\n",
    "  # Calculate the exponent.\n",
    "  exponent = (x - mean)**2 / (2 * std**2)\n",
    "\n",
    "  # Calculate the probability density function.\n",
    "  pdf = 1 / (std * np.sqrt(2 * np.pi)) * np.exp(-exponent)\n",
    "\n",
    "  return pdf\n"
   ]
  },
  {
   "cell_type": "code",
   "execution_count": 3,
   "id": "2d36842f-001b-4486-9ad0-396dd92d48a5",
   "metadata": {},
   "outputs": [
    {
     "name": "stdout",
     "output_type": "stream",
     "text": [
      "0.24197072451914337\n"
     ]
    }
   ],
   "source": [
    "# Calculate the probability density function of a normal distribution with mean 0 and standard deviation 1 at the point 1.\n",
    "pdf = normal_pdf(1, 0, 1)\n",
    "\n",
    "# Print the probability density function.\n",
    "print(pdf)\n"
   ]
  },
  {
   "cell_type": "markdown",
   "id": "6dfb416c-aaef-4a4a-93a5-e1577ed39c29",
   "metadata": {},
   "source": [
    "In the example above, we calculated the probability density function of a normal distribution with mean 0 and standard deviation 1 at the point 1. The output was 0.3989422804014327, which means that there is a 39.89422804014327% chance that a random variable from this distribution will be at the point 1."
   ]
  },
  {
   "cell_type": "markdown",
   "id": "43f8f4c5-f4ff-4dc0-99fc-1dad99a7ddb1",
   "metadata": {},
   "source": [
    "## <span style ='color:purple'> Q4. What are the properties of Binomial distribution? Give two examples of events where binomial distribution can be applied.\n",
    "\n",
    "Binomial Distribution can also said as a group of Bernoulli Distribution.\n",
    "    \n",
    "    * Outcome of every expirement is binary.\n",
    "    * This expirement is performed for n no. of trials.\n",
    "    * Sequence of outcome is called as Bernoulli Process.\n",
    "    \n",
    "    Notation: B(n,p)\n",
    "    Parameters: n Belongs to {0,1,2,3,4...} No. of trials.\n",
    "    p belongs to {0,1} Success Probability for each trial.\n",
    "    q= 1-p\n",
    "    \n",
    "    \n",
    "### Examples:\n",
    "    Tossing a coin for 10 times,\n",
    "    \n",
    "    rolling a dice for 5 times,etc.\n",
    "    \n",
    "    Mean=np\n",
    "    Var= npq\n",
    "    Std= sqrt of Var."
   ]
  },
  {
   "cell_type": "markdown",
   "id": "5bb33c19-677b-434b-8005-acb9fd492342",
   "metadata": {},
   "source": [
    "## <span style ='color:purple'> Q5. Generate a random sample of size 1000 from a binomial distribution with probability of success 0.4 and plot a histogram of the results using matplotlib."
   ]
  },
  {
   "cell_type": "code",
   "execution_count": 4,
   "id": "0896f8b3-4539-4a24-9066-aba6110e4d38",
   "metadata": {},
   "outputs": [],
   "source": [
    "sample_size = 1000\n",
    "probability_of_success = 0.4\n",
    "\n",
    "# Generate the random sample\n",
    "sample = np.random.binomial(1, probability_of_success, size=sample_size)"
   ]
  },
  {
   "cell_type": "code",
   "execution_count": 5,
   "id": "da44881d-664e-4387-8370-994916e2fc83",
   "metadata": {},
   "outputs": [],
   "source": [
    "import matplotlib.pyplot as plt"
   ]
  },
  {
   "cell_type": "code",
   "execution_count": 6,
   "id": "bcb810f3-bd35-48eb-83af-576b8c30ec11",
   "metadata": {},
   "outputs": [
    {
     "data": {
      "image/png": "[encoded data removed]",
      "text/plain": [
       "<Figure size 640x480 with 1 Axes>"
      ]
     },
     "metadata": {},
     "output_type": "display_data"
    }
   ],
   "source": [
    "plt.hist(sample, bins=2, range=[0, 1], edgecolor='black')\n",
    "plt.xlabel('Success')\n",
    "plt.ylabel('Frequency')\n",
    "plt.title('Binomial Distribution')\n",
    "plt.xticks([0, 1], ['Failure', 'Success'])\n",
    "plt.show()"
   ]
  },
  {
   "cell_type": "markdown",
   "id": "71cecca2-f16a-41d4-a6a5-ef8620ce6f37",
   "metadata": {},
   "source": [
    "## <span style ='color:purple'> Q6. Write a Python function to calculate the cumulative distribution function of a Poisson distribution with given mean at a given point."
   ]
  },
  {
   "cell_type": "code",
   "execution_count": 24,
   "id": "da662e82-00d3-4be0-b0b0-da4bcdc23a82",
   "metadata": {},
   "outputs": [],
   "source": [
    "import scipy.stats as stats\n",
    "\n",
    "def poisson_cdf(mean, k):\n",
    "    cdf = stats.poisson.cdf(k, mu=mean)\n",
    "    return cdf\n"
   ]
  },
  {
   "cell_type": "code",
   "execution_count": 25,
   "id": "129e9700-cf92-4e07-85f9-b457fa58ca57",
   "metadata": {},
   "outputs": [
    {
     "data": {
      "text/plain": [
       "0.0027924293327009145"
      ]
     },
     "execution_count": 25,
     "metadata": {},
     "output_type": "execute_result"
    }
   ],
   "source": [
    "poisson_cdf(15,5)"
   ]
  },
  {
   "cell_type": "markdown",
   "id": "4f0464bd-a7bd-404e-8424-d0145fec9526",
   "metadata": {},
   "source": [
    "## <span style ='color:purple'> Q7. How Binomial distribution different from Poisson distribution?"
   ]
  },
  {
   "cell_type": "markdown",
   "id": "f8d348a8-7c76-4eb5-a635-fd520a452c6b",
   "metadata": {},
   "source": [
    "## Binomial Distribution:\n",
    "\n",
    "    Binomial Distribution can also said as a group of Bernoulli Distribution.\n",
    "\n",
    "* Outcome of every expirement is binary.\n",
    "* This expirement is performed for n no. of trials.\n",
    "* Sequence of outcome is called as Bernoulli Process.\n",
    "\n",
    "Notation: B(n,p)\n",
    "\n",
    "Parameters: n Belongs to {0,1,2,3,4...} No. of trials.\n",
    "\n",
    "p belongs to {0,1} Success Probability for each trial.\n",
    "\n",
    "q= 1-p\n",
    "\n",
    "#### Examples:\n",
    "    Tossing a coin for 10 times,\n",
    "    \n",
    "    rolling a dice for 5 times,etc.\n",
    "\n",
    "## Poisson Distribution:\n",
    "\n",
    "* Discrete random variable.\n",
    "* Describes the no. of events occuring in a fixed time interval.\n",
    "\n",
    "#### Examples:\n",
    "    No. of people visting a hospital every hour.\n",
    "    \n",
    "    No. of people visting a bank every hour.\n",
    "    \n",
    "    No. of people visting a mall every hour.\n",
    "    \n",
    "Var = Mean = Expected no. of events to occur at every time interval * time interval\n",
    "\n"
   ]
  },
  {
   "cell_type": "markdown",
   "id": "6518f6ea-5604-408f-8b14-fb535090a8fd",
   "metadata": {},
   "source": [
    "## <span style ='color:purple'>  Q8. Generate a random sample of size 1000 from a Poisson distribution with mean 5 and calculate the sample mean and variance."
   ]
  },
  {
   "cell_type": "code",
   "execution_count": 34,
   "id": "e98b0d39-a618-42a4-8099-be41183245b0",
   "metadata": {},
   "outputs": [],
   "source": [
    "sample=np.random.poisson(lam=5,size=1000)"
   ]
  },
  {
   "cell_type": "code",
   "execution_count": 36,
   "id": "a5582e6f-30ec-46df-b7dd-8ab171f1ca4b",
   "metadata": {},
   "outputs": [
    {
     "name": "stdout",
     "output_type": "stream",
     "text": [
      "Sample Mean: 4.958\n",
      "Sample Variance: 4.866236\n"
     ]
    }
   ],
   "source": [
    "sample_mean = np.mean(sample)\n",
    "sample_variance = np.var(sample)\n",
    "\n",
    "# Print the results\n",
    "print(\"Sample Mean:\", sample_mean)\n",
    "print(\"Sample Variance:\", sample_variance)"
   ]
  },
  {
   "cell_type": "markdown",
   "id": "369d035a-b4fe-4cc2-9f9e-ba3c61251ebb",
   "metadata": {},
   "source": [
    "## <span style ='color:purple'> Q9. How mean and variance are related in Binomial distribution and Poisson distribution?"
   ]
  },
  {
   "cell_type": "markdown",
   "id": "b7810eed-5648-40fa-980b-3e04ae8ba069",
   "metadata": {},
   "source": [
    "* In Poisson Distribution,\n",
    "    \n",
    "       Mean = Variance =  Expected no. of events to occur at every time interval * time interval\n",
    "       \n",
    "* In Binomial Distribution,\n",
    "\n",
    "       Mean=np\n",
    "       Var= npq\n",
    "       \n",
    "       Where, n = no. of trials, p= success probability for each trial, q= 1-p"
   ]
  },
  {
   "cell_type": "markdown",
   "id": "790e2e37-4e36-4256-9f4f-bb7b7a8e4b70",
   "metadata": {},
   "source": [
    "## <span style ='color:purple'> Q10. In normal distribution with respect to mean position, where does the least frequent data appear?"
   ]
  },
  {
   "attachments": {
    "10ffe3ce-aa40-499c-a707-bba5b5acc625.png": {
     "image/png": "[encoded data removed]"
    }
   },
   "cell_type": "markdown",
   "id": "f5135490-b79c-4def-b611-246e8001635b",
   "metadata": {},
   "source": [
    "![download.png](attachment:10ffe3ce-aa40-499c-a707-bba5b5acc625.png)\n"
   ]
  },
  {
   "cell_type": "markdown",
   "id": "fd70af2e-94cf-4600-9e21-ee47074fcf5b",
   "metadata": {},
   "source": [
    "In a normal distribution, the least frequent data appears in the tails of the distribution, farther away from the mean.\n",
    "\n",
    "The normal distribution is symmetric, with the mean located at the center. The probability density function (PDF) of the normal distribution decreases gradually as you move away from the mean in both directions.\n",
    "\n",
    "As you move towards the tails of the distribution, the probability of observing data points decreases. The data points located in the tails, which are farther away from the mean, are less frequent compared to the data points closer to the mean.\n",
    "\n",
    "Therefore, the least frequent data appears in the extreme ends of the distribution, in the tails, while the most frequent data is concentrated around the mean.\n",
    "\n",
    "\n",
    "\n",
    "\n",
    "\n"
   ]
  },
  {
   "cell_type": "markdown",
   "id": "e712e81f-c078-46ec-b648-4396d076061f",
   "metadata": {},
   "source": [
    "# <span style= 'color:purple'> The End"
   ]
  },
  {
   "cell_type": "code",
   "execution_count": null,
   "id": "08314530-7c8d-44fa-8dcb-f152ac655bde",
   "metadata": {},
   "outputs": [],
   "source": []
  }
 ],
 "metadata": {
  "kernelspec": {
   "display_name": "Python 3 (ipykernel)",
   "language": "python",
   "name": "python3"
  },
  "language_info": {
   "codemirror_mode": {
    "name": "ipython",
    "version": 3
   },
   "file_extension": ".py",
   "mimetype": "text/x-python",
   "name": "python",
   "nbconvert_exporter": "python",
   "pygments_lexer": "ipython3",
   "version": "3.10.8"
  }
 },
 "nbformat": 4,
 "nbformat_minor": 5
}
