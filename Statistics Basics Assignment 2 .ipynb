{
 "cells": [
  {
   "cell_type": "markdown",
   "id": "766c3a68-ebd1-4e2c-b7c7-a218a06e1363",
   "metadata": {},
   "source": [
    "# <span style = 'color:purple'>Statistics Basic- Assignment 2"
   ]
  },
  {
   "attachments": {
    "77782562-f02a-4459-a9a9-62fb7d6c7c91.png": {
     "image/png": "[encoded data removed]"
    }
   },
   "cell_type": "markdown",
   "id": "508d43f7-a8d4-4221-adf5-2a165cb1b18e",
   "metadata": {},
   "source": [
    "## <span style = 'color:purple'>Q1. What are the three measures of central tendency?\n",
    "    The 3 measures of central tendency are Mean, Median, Mode.\n",
    "    \n",
    "##  Mean (Average)- 1. Population Mean. and 2.Sample Mean.\n",
    "    \n",
    "    Population mean= \n",
    "      Eg: data={1,2,3,4,5,6,7,8,9,10}\n",
    "    \n",
    "          Population mean = (1+2+3+4+5+6+7+8+9+10)/ 10\n",
    "                μ          = 5.5\n",
    "    \n",
    "          Sample mean= (1+3+5+7+9)/5\n",
    "                x̄    = 5\n",
    "          \n",
    "![download.png](attachment:77782562-f02a-4459-a9a9-62fb7d6c7c91.png)\n",
    "    \n",
    "    \n",
    "##  Median- The central element of the data is called Median.\n",
    "    Steps: 1> If the no. of elements in data is odd the element at the centre wil,be median.\n",
    "          Eg: m1={1,2,3,4,5}\n",
    "              median of m1 is 3.\n",
    "           2> If the no. of elements in the data is even,\n",
    "              then median will be the average of the 2 central elements.\n",
    "           Eg: m2={1,2,3,4,5,6}\n",
    "              median of m2 = (3+4)/2 =7/2 = 3.5\n",
    "    \n",
    "##  Mode- It is the most recurring element of data.\n",
    "          M = {1,1,1,2,2,3,3,3,3,4,5,6}\n",
    "          mode of M = 3 (the most recurring element)"
   ]
  },
  {
   "attachments": {
    "14abfd8a-dbdb-43c3-bc2f-d271f6c287ad.png": {
     "image/png": "[encoded data removed]"
    }
   },
   "cell_type": "markdown",
   "id": "3ba1c048-8632-4fcd-a5d6-9ce047577da9",
   "metadata": {},
   "source": [
    "# <span style = 'color:purple'>Q2. What is the difference between the mean, median, and mode? How are they used to measure the central tendency of a dataset?\n",
    "    \n",
    "Mean is the average of the elements in the dataset. While, median is the central element in the dataset (steps to find explained above). Mode is the element which occurs the most no. of times.\n",
    "    \n",
    "![download.png](attachment:14abfd8a-dbdb-43c3-bc2f-d271f6c287ad.png)\n",
    "    \n",
    "To determine the appropriate measure of central tendency for a given dataset, consider the type of data, the presence of outliers, and the shape of the distribution. For normally distributed numerical data without outliers, the mean is often a good choice. When dealing with skewed data or potential outliers, the median may provide a more representative value. The mode is most applicable for categorical or nominal data, or when identifying the most common value in a dataset.\n",
    "\n",
    "It's important to note that while these measures provide information about central tendency, they do not capture the entire picture of the dataset's distribution.\n",
    "    "
   ]
  },
  {
   "cell_type": "markdown",
   "id": "6d291edc-1e54-4664-841f-dcf4c877fae8",
   "metadata": {},
   "source": [
    "# <span style = 'color:purple'> Q3. Measure the three measures of central tendency for the given height data:"
   ]
  },
  {
   "cell_type": "code",
   "execution_count": 1,
   "id": "0dadbaf8-2dc3-4538-b6c7-15a844a5e6ea",
   "metadata": {},
   "outputs": [],
   "source": [
    "data=[178,177,176,177,178.2,178,175,179,180,175,178.9,176.2,177,172.5,178,176.5]"
   ]
  },
  {
   "cell_type": "code",
   "execution_count": 2,
   "id": "676cba51-911a-4a46-b0d7-0a7963e8d90f",
   "metadata": {},
   "outputs": [],
   "source": [
    "import numpy as np"
   ]
  },
  {
   "cell_type": "code",
   "execution_count": 3,
   "id": "3a0983df-71e3-411a-84de-dc7c8320ddcf",
   "metadata": {},
   "outputs": [
    {
     "data": {
      "text/plain": [
       "177.01875"
      ]
     },
     "execution_count": 3,
     "metadata": {},
     "output_type": "execute_result"
    }
   ],
   "source": [
    "np.mean(data)"
   ]
  },
  {
   "cell_type": "code",
   "execution_count": 4,
   "id": "f87d0e75-16a1-4ab3-a963-d774da81667e",
   "metadata": {},
   "outputs": [
    {
     "data": {
      "text/plain": [
       "177.0"
      ]
     },
     "execution_count": 4,
     "metadata": {},
     "output_type": "execute_result"
    }
   ],
   "source": [
    "np.median(data)"
   ]
  },
  {
   "cell_type": "code",
   "execution_count": 5,
   "id": "5406607b-bbff-435e-88e6-bc9f4dfbb1c2",
   "metadata": {},
   "outputs": [],
   "source": [
    "from scipy import stats"
   ]
  },
  {
   "cell_type": "code",
   "execution_count": 6,
   "id": "8bc11bd7-1fcd-47db-8c3a-86881fb69365",
   "metadata": {},
   "outputs": [
    {
     "name": "stderr",
     "output_type": "stream",
     "text": [
      "/tmp/ipykernel_966/3267261142.py:1: FutureWarning: Unlike other reduction functions (e.g. `skew`, `kurtosis`), the default behavior of `mode` typically preserves the axis it acts along. In SciPy 1.11.0, this behavior will change: the default value of `keepdims` will become False, the `axis` over which the statistic is taken will be eliminated, and the value None will no longer be accepted. Set `keepdims` to True or False to avoid this warning.\n",
      "  stats.mode(data)\n"
     ]
    },
    {
     "data": {
      "text/plain": [
       "ModeResult(mode=array([177.]), count=array([3]))"
      ]
     },
     "execution_count": 6,
     "metadata": {},
     "output_type": "execute_result"
    }
   ],
   "source": [
    "stats.mode(data)"
   ]
  },
  {
   "cell_type": "markdown",
   "id": "203c400b-5239-4bd2-8def-f252ad66d273",
   "metadata": {},
   "source": [
    "# <span style = 'color:purple'> Q4. Find the standard deviation for the given data:"
   ]
  },
  {
   "cell_type": "code",
   "execution_count": 7,
   "id": "7201d38d-5393-4c0b-9f6c-99c1df65622d",
   "metadata": {},
   "outputs": [],
   "source": [
    "data=[178,177,176,177,178.2,178,175,179,180,175,178.9,176.2,177,172.5,178,176.5]"
   ]
  },
  {
   "cell_type": "code",
   "execution_count": 8,
   "id": "671aba05-93d1-46d5-acbf-7536ddaa7a30",
   "metadata": {},
   "outputs": [
    {
     "data": {
      "text/plain": [
       "1.7885814036548633"
      ]
     },
     "execution_count": 8,
     "metadata": {},
     "output_type": "execute_result"
    }
   ],
   "source": [
    "np.std(data)"
   ]
  },
  {
   "cell_type": "markdown",
   "id": "1ce1f766-67ef-4cd2-b88b-81684f9ccd24",
   "metadata": {},
   "source": [
    "# <span style = 'color:purple'> Q5. How are measures of dispersion such as range, variance, and standard deviation used to describe the spread of a dataset? Provide an example."
   ]
  },
  {
   "attachments": {
    "f9e2f0cc-2056-42cb-b6b8-a63567d0db2a.png": {
     "image/png": "[encoded data removed]"
    }
   },
   "cell_type": "markdown",
   "id": "e8ccf165-c562-4f19-bad1-2adf888246fb",
   "metadata": {},
   "source": [
    "## Variance\n",
    "\n",
    "Variance measures the average squared deviation of each data point from the mean. \n",
    "It quantifies the spread of the dataset by considering the differences between each value and the mean.\n",
    "A higher variance indicates a greater dispersion.\n",
    "\n",
    "   To calculate the variance, you subtract the mean from each value, square the differences, sum them up, and divide by the total number of values. For example, consider the following dataset of exam scores: 65, 70, 75, 80, 85.\n",
    "   \n",
    "   The mean is 75. The squared differences from the mean are: (65-75)^2, (70-75)^2, (75-75)^2, (80-75)^2, (85-75)^2. Adding them up and dividing by 5 (the number of values) gives you the variance. The variance provides a more comprehensive measure of dispersion than the range but is influenced by the units of the data (since it involves squaring the differences).\n",
    "   \n",
    "![population-variance.png](attachment:f9e2f0cc-2056-42cb-b6b8-a63567d0db2a.png)"
   ]
  },
  {
   "cell_type": "code",
   "execution_count": 9,
   "id": "8c67ae04-2ba9-4409-8f37-e85bb6d5a444",
   "metadata": {},
   "outputs": [
    {
     "data": {
      "text/plain": [
       "75.0"
      ]
     },
     "execution_count": 9,
     "metadata": {},
     "output_type": "execute_result"
    }
   ],
   "source": [
    " exam_scores=[65, 70, 75, 80, 85]\n",
    "np.mean(exam_scores)"
   ]
  },
  {
   "attachments": {
    "721dd1fd-904a-40cf-8237-446b0ab0c54c.png": {
     "image/png": "[encoded data removed]"
    }
   },
   "cell_type": "markdown",
   "id": "9036fab2-9e3c-4f95-ba86-1d2a3c95efbe",
   "metadata": {},
   "source": [
    "## Standard Deviation\n",
    "\n",
    "The standard deviation is the square root of the variance and is often used as a more intuitive measure of dispersion. It measures the average amount by which the data points deviate from the mean.\n",
    "\n",
    "The standard deviation is calculated by taking the square root of the variance. \n",
    "Using the same example of exam scores, once you have the variance, you can calculate the standard deviation by taking the square root of the variance.\n",
    "\n",
    "![download.png](attachment:721dd1fd-904a-40cf-8237-446b0ab0c54c.png)\n",
    "\n",
    "The standard deviation provides a more interpretable measure of spread since it is in the same units as the original data. It is widely used in statistics and helps assess the variability and consistency of the dataset."
   ]
  },
  {
   "cell_type": "code",
   "execution_count": 10,
   "id": "8c9fadbc-7b49-47be-8650-d5dbd88924e9",
   "metadata": {},
   "outputs": [
    {
     "data": {
      "text/plain": [
       "7.0710678118654755"
      ]
     },
     "execution_count": 10,
     "metadata": {},
     "output_type": "execute_result"
    }
   ],
   "source": [
    "np.std(exam_scores)"
   ]
  },
  {
   "cell_type": "markdown",
   "id": "e558c16c-f17c-4441-b4b0-7f9236ffa5c8",
   "metadata": {},
   "source": [
    "## Range\n",
    "\n",
    " The range is the simplest measure of dispersion and represents the difference between the largest and smallest values in a dataset. It gives an idea of the total spread of the data. For example, if you have a dataset of exam scores: 65, 70, 75, 80, 85, the range would be 85 - 65 = 20. The range is easy to calculate but can be influenced by outliers and may not provide a complete understanding of the distribution.\n",
    " \n"
   ]
  },
  {
   "cell_type": "code",
   "execution_count": 11,
   "id": "17c74a95-cc35-4964-9a3e-4a6986d46371",
   "metadata": {},
   "outputs": [
    {
     "data": {
      "text/plain": [
       "20"
      ]
     },
     "execution_count": 11,
     "metadata": {},
     "output_type": "execute_result"
    }
   ],
   "source": [
    "range= max(exam_scores) - min(exam_scores)\n",
    "range"
   ]
  },
  {
   "cell_type": "markdown",
   "id": "c0f7d323-5cb8-4e0d-8b6c-051b6c401d24",
   "metadata": {},
   "source": [
    "## <span style = 'color:purple'> Q6. What is a Venn diagram?"
   ]
  },
  {
   "attachments": {
    "0b66324e-f726-4151-a3a6-a41e310d56d1.png": {
     "image/png": "[encoded data removed]"
    }
   },
   "cell_type": "markdown",
   "id": "578c34c2-ad0b-425d-b0f3-a61f3f67b420",
   "metadata": {},
   "source": [
    "A Venn diagram is a visual representation of the relationships between different sets or groups of items. It uses overlapping circles or other shapes to show the commonalities and differences among the sets. The primary purpose of a Venn diagram is to illustrate the logical relationships between sets and to provide a clear visual representation of the set intersections and unions.\n",
    "\n",
    "![download.png](attachment:0b66324e-f726-4151-a3a6-a41e310d56d1.png)\n",
    "\n",
    "In a Venn diagram, each circle or shape represents a set, and the overlapping areas show the elements that are shared between the sets. The non-overlapping areas represent the unique elements of each set. The size of each circle does not indicate the size of the set; it is used purely for visualization purposes."
   ]
  },
  {
   "cell_type": "markdown",
   "id": "b5c5ba7b-bad9-42e2-93eb-8595bac41bea",
   "metadata": {},
   "source": [
    "## <span style = 'color:purple'> Q7. For the two given sets A = (2,3,4,5,6,7) & B = (0,2,6,8,10). Find:\n",
    "## (i) A intersection B\n",
    "## (ii) A ⋃ B"
   ]
  },
  {
   "cell_type": "code",
   "execution_count": 12,
   "id": "a3af229e-73e2-44d4-8d10-c506b8d7af71",
   "metadata": {},
   "outputs": [],
   "source": [
    "A = {2,3,4,5,6,7}\n",
    "B = {0,2,6,8,10}"
   ]
  },
  {
   "cell_type": "code",
   "execution_count": 13,
   "id": "e5ad3b40-494c-487e-92f3-07ef3d0c18ac",
   "metadata": {},
   "outputs": [
    {
     "data": {
      "text/plain": [
       "{2, 6}"
      ]
     },
     "execution_count": 13,
     "metadata": {},
     "output_type": "execute_result"
    }
   ],
   "source": [
    "A & B"
   ]
  },
  {
   "cell_type": "code",
   "execution_count": 14,
   "id": "7f166478-bf35-4d5c-b46c-cea079532433",
   "metadata": {},
   "outputs": [
    {
     "data": {
      "text/plain": [
       "{0, 2, 3, 4, 5, 6, 7, 8, 10}"
      ]
     },
     "execution_count": 14,
     "metadata": {},
     "output_type": "execute_result"
    }
   ],
   "source": [
    "A|B"
   ]
  },
  {
   "attachments": {
    "d1da745b-e9bd-4d56-a9ee-32b939209e94.jpg": {
     "image/jpeg": "[encoded data removed]"
    }
   },
   "cell_type": "markdown",
   "id": "662efeb1-23fe-4df2-b919-3f25bc129773",
   "metadata": {},
   "source": [
    "## <span style = 'color:purple'>Q8. What do you understand about skewness in data?\n",
    " \n",
    "Skewness is a measure of the asymmetry or departure from symmetry in a probability distribution or dataset. It provides information about the shape and distribution of the data.\n",
    "    \n",
    "![download.jpg](attachment:d1da745b-e9bd-4d56-a9ee-32b939209e94.jpg)\n",
    "    \n",
    "Positive Skewness (Right Skewness): In a positively skewed distribution, the tail on the right side of the distribution is longer or more pronounced than the left tail. This means that the majority of the data is concentrated on the left side of the distribution, while a few extreme values are present on the right side.\n",
    "\n",
    "Negative Skewness (Left Skewness): In a negatively skewed distribution, the tail on the left side of the distribution is longer or more pronounced than the right tail. This indicates that the majority of the data is concentrated on the right side of the distribution, while a few extreme values exist on the left side.\n",
    "\n",
    "Zero Skewness: A distribution with zero skewness is perfectly symmetric, where the left and right tails are equally balanced."
   ]
  },
  {
   "cell_type": "markdown",
   "id": "0c2020e2-b1c1-4d15-8862-91b25bab5671",
   "metadata": {},
   "source": [
    "## <span style = 'color:purple'> Q9. If a data is right skewed then what will be the position of median with respect to mean?\n",
    "    \n",
    "##      mean> median> mode.\n",
    "    \n",
    "If a data is right skewed, then the mean will be greater than the median. This is because the mean is affected by outliers, while the median is not. In a right skewed distribution, there will be a few very large values that pull the mean to the right. The median, on the other hand, is not affected by outliers, so it will be closer to the center of the distribution.\n",
    "    "
   ]
  },
  {
   "cell_type": "code",
   "execution_count": 15,
   "id": "a7f37c5e-dd5d-4e69-a3fd-e55abc456f43",
   "metadata": {},
   "outputs": [],
   "source": [
    "snippet=[1, 2, 3, 4, 5,6, 7, 8, 9, 10, 100]"
   ]
  },
  {
   "cell_type": "code",
   "execution_count": 16,
   "id": "3dcbed4c-98ad-48f0-bb90-cca1939ef182",
   "metadata": {},
   "outputs": [],
   "source": [
    "ls=[1,2,3,4,5,6,7,8,9,10]"
   ]
  },
  {
   "cell_type": "markdown",
   "id": "359d9a0c-ba43-458d-aa04-9fa582786af6",
   "metadata": {},
   "source": [
    "CHECKING MEAN"
   ]
  },
  {
   "cell_type": "code",
   "execution_count": 17,
   "id": "c3218055-d5d9-44c4-bb02-37cec6487550",
   "metadata": {},
   "outputs": [
    {
     "data": {
      "text/plain": [
       "14.090909090909092"
      ]
     },
     "execution_count": 17,
     "metadata": {},
     "output_type": "execute_result"
    }
   ],
   "source": [
    "import numpy as np\n",
    "np.mean(snippet)"
   ]
  },
  {
   "cell_type": "code",
   "execution_count": 18,
   "id": "ac1e4b13-f37f-4952-86ce-dc449347f102",
   "metadata": {},
   "outputs": [
    {
     "data": {
      "text/plain": [
       "5.5"
      ]
     },
     "execution_count": 18,
     "metadata": {},
     "output_type": "execute_result"
    }
   ],
   "source": [
    "np.mean(ls)"
   ]
  },
  {
   "cell_type": "markdown",
   "id": "ee1b553e-7dba-4086-94a0-35f0a629f52a",
   "metadata": {},
   "source": [
    "CHECKING MEDIAN"
   ]
  },
  {
   "cell_type": "code",
   "execution_count": 19,
   "id": "207f8255-0ae9-40d4-812a-3e5acf150523",
   "metadata": {},
   "outputs": [
    {
     "data": {
      "text/plain": [
       "6.0"
      ]
     },
     "execution_count": 19,
     "metadata": {},
     "output_type": "execute_result"
    }
   ],
   "source": [
    "np.median(snippet)"
   ]
  },
  {
   "cell_type": "code",
   "execution_count": 20,
   "id": "1bdca63b-a306-4661-b747-58c2f30161a8",
   "metadata": {},
   "outputs": [
    {
     "data": {
      "text/plain": [
       "5.5"
      ]
     },
     "execution_count": 20,
     "metadata": {},
     "output_type": "execute_result"
    }
   ],
   "source": [
    "np.median(ls)"
   ]
  },
  {
   "cell_type": "markdown",
   "id": "9bf6d6b3-012a-4173-aad1-942cccce2b31",
   "metadata": {},
   "source": [
    "the mean is pulled to the right by the outlier of 100. The median, on the other hand, is not affected by the outlier, so it is closer to the center of the distribution."
   ]
  },
  {
   "cell_type": "markdown",
   "id": "95348b06-bcc9-4f59-b3ae-08555d1f9b97",
   "metadata": {},
   "source": [
    "## <span style = 'color:purple'>Q10. Explain the difference between covariance and correlation. How are these measures used in statistical analysis?"
   ]
  },
  {
   "cell_type": "markdown",
   "id": "48a63775-5b6e-4b0d-9f8b-8e31e19e99eb",
   "metadata": {},
   "source": [
    "Covariance and correlation are both measures of the relationship between two variables. However, they measure different things.\n",
    "\n",
    "Covariance measures the extent to which two variables vary together. It can be positive, negative, or zero. A positive covariance indicates that the variables tend to move in the same direction, while a negative covariance indicates that they tend to move in opposite directions. A zero covariance indicates that there is no linear relationship between the variables.\n",
    "\n",
    "Correlation is a standardized measure of covariance. This means that it is not affected by the scale of the variables. Correlation can range from -1 to +1. A correlation of +1 indicates a perfect positive linear relationship, a correlation of -1 indicates a perfect negative linear relationship, and a correlation of 0 indicates no linear relationship.\n",
    "Covariance and correlation are both used in statistical analysis. Covariance is often used in regression analysis, while correlation is often used in hypothesis testing and exploratory data analysis.\n",
    "\n",
    "Here are some examples of how covariance and correlation are used in statistical analysis:\n",
    "\n",
    "Regression analysis is a statistical method that uses one or more independent variables to predict a dependent variable. Covariance is often used in regression analysis to measure the strength of the relationship between the independent and dependent variables.\n",
    "\n",
    "Hypothesis testing is a statistical method that is used to determine whether there is a significant difference between two or more groups. Correlation can be used in hypothesis testing to determine whether there is a significant relationship between two variables.\n",
    "\n",
    "Exploratory data analysis is a statistical method that is used to explore the data and to identify patterns and relationships. Correlation can be used in exploratory data analysis to identify relationships between variables."
   ]
  },
  {
   "cell_type": "markdown",
   "id": "e281e03c-75f0-4264-958f-e9543dc686ef",
   "metadata": {},
   "source": [
    "## <span style = 'color:purple'>Q11. What is the formula for calculating the sample mean? Provide an example calculation for a dataset.\n",
    "    \n",
    "## $\\overline{x} = \\frac{\\sum_{i=1}^n x_i}{n}$\n",
    "    \n",
    "##    Data :\n",
    "### $x_1 = 1$, $x_2 = 2$,  $x_3 = 3$,  $x_4 = 4$\n",
    "    \n",
    "### $\\overline{x} = \\frac{1 + 2 + 3 + 4}{4} = 2.5$"
   ]
  },
  {
   "attachments": {
    "338a866a-59f9-4348-ac94-c5fa637ab13f.jpg": {
     "image/jpeg": "[encoded data removed]"
    }
   },
   "cell_type": "markdown",
   "id": "59b563dd-ba32-430e-b965-8fdeb6e1fea7",
   "metadata": {},
   "source": [
    "## <span style = 'color:purple'> Q12. For a normal distribution data what is the relationship between its measure of central tendency?\n",
    "\n",
    "The relationship between the measures of central tendency in a normal distribution is that they are all equal. This is because a normal distribution is symmetrical, meaning that the mean, median, and mode are all located in the center of the distribution. As a result, they all represent the same value.\n",
    "\n",
    "![images.jpg](attachment:338a866a-59f9-4348-ac94-c5fa637ab13f.jpg)"
   ]
  },
  {
   "cell_type": "markdown",
   "id": "d83336c9-f0cf-4bc7-8ac4-6a09ff967739",
   "metadata": {},
   "source": [
    "## <span style = 'color:purple'>Q13. How is covariance different from correlation?\n",
    "Covariance measures the extent to which two variables vary together. It can be positive, negative, or zero. A positive covariance indicates that the variables tend to move in the same direction, while a negative covariance indicates that they tend to move in opposite directions. A zero covariance indicates that there is no linear relationship between the variables.\n",
    "\n",
    "Correlation is a standardized measure of covariance. This means that it is not affected by the scale of the variables. Correlation can range from -1 to +1. A correlation of +1 indicates a perfect positive linear relationship, a correlation of -1 indicates a perfect negative linear relationship, and a correlation of 0 indicates no linear relationship."
   ]
  },
  {
   "cell_type": "markdown",
   "id": "45bec541-4dd5-4928-a3d7-d25b8a2df3c8",
   "metadata": {},
   "source": [
    "## <span style = 'color:purple'>Q14. How do outliers affect measures of central tendency and dispersion? Provide an example.\n",
    "\n",
    "Outliers are data points that are very different from the rest of the data. They can affect measures of central tendency and dispersion in a number of ways.\n",
    "\n",
    "* **Mean** : The mean is the average of all the data points. Outliers can cause the mean to be pulled in the direction of the outlier. For example, if we have a dataset of heights with an average of 5'8\" and one outlier of 7'2\", the mean will be 6'0\".\n",
    "    \n",
    "* **Median** : The median is the middle value of the data points, when they are arranged in increasing or decreasing order. Outliers do not affect the median. For example, if we have a dataset of heights with a median of 5'8\" and one outlier of 7'2\", the median will still be 5'8\".\n",
    "    \n",
    "* **Mode** : The mode is the value that appears most often in the data set. Outliers can affect the mode, but not always. For example, if we have a dataset of heights with a mode of 5'8\" and one outlier of 7'2\", the mode may still be 5'8\". However, if the outlier is very different from the rest of the data, it may be the mode instead.\n",
    "    \n",
    "* **Range** : The range is the difference between the largest and smallest values in the data set. Outliers can increase the range. For example, if we have a dataset of heights with a range of 6\", and one outlier of 7'2\", the range will be 72\".\n",
    "    \n",
    "* **Standard deviation** : The standard deviation is a measure of how spread out the data is. Outliers can increase the standard deviation. For example, if we have a dataset of heights with a standard deviation of 2\", and one outlier of 7'2\", the standard deviation will be 3\".\n",
    "\n",
    "In general, outliers can make it more difficult to interpret data. It is important to identify outliers and to decide whether or not to remove them from the data set."
   ]
  },
  {
   "cell_type": "markdown",
   "id": "9ce2aa98-a85d-404a-a746-002513ab0dc6",
   "metadata": {},
   "source": [
    "## THE END."
   ]
  },
  {
   "cell_type": "code",
   "execution_count": null,
   "id": "daf6f601-58e4-4898-8972-7fbb706dd61b",
   "metadata": {},
   "outputs": [],
   "source": []
  }
 ],
 "metadata": {
  "kernelspec": {
   "display_name": "Python 3 (ipykernel)",
   "language": "python",
   "name": "python3"
  },
  "language_info": {
   "codemirror_mode": {
    "name": "ipython",
    "version": 3
   },
   "file_extension": ".py",
   "mimetype": "text/x-python",
   "name": "python",
   "nbconvert_exporter": "python",
   "pygments_lexer": "ipython3",
   "version": "3.10.8"
  }
 },
 "nbformat": 4,
 "nbformat_minor": 5
}
